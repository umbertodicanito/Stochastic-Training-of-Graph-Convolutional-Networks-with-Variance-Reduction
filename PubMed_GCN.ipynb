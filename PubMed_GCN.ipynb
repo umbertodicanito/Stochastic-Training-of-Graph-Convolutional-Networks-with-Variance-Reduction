{
  "nbformat": 4,
  "nbformat_minor": 0,
  "metadata": {
    "kernelspec": {
      "name": "python3",
      "display_name": "Python 3"
    },
    "language_info": {
      "codemirror_mode": {
        "name": "ipython",
        "version": 3
      },
      "file_extension": ".py",
      "mimetype": "text/x-python",
      "name": "python",
      "nbconvert_exporter": "python",
      "pygments_lexer": "ipython3",
      "version": "3.7.3"
    },
    "colab": {
      "name": "PubMed_GCN.ipynb",
      "provenance": [],
      "collapsed_sections": [],
      "include_colab_link": true
    },
    "accelerator": "GPU"
  },
  "cells": [
    {
      "cell_type": "markdown",
      "metadata": {
        "id": "view-in-github",
        "colab_type": "text"
      },
      "source": [
        "<a href=\"https://colab.research.google.com/github/umbertodicanito/Stochastic-Training-of-Graph-Convolutional-Networks-with-Variance-Reduction/blob/master/PubMed_GCN.ipynb\" target=\"_parent\"><img src=\"https://colab.research.google.com/assets/colab-badge.svg\" alt=\"Open In Colab\"/></a>"
      ]
    },
    {
      "cell_type": "code",
      "metadata": {
        "id": "inaEyeyeN3mP",
        "colab_type": "code",
        "colab": {}
      },
      "source": [
        "%matplotlib inline"
      ],
      "execution_count": 0,
      "outputs": []
    },
    {
      "cell_type": "markdown",
      "metadata": {
        "id": "W4C3py11yrk_",
        "colab_type": "text"
      },
      "source": [
        "#Imports"
      ]
    },
    {
      "cell_type": "code",
      "metadata": {
        "id": "xh4yOJOUN5kV",
        "colab_type": "code",
        "outputId": "8bdc4ff2-be63-411f-b7ec-5b400b3ba4be",
        "colab": {
          "base_uri": "https://localhost:8080/",
          "height": 190
        }
      },
      "source": [
        "!pip install dgl"
      ],
      "execution_count": 0,
      "outputs": [
        {
          "output_type": "stream",
          "text": [
            "Collecting dgl\n",
            "\u001b[?25l  Downloading https://files.pythonhosted.org/packages/e4/ba/d15ce7fb56958f21d4e9815f96344d92c4982f3fb933a0e987e78cb787e5/dgl-0.4.1-cp36-cp36m-manylinux1_x86_64.whl (2.4MB)\n",
            "\u001b[K     |████████████████████████████████| 2.4MB 2.6MB/s \n",
            "\u001b[?25hRequirement already satisfied: scipy>=1.1.0 in /usr/local/lib/python3.6/dist-packages (from dgl) (1.3.3)\n",
            "Requirement already satisfied: networkx>=2.1 in /usr/local/lib/python3.6/dist-packages (from dgl) (2.4)\n",
            "Requirement already satisfied: numpy>=1.14.0 in /usr/local/lib/python3.6/dist-packages (from dgl) (1.17.4)\n",
            "Requirement already satisfied: decorator>=4.3.0 in /usr/local/lib/python3.6/dist-packages (from networkx>=2.1->dgl) (4.4.1)\n",
            "Installing collected packages: dgl\n",
            "Successfully installed dgl-0.4.1\n"
          ],
          "name": "stdout"
        }
      ]
    },
    {
      "cell_type": "code",
      "metadata": {
        "id": "oVHZxjokN3mX",
        "colab_type": "code",
        "colab": {}
      },
      "source": [
        "import dgl\n",
        "import dgl.function as fn\n",
        "import torch as th\n",
        "import torch.nn as nn\n",
        "import torch.nn.functional as F\n",
        "import numpy as np\n",
        "import random\n",
        "from dgl import DGLGraph\n",
        "from google.colab import files\n",
        "import warnings\n",
        "import matplotlib.pyplot as plt\n",
        "\n",
        "gcn_msg = fn.copy_src(src='h', out='m')\n",
        "gcn_reduce = fn.sum(msg='m', out='h')"
      ],
      "execution_count": 0,
      "outputs": []
    },
    {
      "cell_type": "markdown",
      "metadata": {
        "id": "QbLw1KjvIXxt",
        "colab_type": "text"
      },
      "source": [
        "#Building matrices for algorithm 1 execution"
      ]
    },
    {
      "cell_type": "code",
      "metadata": {
        "id": "Us006QFON3ml",
        "colab_type": "code",
        "outputId": "9ea48167-fe36-4463-ce54-706970f5140b",
        "colab": {
          "base_uri": "https://localhost:8080/",
          "height": 204
        }
      },
      "source": [
        "from dgl.data import citation_graph as citegrh\n",
        "import networkx as nx\n",
        "def load_pubmed_data():\n",
        "    data = citegrh.load_pubmed()\n",
        "    features = th.FloatTensor(data.features)\n",
        "    labels = th.LongTensor(data.labels)\n",
        "    mask = th.ByteTensor(data.train_mask)\n",
        "    g = data.graph\n",
        "    print(g)\n",
        "    # add self loop\n",
        "    g.remove_edges_from(nx.selfloop_edges(g))\n",
        "    g = DGLGraph(g)\n",
        "    g.add_edges(g.nodes(), g.nodes())\n",
        "    return g, features, labels, mask\n",
        "    \n",
        "#get data\n",
        "g, features, labels, mask = load_pubmed_data()"
      ],
      "execution_count": 0,
      "outputs": [
        {
          "output_type": "stream",
          "text": [
            "Downloading /root/.dgl/pubmed.zip from https://s3.us-east-2.amazonaws.com/dgl.ai/dataset/pubmed.zip...\n",
            "Extracting file to /root/.dgl/pubmed\n",
            "Finished data loading and preprocessing.\n",
            "  NumNodes: 19717\n",
            "  NumEdges: 88651\n",
            "  NumFeats: 500\n",
            "  NumClasses: 3\n",
            "  NumTrainingSamples: 60\n",
            "  NumValidationSamples: 500\n",
            "  NumTestSamples: 1000\n",
            "\n"
          ],
          "name": "stdout"
        }
      ]
    },
    {
      "cell_type": "markdown",
      "metadata": {
        "id": "vv2IXZxXbUuy",
        "colab_type": "text"
      },
      "source": [
        "`deg_matrix` is the diagonal degree matrix.\n",
        "This means that the degree of a node `'v'` with value `'d'`, is stored at `D[u][u]=d`, whereas all the other values of the matrix (except the diagonal) are equal to 0."
      ]
    },
    {
      "cell_type": "code",
      "metadata": {
        "id": "D6-kv5AzIcsG",
        "colab_type": "code",
        "colab": {}
      },
      "source": [
        "def createMatrixP():\n",
        "  import math\n",
        "  deg_matrix = th.tensor(np.zeros((19717,19717)))\n",
        "  print(\"Constructing the degree matrix...\")\n",
        "  for i in range(19717):\n",
        "    d = len(g.adjacency_matrix()[i]._indices()[0])\n",
        "    deg_matrix[i][i] = math.pow(d,-0.5)\n",
        "\n",
        "  print(\"Computing matrix P...\")\n",
        "  p = th.mm(th.mm(deg_matrix.float(),g.adjacency_matrix().to_dense().float()),deg_matrix.float())\n",
        "  print(\"Matrix P has shape of:\")\n",
        "  print(p.shape)\n",
        "  return p"
      ],
      "execution_count": 0,
      "outputs": []
    },
    {
      "cell_type": "markdown",
      "metadata": {
        "id": "THUMmsrHbPnT",
        "colab_type": "text"
      },
      "source": [
        "This is the propagation matrix P"
      ]
    },
    {
      "cell_type": "code",
      "metadata": {
        "id": "2RJv6E9_az-g",
        "colab_type": "code",
        "outputId": "03b3ca37-2e15-4aa0-d8e9-5c642aabb364",
        "colab": {
          "base_uri": "https://localhost:8080/",
          "height": 139
        }
      },
      "source": [
        "P = createMatrixP()"
      ],
      "execution_count": 0,
      "outputs": [
        {
          "output_type": "stream",
          "text": [
            "Constructing the degree matrix...\n"
          ],
          "name": "stdout"
        },
        {
          "output_type": "stream",
          "text": [
            "/usr/local/lib/python3.6/dist-packages/dgl/base.py:25: UserWarning: Currently adjacency_matrix() returns a matrix with destination as rows by default.  In 0.5 the result will have source as rows (i.e. transpose=True)\n",
            "  warnings.warn(msg, warn_type)\n"
          ],
          "name": "stderr"
        },
        {
          "output_type": "stream",
          "text": [
            "Computing matrix P...\n",
            "Matrix P has shape of:\n",
            "torch.Size([19717, 19717])\n"
          ],
          "name": "stdout"
        }
      ]
    },
    {
      "cell_type": "markdown",
      "metadata": {
        "id": "3wjPK7kubzpg",
        "colab_type": "text"
      },
      "source": [
        "The object `g` allows us to get more easily the neighboors nodes.\n"
      ]
    },
    {
      "cell_type": "code",
      "metadata": {
        "id": "SQ-KmVf99CMB",
        "colab_type": "code",
        "outputId": "38d391a8-8515-42f0-879f-22c429c6ca87",
        "colab": {
          "base_uri": "https://localhost:8080/",
          "height": 51
        }
      },
      "source": [
        "warnings.filterwarnings('ignore')\n",
        "r = random.randint(0,19716)\n",
        "print(\"Node \" + str(r))\n",
        "g.adjacency_matrix()[r]._indices()[0]"
      ],
      "execution_count": 0,
      "outputs": [
        {
          "output_type": "stream",
          "text": [
            "Node 17222\n"
          ],
          "name": "stdout"
        },
        {
          "output_type": "execute_result",
          "data": {
            "text/plain": [
              "tensor([ 7712, 15025, 16747, 17222])"
            ]
          },
          "metadata": {
            "tags": []
          },
          "execution_count": 8
        }
      ]
    },
    {
      "cell_type": "code",
      "metadata": {
        "id": "Y8fm-73C-T-D",
        "colab_type": "code",
        "outputId": "ccffcd90-de7c-4c88-8dd3-440db8a7a546",
        "colab": {
          "base_uri": "https://localhost:8080/",
          "height": 51
        }
      },
      "source": [
        "a = list(g.adjacency_matrix()[r]._indices()[0].numpy())\n",
        "a.remove(r)\n",
        "print(type(a))\n",
        "print(a)"
      ],
      "execution_count": 0,
      "outputs": [
        {
          "output_type": "stream",
          "text": [
            "<class 'list'>\n",
            "[7712, 15025, 16747]\n"
          ],
          "name": "stdout"
        }
      ]
    },
    {
      "cell_type": "markdown",
      "metadata": {
        "id": "fNOMUjH6b_Px",
        "colab_type": "text"
      },
      "source": [
        "This is a simple method used to transforma a list into a torch.Tensor object corresponding to a mask."
      ]
    },
    {
      "cell_type": "code",
      "metadata": {
        "id": "TETrYuIvCrij",
        "colab_type": "code",
        "colab": {}
      },
      "source": [
        "def createMask(array):\n",
        "  a = []\n",
        "  for i in range(19717):\n",
        "    if i in array:\n",
        "      a.append(1)\n",
        "    else:\n",
        "      a.append(0)\n",
        "  m = th.ByteTensor(a)\n",
        "  return m"
      ],
      "execution_count": 0,
      "outputs": []
    },
    {
      "cell_type": "code",
      "metadata": {
        "id": "0Z8ub6L6I1Wu",
        "colab_type": "code",
        "outputId": "71d4aa24-e540-468e-a60f-6c6620930ae4",
        "colab": {
          "base_uri": "https://localhost:8080/",
          "height": 71
        }
      },
      "source": [
        "plain_deg_matrix = np.zeros(19717)\n",
        "for i in range(19717):\n",
        "  d = len(g.adjacency_matrix()[i]._indices()[0])\n",
        "  plain_deg_matrix[i] = d"
      ],
      "execution_count": 0,
      "outputs": [
        {
          "output_type": "stream",
          "text": [
            "/usr/local/lib/python3.6/dist-packages/dgl/base.py:25: UserWarning: Currently adjacency_matrix() returns a matrix with destination as rows by default.  In 0.5 the result will have source as rows (i.e. transpose=True)\n",
            "  warnings.warn(msg, warn_type)\n"
          ],
          "name": "stderr"
        }
      ]
    },
    {
      "cell_type": "markdown",
      "metadata": {
        "id": "3nJTtgo-w2MU",
        "colab_type": "text"
      },
      "source": [
        "#Implementing algorithm 1"
      ]
    },
    {
      "cell_type": "markdown",
      "metadata": {
        "id": "taLcl787s7zF",
        "colab_type": "text"
      },
      "source": [
        "The following algorithm is used in order to retrive the receptive fields of each layer and the propagation matrices for each layer, just for the selected minibath of nodes.\n",
        "\n",
        "The algorithm is used in algorithm for training with CV and CVD approaches.\n",
        "\n",
        "Pseudo-code:\n",
        "\n",
        "\n",
        "\n",
        "```\n",
        "r_L = V_B\n",
        "for layer l = L - 1 to 0 do\n",
        "  r_l = 0\n",
        "  P'_l = 0\n",
        "  for each node u in r_l+1 do\n",
        "    r_l = r_l + {u}\n",
        "    P'_uu^l = P'_uu^l + P_uu*n(u)/D_l\n",
        "    for D_l - 1 random neighbors v in n(u) do\n",
        "      r_l = r_l + {v}\n",
        "      P'_uv^l = P'_uv^l + P_uv*n(u)/D_l\n",
        "    end for\n",
        "  end for\n",
        "end for\n",
        "```\n",
        "where\n",
        "\n",
        "\n",
        "*   r_L: the receptive field of layer L\n",
        "*   V_B: the minibatch set (a subset of nodes)\n",
        "*   P'_l: propagation matrix of the layer l\n",
        "*   P'_uv^l = P_uv^l * n(u)/D_l, if v is in n'(u)_l, otherwise 0\n",
        "*   n(u): neighbors of u\n",
        "*   n'(u): random subset of n(u)\n",
        "*   D_l: neighbors for each node at layer l\n",
        "\n",
        "Notice that, since we do not use MINIbatches, n(u)/D_l is always equal to 1.\n",
        "\n"
      ]
    },
    {
      "cell_type": "code",
      "metadata": {
        "colab_type": "code",
        "id": "-xBNuIIBfhdd",
        "colab": {}
      },
      "source": [
        "import time\n",
        "#implementation of the above algorithm#\n",
        "\n",
        "#minibatch = th.ByteTensor(...) of 0,1 boolean (it is a mask)\n",
        "\n",
        "#returning: the receptive fields and the propagation matrices\n",
        "def algOne(minibatch):\n",
        "  t0 = time.time()\n",
        "  rL = minibatch\n",
        "  l = 2\n",
        "  n = 2\n",
        "\n",
        "  receptiveField = dict()\n",
        "  propagationMatrix = dict()\n",
        "\n",
        "  receptiveField[l] = rL\n",
        "\n",
        "  diffZero = dict()\n",
        "  values = dict()\n",
        "\n",
        "  #first for-loop\n",
        "  while l > 0:\n",
        "    #init\n",
        "    field = []\n",
        "    #second for-loop\n",
        "    k = 0\n",
        "    for nodeValue in receptiveField[l]:\n",
        "      if nodeValue == 1:\n",
        "        node = k\n",
        "\n",
        "        if node not in field:\n",
        "          field.append(node)\n",
        "\n",
        "        toAdd = P[node][node] * plain_deg_matrix[node] / n\n",
        "\n",
        "        if node not in diffZero:\n",
        "          diffZero[node] = []\n",
        "          values[node] = dict()\n",
        "        if node not in diffZero[node]:\n",
        "          diffZero[node].append(node)\n",
        "          values[node][node] = 0\n",
        "        \n",
        "        values[node][node] = values[node][node] + toAdd\n",
        "\n",
        "        #collecting n random neighbor\n",
        "        subset = []\n",
        "        a = list(g.adjacency_matrix()[node]._indices()[0].numpy())\n",
        "        a.remove(node)\n",
        "        if len(a) <= n:\n",
        "          subset = a\n",
        "        else:\n",
        "          subset = random.sample(a, k=n)\n",
        "\n",
        "        #last for-loop\n",
        "        for neighbor in subset:\n",
        "          if neighbor not in field:\n",
        "            field.append(neighbor)\n",
        "\n",
        "          toAddForNeighbor = P[node][neighbor] * plain_deg_matrix[node]/ n\n",
        "\n",
        "          if neighbor not in diffZero[node]:\n",
        "            diffZero[node].append(neighbor)\n",
        "            values[node][neighbor] = 0\n",
        "          values[node][neighbor] = values[node][neighbor] + toAddForNeighbor\n",
        "      k = k + 1\n",
        "      \n",
        "    #updating level\n",
        "    l = l - 1\n",
        "\n",
        "    #convert field (array of nodes) to a mask\n",
        "    receptiveField[l] = createMask(field).detach()\n",
        "\n",
        "    #creating sparse matrix\n",
        "    X = []\n",
        "    Y = []\n",
        "    V = []\n",
        "    for x in diffZero:\n",
        "      for y in diffZero[x]:\n",
        "        X.append(x)\n",
        "        Y.append(y)\n",
        "        V.append(values[x][y])\n",
        "      \n",
        "    index = th.LongTensor([X,Y])\n",
        "    valuesOfProp = th.FloatTensor(V)\n",
        "    propagationMatrix[l] = th.sparse.FloatTensor(index, valuesOfProp, th.Size([19717,19717]))\n",
        "  \n",
        "  #print(time.time() - t0)\n",
        "  return [receptiveField, propagationMatrix]"
      ],
      "execution_count": 0,
      "outputs": []
    },
    {
      "cell_type": "markdown",
      "metadata": {
        "id": "YLyJPLrTjKky",
        "colab_type": "text"
      },
      "source": [
        "Testing algorithm one:"
      ]
    },
    {
      "cell_type": "code",
      "metadata": {
        "id": "wDs2Q7PxjJ_v",
        "colab_type": "code",
        "outputId": "adbdcbcb-179a-49bc-d31e-eff53f078581",
        "colab": {
          "base_uri": "https://localhost:8080/",
          "height": 88
        }
      },
      "source": [
        "import time\n",
        "\n",
        "t0 = time.time()\n",
        "res = algOne(mask)\n",
        "print(time.time()-t0)"
      ],
      "execution_count": 0,
      "outputs": [
        {
          "output_type": "stream",
          "text": [
            "/usr/local/lib/python3.6/dist-packages/dgl/base.py:25: UserWarning: Currently adjacency_matrix() returns a matrix with destination as rows by default.  In 0.5 the result will have source as rows (i.e. transpose=True)\n",
            "  warnings.warn(msg, warn_type)\n"
          ],
          "name": "stderr"
        },
        {
          "output_type": "stream",
          "text": [
            "1.8744902610778809\n"
          ],
          "name": "stdout"
        }
      ]
    },
    {
      "cell_type": "markdown",
      "metadata": {
        "id": "D1GVRCyIN3mW",
        "colab_type": "text"
      },
      "source": [
        "#Model\n"
      ]
    },
    {
      "cell_type": "markdown",
      "metadata": {
        "id": "IrKmDjqXcIuC",
        "colab_type": "text"
      },
      "source": [
        "Some commond parameters used to train the NN"
      ]
    },
    {
      "cell_type": "code",
      "metadata": {
        "id": "45EUaxAcD04F",
        "colab_type": "code",
        "colab": {}
      },
      "source": [
        "n_of_training_cycles = 10\n",
        "n_of_epochs = 65"
      ],
      "execution_count": 0,
      "outputs": []
    },
    {
      "cell_type": "markdown",
      "metadata": {
        "id": "45QJRof3cNIN",
        "colab_type": "text"
      },
      "source": [
        "This methods creates some random masks."
      ]
    },
    {
      "cell_type": "code",
      "metadata": {
        "id": "AVcFLcl8V8vY",
        "colab_type": "code",
        "outputId": "0c188afe-0682-406e-c970-01edb6a447b3",
        "colab": {
          "base_uri": "https://localhost:8080/",
          "height": 34
        }
      },
      "source": [
        "#random mask\n",
        "masks = []\n",
        "n_masks = 10\n",
        "size_masks = 100\n",
        "a = range(19717)\n",
        "for i in range(n_masks):\n",
        "  mask = np.zeros(19717)\n",
        "  sub = random.sample(a,k=size_masks)\n",
        "  for s in sub:\n",
        "    mask[s] = 1\n",
        "  m = th.ByteTensor(mask)\n",
        "  masks.append(m)\n",
        "\n",
        "print(\"Generated \" + str(n_masks) + \" random masks with size \" + str(size_masks))"
      ],
      "execution_count": 0,
      "outputs": [
        {
          "output_type": "stream",
          "text": [
            "Generated 10 random masks with size 100\n"
          ],
          "name": "stdout"
        }
      ]
    },
    {
      "cell_type": "markdown",
      "metadata": {
        "id": "IgeKlv_CN3ma",
        "colab_type": "text"
      },
      "source": [
        "We then define the node UDF for ``apply_nodes``, which is a fully-connected layer:\n",
        "\n"
      ]
    },
    {
      "cell_type": "code",
      "metadata": {
        "id": "xcTM-w1gN3mb",
        "colab_type": "code",
        "colab": {}
      },
      "source": [
        "class NodeApplyModule(nn.Module):\n",
        "    def __init__(self, in_feats, out_feats, activation):\n",
        "        super(NodeApplyModule, self).__init__()\n",
        "        self.linear = nn.Linear(in_feats, out_feats)\n",
        "        self.activation = activation\n",
        "\n",
        "    def forward(self, node):\n",
        "        z = self.linear(node.data['h'])\n",
        "        h = self.activation(z)\n",
        "        return {'h' : h}"
      ],
      "execution_count": 0,
      "outputs": []
    },
    {
      "cell_type": "markdown",
      "metadata": {
        "id": "lD1DNkN8N3md",
        "colab_type": "text"
      },
      "source": [
        "We then proceed to define the GCN module. A GCN layer essentially performs\n",
        "message passing on all the nodes then applies the `NodeApplyModule`. Note\n",
        "that we omitted the dropout in the paper for simplicity.\n",
        "\n"
      ]
    },
    {
      "cell_type": "code",
      "metadata": {
        "id": "dQy_eUuWN3me",
        "colab_type": "code",
        "colab": {}
      },
      "source": [
        "class GCN(nn.Module):\n",
        "    def __init__(self, in_feats, out_feats, activation):\n",
        "        super(GCN, self).__init__()\n",
        "        self.apply_mod = NodeApplyModule(in_feats, out_feats, activation)\n",
        "\n",
        "    def forward(self, g, feature):\n",
        "        g.ndata['h'] = feature\n",
        "        g.update_all(gcn_msg, gcn_reduce)\n",
        "        g.apply_nodes(func=self.apply_mod)\n",
        "        return g.ndata.pop('h')"
      ],
      "execution_count": 0,
      "outputs": []
    },
    {
      "cell_type": "markdown",
      "metadata": {
        "id": "QEMMI4CXN3mh",
        "colab_type": "text"
      },
      "source": [
        "The forward function is essentially the same as any other commonly seen NNs\n",
        "model in PyTorch.  We can initialize GCN like any ``nn.Module``. For example,\n",
        "let's define a simple neural network consisting of two GCN layers. Suppose we\n",
        "are training the classifier for the PubMed dataset (the input feature size is\n",
        "1433 and the number of classes is 7).\n",
        "\n"
      ]
    },
    {
      "cell_type": "code",
      "metadata": {
        "id": "vVVOgunmN3mh",
        "colab_type": "code",
        "outputId": "788ce14d-126e-40e9-fb4a-e9b14000157b",
        "colab": {
          "base_uri": "https://localhost:8080/",
          "height": 221
        }
      },
      "source": [
        "class Net(nn.Module):\n",
        "    def __init__(self):\n",
        "        super(Net, self).__init__()\n",
        "        self.gcn1 = GCN(500, 16, F.relu)\n",
        "        self.gcn2 = GCN(16, 3, F.relu)\n",
        "\n",
        "    def forward(self, g, features):\n",
        "        x = self.gcn1(g, features)\n",
        "        x = self.gcn2(g, x)\n",
        "        return x\n",
        "        \n",
        "net = Net()\n",
        "print(net)"
      ],
      "execution_count": 0,
      "outputs": [
        {
          "output_type": "stream",
          "text": [
            "Net(\n",
            "  (gcn1): GCN(\n",
            "    (apply_mod): NodeApplyModule(\n",
            "      (linear): Linear(in_features=500, out_features=16, bias=True)\n",
            "    )\n",
            "  )\n",
            "  (gcn2): GCN(\n",
            "    (apply_mod): NodeApplyModule(\n",
            "      (linear): Linear(in_features=16, out_features=3, bias=True)\n",
            "    )\n",
            "  )\n",
            ")\n"
          ],
          "name": "stdout"
        }
      ]
    },
    {
      "cell_type": "markdown",
      "metadata": {
        "id": "6V5DJfryN3mk",
        "colab_type": "text"
      },
      "source": [
        "We load the PubMed dataset using DGL's built-in data module.\n",
        "\n"
      ]
    },
    {
      "cell_type": "markdown",
      "metadata": {
        "id": "tFzGHVDwN3mn",
        "colab_type": "text"
      },
      "source": [
        "We then train the network as follows:\n",
        "\n"
      ]
    },
    {
      "cell_type": "markdown",
      "metadata": {
        "id": "m9z-t8-jmRLM",
        "colab_type": "text"
      },
      "source": [
        "This is the implementation of a standard GCN with 2 layers (+ 1 input layer). "
      ]
    },
    {
      "cell_type": "markdown",
      "metadata": {
        "id": "F0RwjiSi5Fz5",
        "colab_type": "text"
      },
      "source": [
        "TEST --------------------------------------"
      ]
    },
    {
      "cell_type": "markdown",
      "metadata": {
        "id": "lJSEARJJ9MWr",
        "colab_type": "text"
      },
      "source": [
        "In order to get the most effective learning rate for the CiteSeer set, running these cells multiple times will show comparison of performance between 4 different learning rates."
      ]
    },
    {
      "cell_type": "code",
      "metadata": {
        "id": "53dK1Oeb6gwC",
        "colab_type": "code",
        "colab": {}
      },
      "source": [
        "lrAccTest = dict()\n",
        "lrLossTest = dict()"
      ],
      "execution_count": 0,
      "outputs": []
    },
    {
      "cell_type": "code",
      "metadata": {
        "colab_type": "code",
        "id": "sAwautQX5zYG",
        "colab": {}
      },
      "source": [
        "def updatePoints(index,accCS,lossCS, acc, loss):\n",
        "  accPointsTest = [0]*30\n",
        "  lossPointsTest = [0]*30\n",
        "\n",
        "  for d in range(3):\n",
        "    for i in range(30):\n",
        "      accPointsTest[i] = accPointsTest[i] + accCS[d][i]\n",
        "      lossPointsTest[i] = lossPointsTest[i] + lossCS[d][i]\n",
        "\n",
        "  for i in range(30):\n",
        "    accPointsTest[i] = accPointsTest[i]/3\n",
        "    lossPointsTest[i] = lossPointsTest[i]/3\n",
        "  \n",
        "  acc[index] = accPointsTest\n",
        "  loss[index] = lossPointsTest\n",
        "  return [acc,loss]"
      ],
      "execution_count": 0,
      "outputs": []
    },
    {
      "cell_type": "code",
      "metadata": {
        "id": "vlaqREoy5FRb",
        "colab_type": "code",
        "outputId": "b2255d8e-b059-4bff-f00e-e39f94a4c409",
        "colab": {
          "base_uri": "https://localhost:8080/",
          "height": 1000
        }
      },
      "source": [
        "import time\n",
        "import collections\n",
        "import numpy as np\n",
        "warnings.filterwarnings('ignore')\n",
        "\n",
        "#init counters\n",
        "lrs = [1e-1, 1e-2, 1e-3, 1e-4]\n",
        "for actualLR in lrs:\n",
        "  testAccCS = []\n",
        "  testLossCS = []\n",
        "  for t in range(3):\n",
        "    print(\"Starting new training\")\n",
        "    #get data from DGL\n",
        "    net = Net()\n",
        "    g, features, labels, mask = load_pubmed_data()\n",
        "    print(g)\n",
        "\n",
        "    #point to show on graph\n",
        "    pointsPubMed=dict()\n",
        "    pointsLossPubMed=dict()\n",
        "\n",
        "    #the number of masks to get when training per epoch\n",
        "    n_masks_to_try = 4\n",
        "    #initializing the optimizer (optimizer takes care of optimize the learining rate during training)\n",
        "    optimizer = th.optim.Adam(net.parameters(), lr=actualLR)\n",
        "    optimizer.state = collections.defaultdict(dict)\n",
        "\n",
        "    #dur is just an array to store the duration in order to show them later\n",
        "    dur = []\n",
        "\n",
        "    for epoch in range(30):\n",
        "        t0 = time.time()\n",
        "\n",
        "        #getting only some masks (4)\n",
        "        masksToTry = random.sample(masks,n_masks_to_try)\n",
        "\n",
        "        for m in masksToTry:\n",
        "            #calling 'net(...)' it asks to the GCN to compute the forward    \n",
        "\n",
        "            logits = net(g, features)\n",
        "            logp = F.log_softmax(logits, 1)\n",
        "\n",
        "            #compute loss like the negative log likelihood loss\n",
        "            loss = F.nll_loss(logp[m], labels[m])\n",
        "            \n",
        "            #Since the backward() function accumulates gradients, and you \n",
        "            #don’t want to mix up gradients between minibatch, you have \n",
        "            #to zero them out at the start of a new minibatch. This is \n",
        "            #exactly like how a general (additive) accumulator variable is \n",
        "            #initialized to 0 in code.\n",
        "            optimizer.zero_grad()\n",
        "\n",
        "            #update network weights by loss\n",
        "            loss.backward()\n",
        "\n",
        "            #update optimizer's values after backward\n",
        "            optimizer.step()\n",
        "\n",
        "            #computing accuracy\n",
        "            i = 0\n",
        "            matched = 0\n",
        "            while i < 19717:\n",
        "              if m[i] == 0:\n",
        "                #getting index of the maximum\n",
        "                j = 0\n",
        "                max = None\n",
        "                jMax = 0\n",
        "                for a in logp[i]:\n",
        "                  if max==None:\n",
        "                    max = a.item()\n",
        "                    jMax = j\n",
        "                  elif max < a.item():\n",
        "                    max = a.item()\n",
        "                    jMax = j\n",
        "                  j = j + 1\n",
        "                if jMax == labels[i]:\n",
        "                  matched = matched + 1\n",
        "              i = i + 1\n",
        "            acc = matched/(19717-size_masks)*100\n",
        "\n",
        "            if epoch not in pointsPubMed:\n",
        "              pointsPubMed[epoch] = 0\n",
        "              pointsLossPubMed[epoch] = 0\n",
        "            pointsPubMed[epoch] = pointsPubMed[epoch] + acc\n",
        "            pointsLossPubMed[epoch] = pointsLossPubMed[epoch] + loss.item()\n",
        "            \n",
        "        dur.append(time.time() - t0)\n",
        "        \n",
        "        #computing the average of the accuracy and the loss\n",
        "        pointsPubMed[epoch] = pointsPubMed[epoch]/n_masks_to_try\n",
        "        pointsLossPubMed[epoch] = pointsLossPubMed[epoch]/n_masks_to_try\n",
        "\n",
        "        print(\"Epoch {:05d} | Loss {:.4f} | Time(s) {:.4f} | Accuracy: {:.6f} %\".format(\n",
        "                epoch, loss.item(), np.mean(dur), pointsPubMed[epoch]))\n",
        "    #storing results    \n",
        "    testAccCS.append(pointsPubMed)\n",
        "    testLossCS.append(pointsLossPubMed)\n",
        "    print(\"Results stored.\")\n",
        "  print(\"New learning rate...\")\n",
        "  r = updatePoints(actualLR,testAccCS,testLossCS, lrAccTest, lrLossTest)\n",
        "  lrAccTest = r[0]\n",
        "  lrLossTest = r[1]\n"
      ],
      "execution_count": 0,
      "outputs": [
        {
          "output_type": "stream",
          "text": [
            "Starting new training\n",
            "Finished data loading and preprocessing.\n",
            "  NumNodes: 19717\n",
            "  NumEdges: 88651\n",
            "  NumFeats: 500\n",
            "  NumClasses: 3\n",
            "  NumTrainingSamples: 60\n",
            "  NumValidationSamples: 500\n",
            "  NumTestSamples: 1000\n",
            "\n",
            "DGLGraph(num_nodes=19717, num_edges=108365,\n",
            "         ndata_schemes={}\n",
            "         edata_schemes={})\n",
            "Epoch 00000 | Loss 1.0686 | Time(s) 5.5194 | Accuracy: 39.114034 %\n",
            "Epoch 00001 | Loss 1.0986 | Time(s) 5.5088 | Accuracy: 21.524698 %\n",
            "Epoch 00002 | Loss 1.0986 | Time(s) 5.4561 | Accuracy: 20.809757 %\n",
            "Epoch 00003 | Loss 1.0986 | Time(s) 5.4125 | Accuracy: 20.817403 %\n",
            "Epoch 00004 | Loss 1.0986 | Time(s) 5.3876 | Accuracy: 20.814854 %\n",
            "Epoch 00005 | Loss 1.0986 | Time(s) 5.3926 | Accuracy: 20.813580 %\n",
            "Epoch 00006 | Loss 1.0986 | Time(s) 5.3820 | Accuracy: 20.813580 %\n",
            "Epoch 00007 | Loss 1.0986 | Time(s) 5.3848 | Accuracy: 20.816129 %\n",
            "Epoch 00008 | Loss 1.0986 | Time(s) 5.3796 | Accuracy: 20.812306 %\n",
            "Epoch 00009 | Loss 1.0986 | Time(s) 5.3833 | Accuracy: 20.814854 %\n",
            "Epoch 00010 | Loss 1.0986 | Time(s) 5.3899 | Accuracy: 20.814854 %\n",
            "Epoch 00011 | Loss 1.0986 | Time(s) 5.3938 | Accuracy: 20.804659 %\n",
            "Epoch 00012 | Loss 1.0986 | Time(s) 5.3942 | Accuracy: 20.807208 %\n",
            "Epoch 00013 | Loss 1.0986 | Time(s) 5.3995 | Accuracy: 20.816129 %\n",
            "Epoch 00014 | Loss 1.0986 | Time(s) 5.3988 | Accuracy: 20.822501 %\n",
            "Epoch 00015 | Loss 1.0986 | Time(s) 5.3917 | Accuracy: 20.816129 %\n",
            "Epoch 00016 | Loss 1.0986 | Time(s) 5.3914 | Accuracy: 20.811031 %\n",
            "Epoch 00017 | Loss 1.0986 | Time(s) 5.3910 | Accuracy: 20.809757 %\n",
            "Epoch 00018 | Loss 1.0986 | Time(s) 5.3971 | Accuracy: 20.812306 %\n",
            "Epoch 00019 | Loss 1.0986 | Time(s) 5.3965 | Accuracy: 20.809757 %\n",
            "Epoch 00020 | Loss 1.0986 | Time(s) 5.3980 | Accuracy: 20.809757 %\n",
            "Epoch 00021 | Loss 1.0986 | Time(s) 5.4008 | Accuracy: 20.814854 %\n",
            "Epoch 00022 | Loss 1.0986 | Time(s) 5.4031 | Accuracy: 20.809757 %\n",
            "Epoch 00023 | Loss 1.0986 | Time(s) 5.3995 | Accuracy: 20.818678 %\n",
            "Epoch 00024 | Loss 1.0986 | Time(s) 5.4037 | Accuracy: 20.814854 %\n",
            "Epoch 00025 | Loss 1.0986 | Time(s) 5.4025 | Accuracy: 20.814854 %\n",
            "Epoch 00026 | Loss 1.0986 | Time(s) 5.4029 | Accuracy: 20.813580 %\n",
            "Epoch 00027 | Loss 1.0986 | Time(s) 5.4064 | Accuracy: 20.803385 %\n",
            "Epoch 00028 | Loss 1.0986 | Time(s) 5.4100 | Accuracy: 20.823775 %\n",
            "Epoch 00029 | Loss 1.0986 | Time(s) 5.4147 | Accuracy: 20.811031 %\n",
            "Results stored.\n",
            "Starting new training\n",
            "Finished data loading and preprocessing.\n",
            "  NumNodes: 19717\n",
            "  NumEdges: 88651\n",
            "  NumFeats: 500\n",
            "  NumClasses: 3\n",
            "  NumTrainingSamples: 60\n",
            "  NumValidationSamples: 500\n",
            "  NumTestSamples: 1000\n",
            "\n",
            "DGLGraph(num_nodes=19717, num_edges=108365,\n",
            "         ndata_schemes={}\n",
            "         edata_schemes={})\n",
            "Epoch 00000 | Loss 1.0986 | Time(s) 5.4872 | Accuracy: 28.113371 %\n",
            "Epoch 00001 | Loss 1.0986 | Time(s) 5.5377 | Accuracy: 20.812306 %\n",
            "Epoch 00002 | Loss 1.0986 | Time(s) 5.5730 | Accuracy: 20.817403 %\n",
            "Epoch 00003 | Loss 1.0986 | Time(s) 5.5540 | Accuracy: 20.818678 %\n",
            "Epoch 00004 | Loss 1.0986 | Time(s) 5.5405 | Accuracy: 20.812306 %\n",
            "Epoch 00005 | Loss 1.0986 | Time(s) 5.5227 | Accuracy: 20.816129 %\n",
            "Epoch 00006 | Loss 1.0986 | Time(s) 5.4844 | Accuracy: 20.809757 %\n",
            "Epoch 00007 | Loss 1.0986 | Time(s) 5.4686 | Accuracy: 20.803385 %\n",
            "Epoch 00008 | Loss 1.0986 | Time(s) 5.4636 | Accuracy: 20.813580 %\n",
            "Epoch 00009 | Loss 1.0986 | Time(s) 5.4604 | Accuracy: 20.809757 %\n",
            "Epoch 00010 | Loss 1.0986 | Time(s) 5.4512 | Accuracy: 20.813580 %\n",
            "Epoch 00011 | Loss 1.0986 | Time(s) 5.4384 | Accuracy: 20.816129 %\n",
            "Epoch 00012 | Loss 1.0986 | Time(s) 5.4310 | Accuracy: 20.807208 %\n",
            "Epoch 00013 | Loss 1.0986 | Time(s) 5.4274 | Accuracy: 20.817403 %\n",
            "Epoch 00014 | Loss 1.0986 | Time(s) 5.4211 | Accuracy: 20.804659 %\n",
            "Epoch 00015 | Loss 1.0986 | Time(s) 5.4286 | Accuracy: 20.812306 %\n",
            "Epoch 00016 | Loss 1.0986 | Time(s) 5.4269 | Accuracy: 20.809757 %\n",
            "Epoch 00017 | Loss 1.0986 | Time(s) 5.4218 | Accuracy: 20.816129 %\n",
            "Epoch 00018 | Loss 1.0986 | Time(s) 5.4267 | Accuracy: 20.807208 %\n",
            "Epoch 00019 | Loss 1.0986 | Time(s) 5.4218 | Accuracy: 20.813580 %\n",
            "Epoch 00020 | Loss 1.0986 | Time(s) 5.4182 | Accuracy: 20.809757 %\n",
            "Epoch 00021 | Loss 1.0986 | Time(s) 5.4149 | Accuracy: 20.811031 %\n",
            "Epoch 00022 | Loss 1.0986 | Time(s) 5.4096 | Accuracy: 20.803385 %\n",
            "Epoch 00023 | Loss 1.0986 | Time(s) 5.4029 | Accuracy: 20.807208 %\n",
            "Epoch 00024 | Loss 1.0986 | Time(s) 5.4025 | Accuracy: 20.816129 %\n",
            "Epoch 00025 | Loss 1.0986 | Time(s) 5.4062 | Accuracy: 20.809757 %\n",
            "Epoch 00026 | Loss 1.0986 | Time(s) 5.4100 | Accuracy: 20.814854 %\n",
            "Epoch 00027 | Loss 1.0986 | Time(s) 5.4081 | Accuracy: 20.811031 %\n",
            "Epoch 00028 | Loss 1.0986 | Time(s) 5.4042 | Accuracy: 20.811031 %\n",
            "Epoch 00029 | Loss 1.0986 | Time(s) 5.4012 | Accuracy: 20.818678 %\n",
            "Results stored.\n",
            "Starting new training\n",
            "Finished data loading and preprocessing.\n",
            "  NumNodes: 19717\n",
            "  NumEdges: 88651\n",
            "  NumFeats: 500\n",
            "  NumClasses: 3\n",
            "  NumTrainingSamples: 60\n",
            "  NumValidationSamples: 500\n",
            "  NumTestSamples: 1000\n",
            "\n",
            "DGLGraph(num_nodes=19717, num_edges=108365,\n",
            "         ndata_schemes={}\n",
            "         edata_schemes={})\n",
            "Epoch 00000 | Loss 1.2973 | Time(s) 5.4964 | Accuracy: 41.749503 %\n",
            "Epoch 00001 | Loss 1.0986 | Time(s) 5.5203 | Accuracy: 27.804965 %\n",
            "Epoch 00002 | Loss 1.0986 | Time(s) 5.5045 | Accuracy: 20.813580 %\n",
            "Epoch 00003 | Loss 1.0986 | Time(s) 5.4616 | Accuracy: 20.814854 %\n",
            "Epoch 00004 | Loss 1.0986 | Time(s) 5.4385 | Accuracy: 20.819952 %\n",
            "Epoch 00005 | Loss 1.0986 | Time(s) 5.4270 | Accuracy: 20.816129 %\n",
            "Epoch 00006 | Loss 1.0986 | Time(s) 5.4189 | Accuracy: 20.804659 %\n",
            "Epoch 00007 | Loss 1.0986 | Time(s) 5.4108 | Accuracy: 20.809757 %\n",
            "Epoch 00008 | Loss 1.0986 | Time(s) 5.4117 | Accuracy: 20.808482 %\n",
            "Epoch 00009 | Loss 1.0986 | Time(s) 5.4056 | Accuracy: 20.805934 %\n",
            "Epoch 00010 | Loss 1.0986 | Time(s) 5.3998 | Accuracy: 20.812306 %\n",
            "Epoch 00011 | Loss 1.0986 | Time(s) 5.4016 | Accuracy: 20.817403 %\n",
            "Epoch 00012 | Loss 1.0986 | Time(s) 5.4054 | Accuracy: 20.814854 %\n",
            "Epoch 00013 | Loss 1.0986 | Time(s) 5.4034 | Accuracy: 20.814854 %\n",
            "Epoch 00014 | Loss 1.0986 | Time(s) 5.3946 | Accuracy: 20.807208 %\n",
            "Epoch 00015 | Loss 1.0986 | Time(s) 5.3933 | Accuracy: 20.809757 %\n",
            "Epoch 00016 | Loss 1.0986 | Time(s) 5.3938 | Accuracy: 20.805934 %\n",
            "Epoch 00017 | Loss 1.0986 | Time(s) 5.3938 | Accuracy: 20.813580 %\n",
            "Epoch 00018 | Loss 1.0986 | Time(s) 5.3952 | Accuracy: 20.809757 %\n",
            "Epoch 00019 | Loss 1.0986 | Time(s) 5.4014 | Accuracy: 20.809757 %\n",
            "Epoch 00020 | Loss 1.0986 | Time(s) 5.3968 | Accuracy: 20.822501 %\n",
            "Epoch 00021 | Loss 1.0986 | Time(s) 5.3893 | Accuracy: 20.817403 %\n",
            "Epoch 00022 | Loss 1.0986 | Time(s) 5.3936 | Accuracy: 20.818678 %\n",
            "Epoch 00023 | Loss 1.0986 | Time(s) 5.3954 | Accuracy: 20.818678 %\n",
            "Epoch 00024 | Loss 1.0986 | Time(s) 5.3930 | Accuracy: 20.814854 %\n",
            "Epoch 00025 | Loss 1.0986 | Time(s) 5.3880 | Accuracy: 20.809757 %\n",
            "Epoch 00026 | Loss 1.0986 | Time(s) 5.3833 | Accuracy: 20.813580 %\n",
            "Epoch 00027 | Loss 1.0986 | Time(s) 5.3844 | Accuracy: 20.816129 %\n",
            "Epoch 00028 | Loss 1.0986 | Time(s) 5.3849 | Accuracy: 20.812306 %\n",
            "Epoch 00029 | Loss 1.0986 | Time(s) 5.3867 | Accuracy: 20.807208 %\n",
            "Results stored.\n",
            "New learning rate...\n",
            "Starting new training\n",
            "Finished data loading and preprocessing.\n",
            "  NumNodes: 19717\n",
            "  NumEdges: 88651\n",
            "  NumFeats: 500\n",
            "  NumClasses: 3\n",
            "  NumTrainingSamples: 60\n",
            "  NumValidationSamples: 500\n",
            "  NumTestSamples: 1000\n",
            "\n",
            "DGLGraph(num_nodes=19717, num_edges=108365,\n",
            "         ndata_schemes={}\n",
            "         edata_schemes={})\n",
            "Epoch 00000 | Loss 0.9784 | Time(s) 5.5304 | Accuracy: 49.411225 %\n",
            "Epoch 00001 | Loss 0.8644 | Time(s) 5.4504 | Accuracy: 61.702860 %\n",
            "Epoch 00002 | Loss 0.8260 | Time(s) 5.4415 | Accuracy: 71.404904 %\n",
            "Epoch 00003 | Loss 0.8701 | Time(s) 5.4413 | Accuracy: 74.460927 %\n",
            "Epoch 00004 | Loss 0.6696 | Time(s) 5.4539 | Accuracy: 69.911301 %\n",
            "Epoch 00005 | Loss 0.5922 | Time(s) 5.4325 | Accuracy: 77.841923 %\n",
            "Epoch 00006 | Loss 0.8189 | Time(s) 5.4148 | Accuracy: 80.567875 %\n",
            "Epoch 00007 | Loss 0.5943 | Time(s) 5.4052 | Accuracy: 79.465515 %\n",
            "Epoch 00008 | Loss 0.5991 | Time(s) 5.3983 | Accuracy: 76.371260 %\n",
            "Epoch 00009 | Loss 0.6915 | Time(s) 5.3992 | Accuracy: 78.236988 %\n",
            "Epoch 00010 | Loss 0.5498 | Time(s) 5.4050 | Accuracy: 80.098894 %\n",
            "Epoch 00011 | Loss 0.5013 | Time(s) 5.4183 | Accuracy: 78.289239 %\n",
            "Epoch 00012 | Loss 0.4037 | Time(s) 5.4136 | Accuracy: 79.907733 %\n",
            "Epoch 00013 | Loss 0.4949 | Time(s) 5.4084 | Accuracy: 80.615028 %\n",
            "Epoch 00014 | Loss 0.4507 | Time(s) 5.4113 | Accuracy: 81.610338 %\n",
            "Epoch 00015 | Loss 0.4220 | Time(s) 5.4092 | Accuracy: 82.071673 %\n",
            "Epoch 00016 | Loss 0.4129 | Time(s) 5.4126 | Accuracy: 81.914921 %\n",
            "Epoch 00017 | Loss 0.4269 | Time(s) 5.4060 | Accuracy: 82.154509 %\n",
            "Epoch 00018 | Loss 0.4034 | Time(s) 5.4007 | Accuracy: 82.094612 %\n",
            "Epoch 00019 | Loss 0.3888 | Time(s) 5.4012 | Accuracy: 82.238620 %\n",
            "Epoch 00020 | Loss 0.4790 | Time(s) 5.4091 | Accuracy: 82.524086 %\n",
            "Epoch 00021 | Loss 0.3984 | Time(s) 5.4151 | Accuracy: 82.084417 %\n",
            "Epoch 00022 | Loss 0.3970 | Time(s) 5.4154 | Accuracy: 82.814651 %\n",
            "Epoch 00023 | Loss 0.2981 | Time(s) 5.4100 | Accuracy: 82.724168 %\n",
            "Epoch 00024 | Loss 0.3589 | Time(s) 5.4068 | Accuracy: 82.403018 %\n",
            "Epoch 00025 | Loss 0.3161 | Time(s) 5.4054 | Accuracy: 82.680838 %\n",
            "Epoch 00026 | Loss 0.3377 | Time(s) 5.4033 | Accuracy: 82.529184 %\n",
            "Epoch 00027 | Loss 0.5478 | Time(s) 5.4005 | Accuracy: 81.885609 %\n",
            "Epoch 00028 | Loss 0.3873 | Time(s) 5.3968 | Accuracy: 82.072947 %\n",
            "Epoch 00029 | Loss 0.2889 | Time(s) 5.3918 | Accuracy: 81.883061 %\n",
            "Results stored.\n",
            "Starting new training\n",
            "Finished data loading and preprocessing.\n",
            "  NumNodes: 19717\n",
            "  NumEdges: 88651\n",
            "  NumFeats: 500\n",
            "  NumClasses: 3\n",
            "  NumTrainingSamples: 60\n",
            "  NumValidationSamples: 500\n",
            "  NumTestSamples: 1000\n",
            "\n",
            "DGLGraph(num_nodes=19717, num_edges=108365,\n",
            "         ndata_schemes={}\n",
            "         edata_schemes={})\n",
            "Epoch 00000 | Loss 1.0789 | Time(s) 5.1978 | Accuracy: 20.805934 %\n",
            "Epoch 00001 | Loss 1.0138 | Time(s) 5.2284 | Accuracy: 20.804659 %\n",
            "Epoch 00002 | Loss 1.0394 | Time(s) 5.2322 | Accuracy: 20.811031 %\n",
            "Epoch 00003 | Loss 0.9844 | Time(s) 5.2739 | Accuracy: 20.814854 %\n",
            "Epoch 00004 | Loss 1.0252 | Time(s) 5.2567 | Accuracy: 20.818678 %\n",
            "Epoch 00005 | Loss 0.9538 | Time(s) 5.2724 | Accuracy: 20.802110 %\n",
            "Epoch 00006 | Loss 0.9975 | Time(s) 5.2982 | Accuracy: 20.812306 %\n",
            "Epoch 00007 | Loss 0.9454 | Time(s) 5.3031 | Accuracy: 20.803385 %\n",
            "Epoch 00008 | Loss 0.9388 | Time(s) 5.3069 | Accuracy: 20.812306 %\n",
            "Epoch 00009 | Loss 0.9547 | Time(s) 5.3045 | Accuracy: 20.818678 %\n",
            "Epoch 00010 | Loss 0.9487 | Time(s) 5.3034 | Accuracy: 20.809757 %\n",
            "Epoch 00011 | Loss 0.9642 | Time(s) 5.3013 | Accuracy: 20.819952 %\n",
            "Epoch 00012 | Loss 0.9657 | Time(s) 5.3094 | Accuracy: 20.816129 %\n",
            "Epoch 00013 | Loss 0.9347 | Time(s) 5.3089 | Accuracy: 20.818678 %\n",
            "Epoch 00014 | Loss 0.9445 | Time(s) 5.3120 | Accuracy: 20.805934 %\n",
            "Epoch 00015 | Loss 0.9546 | Time(s) 5.3129 | Accuracy: 20.805934 %\n",
            "Epoch 00016 | Loss 0.9533 | Time(s) 5.3049 | Accuracy: 20.813580 %\n",
            "Epoch 00017 | Loss 0.9150 | Time(s) 5.2982 | Accuracy: 20.809757 %\n",
            "Epoch 00018 | Loss 0.9264 | Time(s) 5.2990 | Accuracy: 20.803385 %\n",
            "Epoch 00019 | Loss 0.9224 | Time(s) 5.3007 | Accuracy: 20.809757 %\n",
            "Epoch 00020 | Loss 0.9227 | Time(s) 5.2916 | Accuracy: 20.816129 %\n",
            "Epoch 00021 | Loss 0.9516 | Time(s) 5.2912 | Accuracy: 20.821226 %\n",
            "Epoch 00022 | Loss 0.9428 | Time(s) 5.2975 | Accuracy: 20.804659 %\n",
            "Epoch 00023 | Loss 0.9131 | Time(s) 5.3034 | Accuracy: 20.814854 %\n",
            "Epoch 00024 | Loss 0.9603 | Time(s) 5.3077 | Accuracy: 20.814854 %\n",
            "Epoch 00025 | Loss 0.9223 | Time(s) 5.3129 | Accuracy: 20.814854 %\n",
            "Epoch 00026 | Loss 0.9433 | Time(s) 5.3274 | Accuracy: 20.814854 %\n",
            "Epoch 00027 | Loss 0.9152 | Time(s) 5.3323 | Accuracy: 20.805934 %\n",
            "Epoch 00028 | Loss 0.9356 | Time(s) 5.3312 | Accuracy: 20.812306 %\n",
            "Epoch 00029 | Loss 0.9374 | Time(s) 5.3356 | Accuracy: 20.809757 %\n",
            "Results stored.\n",
            "Starting new training\n",
            "Finished data loading and preprocessing.\n",
            "  NumNodes: 19717\n",
            "  NumEdges: 88651\n",
            "  NumFeats: 500\n",
            "  NumClasses: 3\n",
            "  NumTrainingSamples: 60\n",
            "  NumValidationSamples: 500\n",
            "  NumTestSamples: 1000\n",
            "\n",
            "DGLGraph(num_nodes=19717, num_edges=108365,\n",
            "         ndata_schemes={}\n",
            "         edata_schemes={})\n",
            "Epoch 00000 | Loss 1.0457 | Time(s) 5.7224 | Accuracy: 39.170108 %\n",
            "Epoch 00001 | Loss 1.0243 | Time(s) 5.6492 | Accuracy: 51.528011 %\n",
            "Epoch 00002 | Loss 0.8914 | Time(s) 5.6015 | Accuracy: 53.560687 %\n",
            "Epoch 00003 | Loss 0.7632 | Time(s) 5.5795 | Accuracy: 54.106132 %\n",
            "Epoch 00004 | Loss 0.7914 | Time(s) 5.5815 | Accuracy: 54.563644 %\n",
            "Epoch 00005 | Loss 0.7928 | Time(s) 5.5535 | Accuracy: 54.805781 %\n",
            "Epoch 00006 | Loss 0.7255 | Time(s) 5.5481 | Accuracy: 55.245450 %\n",
            "Epoch 00007 | Loss 0.6907 | Time(s) 5.5264 | Accuracy: 55.309171 %\n",
            "Epoch 00008 | Loss 0.7398 | Time(s) 5.5051 | Accuracy: 55.185553 %\n",
            "Epoch 00009 | Loss 0.7436 | Time(s) 5.4936 | Accuracy: 55.227609 %\n",
            "Epoch 00010 | Loss 1.1140 | Time(s) 5.4903 | Accuracy: 55.207218 %\n",
            "Epoch 00011 | Loss 0.7253 | Time(s) 5.4861 | Accuracy: 54.159657 %\n",
            "Epoch 00012 | Loss 0.9995 | Time(s) 5.4871 | Accuracy: 54.315135 %\n",
            "Epoch 00013 | Loss 0.6171 | Time(s) 5.4790 | Accuracy: 54.710200 %\n",
            "Epoch 00014 | Loss 0.6928 | Time(s) 5.4779 | Accuracy: 55.005862 %\n",
            "Epoch 00015 | Loss 0.6906 | Time(s) 5.4801 | Accuracy: 55.115461 %\n",
            "Epoch 00016 | Loss 0.6339 | Time(s) 5.4801 | Accuracy: 55.086150 %\n",
            "Epoch 00017 | Loss 0.6727 | Time(s) 5.4801 | Accuracy: 54.677066 %\n",
            "Epoch 00018 | Loss 0.6234 | Time(s) 5.4750 | Accuracy: 54.293470 %\n",
            "Epoch 00019 | Loss 0.9018 | Time(s) 5.4691 | Accuracy: 54.745884 %\n",
            "Epoch 00020 | Loss 0.6421 | Time(s) 5.4670 | Accuracy: 54.719121 %\n",
            "Epoch 00021 | Loss 0.5837 | Time(s) 5.4615 | Accuracy: 54.169853 %\n",
            "Epoch 00022 | Loss 0.6432 | Time(s) 5.4619 | Accuracy: 54.118876 %\n",
            "Epoch 00023 | Loss 0.7073 | Time(s) 5.4619 | Accuracy: 54.527960 %\n",
            "Epoch 00024 | Loss 0.6888 | Time(s) 5.4580 | Accuracy: 53.495693 %\n",
            "Epoch 00025 | Loss 0.5913 | Time(s) 5.4517 | Accuracy: 54.446399 %\n",
            "Epoch 00026 | Loss 0.6630 | Time(s) 5.4497 | Accuracy: 54.345721 %\n",
            "Epoch 00027 | Loss 0.6981 | Time(s) 5.4523 | Accuracy: 54.025845 %\n",
            "Epoch 00028 | Loss 0.5919 | Time(s) 5.4532 | Accuracy: 54.202987 %\n",
            "Epoch 00029 | Loss 0.6202 | Time(s) 5.4534 | Accuracy: 54.603150 %\n",
            "Results stored.\n",
            "New learning rate...\n",
            "Starting new training\n",
            "Finished data loading and preprocessing.\n",
            "  NumNodes: 19717\n",
            "  NumEdges: 88651\n",
            "  NumFeats: 500\n",
            "  NumClasses: 3\n",
            "  NumTrainingSamples: 60\n",
            "  NumValidationSamples: 500\n",
            "  NumTestSamples: 1000\n",
            "\n",
            "DGLGraph(num_nodes=19717, num_edges=108365,\n",
            "         ndata_schemes={}\n",
            "         edata_schemes={})\n",
            "Epoch 00000 | Loss 1.0716 | Time(s) 5.4142 | Accuracy: 40.566855 %\n",
            "Epoch 00001 | Loss 1.0175 | Time(s) 5.5262 | Accuracy: 43.607585 %\n",
            "Epoch 00002 | Loss 0.9802 | Time(s) 5.5275 | Accuracy: 47.829689 %\n",
            "Epoch 00003 | Loss 0.9774 | Time(s) 5.5229 | Accuracy: 51.729367 %\n",
            "Epoch 00004 | Loss 0.9249 | Time(s) 5.5146 | Accuracy: 56.923842 %\n",
            "Epoch 00005 | Loss 0.9182 | Time(s) 5.5043 | Accuracy: 62.608962 %\n",
            "Epoch 00006 | Loss 0.8674 | Time(s) 5.5303 | Accuracy: 65.170515 %\n",
            "Epoch 00007 | Loss 0.8482 | Time(s) 5.5263 | Accuracy: 67.228679 %\n",
            "Epoch 00008 | Loss 0.8667 | Time(s) 5.5432 | Accuracy: 69.911301 %\n",
            "Epoch 00009 | Loss 0.8014 | Time(s) 5.5651 | Accuracy: 70.565071 %\n",
            "Epoch 00010 | Loss 0.7772 | Time(s) 5.5842 | Accuracy: 70.554876 %\n",
            "Epoch 00011 | Loss 0.7156 | Time(s) 5.5907 | Accuracy: 72.200133 %\n",
            "Epoch 00012 | Loss 0.7118 | Time(s) 5.5995 | Accuracy: 75.080288 %\n",
            "Epoch 00013 | Loss 0.7023 | Time(s) 5.6032 | Accuracy: 76.307539 %\n",
            "Epoch 00014 | Loss 0.6671 | Time(s) 5.6144 | Accuracy: 76.632513 %\n",
            "Epoch 00015 | Loss 0.7005 | Time(s) 5.6237 | Accuracy: 76.250191 %\n",
            "Epoch 00016 | Loss 0.6626 | Time(s) 5.6308 | Accuracy: 76.751032 %\n",
            "Epoch 00017 | Loss 0.6542 | Time(s) 5.6445 | Accuracy: 77.909466 %\n",
            "Epoch 00018 | Loss 0.6366 | Time(s) 5.6554 | Accuracy: 78.962125 %\n",
            "Epoch 00019 | Loss 0.7388 | Time(s) 5.6636 | Accuracy: 79.578937 %\n",
            "Epoch 00020 | Loss 0.5945 | Time(s) 5.6764 | Accuracy: 79.599327 %\n",
            "Epoch 00021 | Loss 0.5827 | Time(s) 5.6862 | Accuracy: 79.714024 %\n",
            "Epoch 00022 | Loss 0.6065 | Time(s) 5.7005 | Accuracy: 80.109089 %\n",
            "Epoch 00023 | Loss 0.5728 | Time(s) 5.7052 | Accuracy: 80.030076 %\n",
            "Epoch 00024 | Loss 0.5941 | Time(s) 5.7126 | Accuracy: 79.921752 %\n",
            "Epoch 00025 | Loss 0.5786 | Time(s) 5.7169 | Accuracy: 80.451904 %\n",
            "Epoch 00026 | Loss 0.5688 | Time(s) 5.7197 | Accuracy: 80.714431 %\n",
            "Epoch 00027 | Loss 0.5659 | Time(s) 5.7263 | Accuracy: 81.138808 %\n",
            "Epoch 00028 | Loss 0.5557 | Time(s) 5.7330 | Accuracy: 81.166845 %\n",
            "Epoch 00029 | Loss 0.5351 | Time(s) 5.7382 | Accuracy: 81.058521 %\n",
            "Results stored.\n",
            "Starting new training\n",
            "Finished data loading and preprocessing.\n",
            "  NumNodes: 19717\n",
            "  NumEdges: 88651\n",
            "  NumFeats: 500\n",
            "  NumClasses: 3\n",
            "  NumTrainingSamples: 60\n",
            "  NumValidationSamples: 500\n",
            "  NumTestSamples: 1000\n",
            "\n",
            "DGLGraph(num_nodes=19717, num_edges=108365,\n",
            "         ndata_schemes={}\n",
            "         edata_schemes={})\n",
            "Epoch 00000 | Loss 1.0582 | Time(s) 5.8288 | Accuracy: 39.698986 %\n",
            "Epoch 00001 | Loss 0.9993 | Time(s) 5.8396 | Accuracy: 57.847785 %\n",
            "Epoch 00002 | Loss 0.9497 | Time(s) 5.8936 | Accuracy: 64.196870 %\n",
            "Epoch 00003 | Loss 0.9147 | Time(s) 5.8877 | Accuracy: 68.132232 %\n",
            "Epoch 00004 | Loss 0.8763 | Time(s) 5.8787 | Accuracy: 71.004741 %\n",
            "Epoch 00005 | Loss 0.8422 | Time(s) 5.8689 | Accuracy: 73.266809 %\n",
            "Epoch 00006 | Loss 0.8650 | Time(s) 5.8661 | Accuracy: 74.830504 %\n",
            "Epoch 00007 | Loss 0.8326 | Time(s) 5.8671 | Accuracy: 76.002957 %\n",
            "Epoch 00008 | Loss 0.8398 | Time(s) 5.8689 | Accuracy: 76.136769 %\n",
            "Epoch 00009 | Loss 0.7779 | Time(s) 5.8663 | Accuracy: 77.426467 %\n",
            "Epoch 00010 | Loss 0.7256 | Time(s) 5.8811 | Accuracy: 78.755671 %\n",
            "Epoch 00011 | Loss 0.7711 | Time(s) 5.8716 | Accuracy: 79.459143 %\n",
            "Epoch 00012 | Loss 0.6931 | Time(s) 5.8795 | Accuracy: 79.858031 %\n",
            "Epoch 00013 | Loss 0.6624 | Time(s) 5.8821 | Accuracy: 79.694907 %\n",
            "Epoch 00014 | Loss 0.6545 | Time(s) 5.8852 | Accuracy: 79.845287 %\n",
            "Epoch 00015 | Loss 0.6489 | Time(s) 5.8801 | Accuracy: 80.153693 %\n",
            "Epoch 00016 | Loss 0.5986 | Time(s) 5.8766 | Accuracy: 79.905184 %\n",
            "Epoch 00017 | Loss 0.5963 | Time(s) 5.8724 | Accuracy: 80.223785 %\n",
            "Epoch 00018 | Loss 0.6395 | Time(s) 5.8720 | Accuracy: 80.204669 %\n",
            "Epoch 00019 | Loss 0.5726 | Time(s) 5.8791 | Accuracy: 79.714024 %\n",
            "Epoch 00020 | Loss 0.6063 | Time(s) 5.8773 | Accuracy: 79.775195 %\n",
            "Epoch 00021 | Loss 0.6120 | Time(s) 5.8736 | Accuracy: 80.803640 %\n",
            "Epoch 00022 | Loss 0.5368 | Time(s) 5.8692 | Accuracy: 81.284090 %\n",
            "Epoch 00023 | Loss 0.5656 | Time(s) 5.8675 | Accuracy: 81.089106 %\n",
            "Epoch 00024 | Loss 0.5881 | Time(s) 5.8664 | Accuracy: 80.792170 %\n",
            "Epoch 00025 | Loss 0.5246 | Time(s) 5.8655 | Accuracy: 80.789621 %\n",
            "Epoch 00026 | Loss 0.5465 | Time(s) 5.8629 | Accuracy: 81.202528 %\n",
            "Epoch 00027 | Loss 0.5874 | Time(s) 5.8601 | Accuracy: 81.168119 %\n",
            "Epoch 00028 | Loss 0.5068 | Time(s) 5.8608 | Accuracy: 81.257328 %\n",
            "Epoch 00029 | Loss 0.5295 | Time(s) 5.8613 | Accuracy: 81.187236 %\n",
            "Results stored.\n",
            "Starting new training\n",
            "Finished data loading and preprocessing.\n",
            "  NumNodes: 19717\n",
            "  NumEdges: 88651\n",
            "  NumFeats: 500\n",
            "  NumClasses: 3\n",
            "  NumTrainingSamples: 60\n",
            "  NumValidationSamples: 500\n",
            "  NumTestSamples: 1000\n",
            "\n",
            "DGLGraph(num_nodes=19717, num_edges=108365,\n",
            "         ndata_schemes={}\n",
            "         edata_schemes={})\n",
            "Epoch 00000 | Loss 1.0289 | Time(s) 5.9553 | Accuracy: 43.252026 %\n",
            "Epoch 00001 | Loss 0.9494 | Time(s) 5.9041 | Accuracy: 52.429016 %\n",
            "Epoch 00002 | Loss 0.9168 | Time(s) 5.8760 | Accuracy: 55.733547 %\n",
            "Epoch 00003 | Loss 0.8766 | Time(s) 5.8924 | Accuracy: 58.059336 %\n",
            "Epoch 00004 | Loss 0.8715 | Time(s) 5.8934 | Accuracy: 61.000663 %\n",
            "Epoch 00005 | Loss 0.8088 | Time(s) 5.8769 | Accuracy: 66.396493 %\n",
            "Epoch 00006 | Loss 0.8627 | Time(s) 5.8703 | Accuracy: 71.878983 %\n",
            "Epoch 00007 | Loss 0.7998 | Time(s) 5.8816 | Accuracy: 74.728552 %\n",
            "Epoch 00008 | Loss 0.7408 | Time(s) 5.8879 | Accuracy: 75.893358 %\n",
            "Epoch 00009 | Loss 0.7842 | Time(s) 5.8790 | Accuracy: 76.729367 %\n",
            "Epoch 00010 | Loss 0.7209 | Time(s) 5.8730 | Accuracy: 77.934954 %\n",
            "Epoch 00011 | Loss 0.7520 | Time(s) 5.8691 | Accuracy: 78.814294 %\n",
            "Epoch 00012 | Loss 0.7332 | Time(s) 5.8745 | Accuracy: 78.684304 %\n",
            "Epoch 00013 | Loss 0.6744 | Time(s) 5.8773 | Accuracy: 77.353826 %\n",
            "Epoch 00014 | Loss 0.7726 | Time(s) 5.8932 | Accuracy: 76.624866 %\n",
            "Epoch 00015 | Loss 0.6396 | Time(s) 5.8998 | Accuracy: 78.254830 %\n",
            "Epoch 00016 | Loss 0.6333 | Time(s) 5.8893 | Accuracy: 80.434062 %\n",
            "Epoch 00017 | Loss 0.6201 | Time(s) 5.8853 | Accuracy: 80.639241 %\n",
            "Epoch 00018 | Loss 0.6316 | Time(s) 5.8891 | Accuracy: 80.146047 %\n",
            "Epoch 00019 | Loss 0.6064 | Time(s) 5.8896 | Accuracy: 79.339349 %\n",
            "Epoch 00020 | Loss 0.6061 | Time(s) 5.8903 | Accuracy: 79.772646 %\n",
            "Epoch 00021 | Loss 0.5845 | Time(s) 5.8839 | Accuracy: 80.504155 %\n",
            "Epoch 00022 | Loss 0.6367 | Time(s) 5.8829 | Accuracy: 80.905592 %\n",
            "Epoch 00023 | Loss 0.5762 | Time(s) 5.8830 | Accuracy: 81.007544 %\n",
            "Epoch 00024 | Loss 0.6498 | Time(s) 5.8863 | Accuracy: 81.090381 %\n",
            "Epoch 00025 | Loss 0.6256 | Time(s) 5.8847 | Accuracy: 81.257328 %\n",
            "Epoch 00026 | Loss 0.5471 | Time(s) 5.8831 | Accuracy: 81.281542 %\n",
            "Epoch 00027 | Loss 0.5221 | Time(s) 5.8826 | Accuracy: 80.980782 %\n",
            "Epoch 00028 | Loss 0.5494 | Time(s) 5.8845 | Accuracy: 81.183412 %\n",
            "Epoch 00029 | Loss 0.5926 | Time(s) 5.8862 | Accuracy: 81.573380 %\n",
            "Results stored.\n",
            "New learning rate...\n",
            "Starting new training\n",
            "Finished data loading and preprocessing.\n",
            "  NumNodes: 19717\n",
            "  NumEdges: 88651\n",
            "  NumFeats: 500\n",
            "  NumClasses: 3\n",
            "  NumTrainingSamples: 60\n",
            "  NumValidationSamples: 500\n",
            "  NumTestSamples: 1000\n",
            "\n",
            "DGLGraph(num_nodes=19717, num_edges=108365,\n",
            "         ndata_schemes={}\n",
            "         edata_schemes={})\n",
            "Epoch 00000 | Loss 1.0766 | Time(s) 5.9196 | Accuracy: 41.944487 %\n",
            "Epoch 00001 | Loss 1.0717 | Time(s) 5.8464 | Accuracy: 42.790692 %\n",
            "Epoch 00002 | Loss 1.0542 | Time(s) 5.8244 | Accuracy: 43.731203 %\n",
            "Epoch 00003 | Loss 1.0728 | Time(s) 5.7965 | Accuracy: 44.372228 %\n",
            "Epoch 00004 | Loss 1.0529 | Time(s) 5.8054 | Accuracy: 44.935515 %\n",
            "Epoch 00005 | Loss 1.0525 | Time(s) 5.7929 | Accuracy: 45.381557 %\n",
            "Epoch 00006 | Loss 1.0420 | Time(s) 5.7947 | Accuracy: 45.850538 %\n",
            "Epoch 00007 | Loss 1.0406 | Time(s) 5.8003 | Accuracy: 46.412550 %\n",
            "Epoch 00008 | Loss 1.0314 | Time(s) 5.8090 | Accuracy: 47.031911 %\n",
            "Epoch 00009 | Loss 1.0145 | Time(s) 5.7987 | Accuracy: 47.544222 %\n",
            "Epoch 00010 | Loss 1.0092 | Time(s) 5.7954 | Accuracy: 48.034868 %\n",
            "Epoch 00011 | Loss 1.0182 | Time(s) 5.8004 | Accuracy: 48.666973 %\n",
            "Epoch 00012 | Loss 1.0110 | Time(s) 5.7967 | Accuracy: 49.169088 %\n",
            "Epoch 00013 | Loss 1.0025 | Time(s) 5.7943 | Accuracy: 49.603660 %\n",
            "Epoch 00014 | Loss 1.0118 | Time(s) 5.7972 | Accuracy: 49.970689 %\n",
            "Epoch 00015 | Loss 0.9926 | Time(s) 5.7991 | Accuracy: 50.282918 %\n",
            "Epoch 00016 | Loss 0.9899 | Time(s) 5.7980 | Accuracy: 50.540348 %\n",
            "Epoch 00017 | Loss 0.9961 | Time(s) 5.7961 | Accuracy: 50.807973 %\n",
            "Epoch 00018 | Loss 0.9836 | Time(s) 5.7955 | Accuracy: 51.201764 %\n",
            "Epoch 00019 | Loss 0.9788 | Time(s) 5.7975 | Accuracy: 51.623592 %\n",
            "Epoch 00020 | Loss 0.9722 | Time(s) 5.7992 | Accuracy: 51.949839 %\n",
            "Epoch 00021 | Loss 0.9812 | Time(s) 5.7990 | Accuracy: 52.342356 %\n",
            "Epoch 00022 | Loss 0.9684 | Time(s) 5.7970 | Accuracy: 52.565377 %\n",
            "Epoch 00023 | Loss 0.9645 | Time(s) 5.8005 | Accuracy: 52.770556 %\n",
            "Epoch 00024 | Loss 0.9584 | Time(s) 5.7990 | Accuracy: 53.020340 %\n",
            "Epoch 00025 | Loss 0.9567 | Time(s) 5.7986 | Accuracy: 53.383545 %\n",
            "Epoch 00026 | Loss 0.9499 | Time(s) 5.7944 | Accuracy: 53.899679 %\n",
            "Epoch 00027 | Loss 0.9471 | Time(s) 5.7910 | Accuracy: 54.359739 %\n",
            "Epoch 00028 | Loss 0.9358 | Time(s) 5.7900 | Accuracy: 54.766274 %\n",
            "Epoch 00029 | Loss 0.9395 | Time(s) 5.7908 | Accuracy: 55.128205 %\n",
            "Results stored.\n",
            "Starting new training\n",
            "Finished data loading and preprocessing.\n",
            "  NumNodes: 19717\n",
            "  NumEdges: 88651\n",
            "  NumFeats: 500\n",
            "  NumClasses: 3\n",
            "  NumTrainingSamples: 60\n",
            "  NumValidationSamples: 500\n",
            "  NumTestSamples: 1000\n",
            "\n",
            "DGLGraph(num_nodes=19717, num_edges=108365,\n",
            "         ndata_schemes={}\n",
            "         edata_schemes={})\n",
            "Epoch 00000 | Loss 1.0974 | Time(s) 5.6543 | Accuracy: 36.116634 %\n",
            "Epoch 00001 | Loss 1.0936 | Time(s) 5.7142 | Accuracy: 37.151450 %\n",
            "Epoch 00002 | Loss 1.0939 | Time(s) 5.7090 | Accuracy: 38.509966 %\n",
            "Epoch 00003 | Loss 1.0899 | Time(s) 5.7001 | Accuracy: 40.066014 %\n",
            "Epoch 00004 | Loss 1.0947 | Time(s) 5.7199 | Accuracy: 41.559617 %\n",
            "Epoch 00005 | Loss 1.0767 | Time(s) 5.7250 | Accuracy: 42.557476 %\n",
            "Epoch 00006 | Loss 1.0778 | Time(s) 5.7240 | Accuracy: 43.364174 %\n",
            "Epoch 00007 | Loss 1.0654 | Time(s) 5.7300 | Accuracy: 43.977163 %\n",
            "Epoch 00008 | Loss 1.0585 | Time(s) 5.7410 | Accuracy: 44.317429 %\n",
            "Epoch 00009 | Loss 1.0437 | Time(s) 5.7392 | Accuracy: 44.618188 %\n",
            "Epoch 00010 | Loss 1.0462 | Time(s) 5.7344 | Accuracy: 44.781312 %\n",
            "Epoch 00011 | Loss 1.0327 | Time(s) 5.7449 | Accuracy: 45.034919 %\n",
            "Epoch 00012 | Loss 1.0276 | Time(s) 5.7438 | Accuracy: 45.581638 %\n",
            "Epoch 00013 | Loss 1.0517 | Time(s) 5.7372 | Accuracy: 46.209920 %\n",
            "Epoch 00014 | Loss 1.0286 | Time(s) 5.7375 | Accuracy: 46.835653 %\n",
            "Epoch 00015 | Loss 1.0301 | Time(s) 5.7385 | Accuracy: 47.767243 %\n",
            "Epoch 00016 | Loss 1.0159 | Time(s) 5.7412 | Accuracy: 48.511495 %\n",
            "Epoch 00017 | Loss 1.0094 | Time(s) 5.7450 | Accuracy: 49.250650 %\n",
            "Epoch 00018 | Loss 1.0113 | Time(s) 5.7424 | Accuracy: 49.937554 %\n",
            "Epoch 00019 | Loss 0.9983 | Time(s) 5.7415 | Accuracy: 50.410358 %\n",
            "Epoch 00020 | Loss 1.0159 | Time(s) 5.7400 | Accuracy: 50.957078 %\n",
            "Epoch 00021 | Loss 0.9884 | Time(s) 5.7372 | Accuracy: 51.526737 %\n",
            "Epoch 00022 | Loss 0.9854 | Time(s) 5.7385 | Accuracy: 52.139726 %\n",
            "Epoch 00023 | Loss 0.9941 | Time(s) 5.7300 | Accuracy: 52.784575 %\n",
            "Epoch 00024 | Loss 0.9922 | Time(s) 5.7256 | Accuracy: 53.632054 %\n",
            "Epoch 00025 | Loss 0.9652 | Time(s) 5.7232 | Accuracy: 54.364837 %\n",
            "Epoch 00026 | Loss 0.9927 | Time(s) 5.7251 | Accuracy: 55.106540 %\n",
            "Epoch 00027 | Loss 0.9668 | Time(s) 5.7233 | Accuracy: 55.794719 %\n",
            "Epoch 00028 | Loss 0.9503 | Time(s) 5.7241 | Accuracy: 56.210175 %\n",
            "Epoch 00029 | Loss 0.9451 | Time(s) 5.7183 | Accuracy: 56.601417 %\n",
            "Results stored.\n",
            "Starting new training\n",
            "Finished data loading and preprocessing.\n",
            "  NumNodes: 19717\n",
            "  NumEdges: 88651\n",
            "  NumFeats: 500\n",
            "  NumClasses: 3\n",
            "  NumTrainingSamples: 60\n",
            "  NumValidationSamples: 500\n",
            "  NumTestSamples: 1000\n",
            "\n",
            "DGLGraph(num_nodes=19717, num_edges=108365,\n",
            "         ndata_schemes={}\n",
            "         edata_schemes={})\n",
            "Epoch 00000 | Loss 1.0908 | Time(s) 5.5769 | Accuracy: 39.683693 %\n",
            "Epoch 00001 | Loss 1.0906 | Time(s) 5.5814 | Accuracy: 39.577917 %\n",
            "Epoch 00002 | Loss 1.0838 | Time(s) 5.5883 | Accuracy: 39.329408 %\n",
            "Epoch 00003 | Loss 1.0839 | Time(s) 5.5833 | Accuracy: 39.055411 %\n",
            "Epoch 00004 | Loss 1.0789 | Time(s) 5.5689 | Accuracy: 39.000612 %\n",
            "Epoch 00005 | Loss 1.0656 | Time(s) 5.5819 | Accuracy: 39.593210 %\n",
            "Epoch 00006 | Loss 1.0641 | Time(s) 5.5742 | Accuracy: 40.713412 %\n",
            "Epoch 00007 | Loss 1.0741 | Time(s) 5.5753 | Accuracy: 42.047714 %\n",
            "Epoch 00008 | Loss 1.0503 | Time(s) 5.5709 | Accuracy: 43.164092 %\n",
            "Epoch 00009 | Loss 1.0453 | Time(s) 5.5792 | Accuracy: 44.133914 %\n",
            "Epoch 00010 | Loss 1.0415 | Time(s) 5.5876 | Accuracy: 45.037468 %\n",
            "Epoch 00011 | Loss 1.0363 | Time(s) 5.5816 | Accuracy: 45.877300 %\n",
            "Epoch 00012 | Loss 1.0239 | Time(s) 5.5864 | Accuracy: 46.687822 %\n",
            "Epoch 00013 | Loss 1.0233 | Time(s) 5.5921 | Accuracy: 47.379824 %\n",
            "Epoch 00014 | Loss 1.0205 | Time(s) 5.5863 | Accuracy: 48.153387 %\n",
            "Epoch 00015 | Loss 1.0151 | Time(s) 5.5820 | Accuracy: 48.846664 %\n",
            "Epoch 00016 | Loss 1.0156 | Time(s) 5.5848 | Accuracy: 49.589642 %\n",
            "Epoch 00017 | Loss 1.0015 | Time(s) 5.5850 | Accuracy: 50.243411 %\n",
            "Epoch 00018 | Loss 1.0029 | Time(s) 5.5840 | Accuracy: 50.858949 %\n",
            "Epoch 00019 | Loss 0.9944 | Time(s) 5.5802 | Accuracy: 51.418413 %\n",
            "Epoch 00020 | Loss 0.9853 | Time(s) 5.5779 | Accuracy: 52.050517 %\n",
            "Epoch 00021 | Loss 0.9922 | Time(s) 5.5787 | Accuracy: 52.663506 %\n",
            "Epoch 00022 | Loss 0.9726 | Time(s) 5.5779 | Accuracy: 53.341490 %\n",
            "Epoch 00023 | Loss 1.0133 | Time(s) 5.5753 | Accuracy: 53.869093 %\n",
            "Epoch 00024 | Loss 0.9538 | Time(s) 5.5787 | Accuracy: 54.354641 %\n",
            "Epoch 00025 | Loss 0.9654 | Time(s) 5.5775 | Accuracy: 54.846562 %\n",
            "Epoch 00026 | Loss 0.9449 | Time(s) 5.5808 | Accuracy: 55.209767 %\n",
            "Epoch 00027 | Loss 0.9406 | Time(s) 5.5814 | Accuracy: 55.612479 %\n",
            "Epoch 00028 | Loss 0.9603 | Time(s) 5.5815 | Accuracy: 56.016465 %\n",
            "Epoch 00029 | Loss 0.9545 | Time(s) 5.5849 | Accuracy: 56.343987 %\n",
            "Results stored.\n",
            "New learning rate...\n"
          ],
          "name": "stdout"
        }
      ]
    },
    {
      "cell_type": "code",
      "metadata": {
        "id": "Simlx8ur7sgb",
        "colab_type": "code",
        "colab": {}
      },
      "source": [
        "axisX = range(30)\n",
        "colors = dict()\n",
        "#lrs = [1e-1, 1e-2, 1e-3, 1e-4]\n",
        "colors[1e-1] = \"red\"\n",
        "colors[1e-2] = \"orange\"\n",
        "colors[1e-3] = \"blue\"\n",
        "colors[1e-4] = \"green\""
      ],
      "execution_count": 0,
      "outputs": []
    },
    {
      "cell_type": "code",
      "metadata": {
        "id": "6BcuvuOK9ALs",
        "colab_type": "code",
        "outputId": "8e340a54-0957-4706-c949-c47678e29238",
        "colab": {
          "base_uri": "https://localhost:8080/",
          "height": 265
        }
      },
      "source": [
        "for lr in lrs:\n",
        "  plt.plot(axisX, lrAccTest[lr], color = colors[lr], label=str(lr))\n",
        "plt.legend()\n",
        "plt.show()"
      ],
      "execution_count": 0,
      "outputs": [
        {
          "output_type": "display_data",
          "data": {
            "image/png": "[encoded data removed]",
            "text/plain": [
              "<Figure size 432x288 with 1 Axes>"
            ]
          },
          "metadata": {
            "tags": []
          }
        }
      ]
    },
    {
      "cell_type": "code",
      "metadata": {
        "id": "XpQULOcc8fka",
        "colab_type": "code",
        "outputId": "c9454726-5b3a-4d44-ed3c-870bdfd29200",
        "colab": {
          "base_uri": "https://localhost:8080/",
          "height": 265
        }
      },
      "source": [
        "for lr in lrs:\n",
        "  plt.plot(axisX, lrLossTest[lr], color = colors[lr], label=str(lr))\n",
        "plt.legend()\n",
        "plt.show()"
      ],
      "execution_count": 0,
      "outputs": [
        {
          "output_type": "display_data",
          "data": {
            "image/png": "[encoded data removed]",
            "text/plain": [
              "<Figure size 432x288 with 1 Axes>"
            ]
          },
          "metadata": {
            "tags": []
          }
        }
      ]
    },
    {
      "cell_type": "markdown",
      "metadata": {
        "id": "70XUAV7w5Jsf",
        "colab_type": "text"
      },
      "source": [
        "TEST ^^^^^^^^^^^^^^^^^^^^^^^^^"
      ]
    },
    {
      "cell_type": "code",
      "metadata": {
        "id": "h3SQOrzeN3mo",
        "colab_type": "code",
        "outputId": "36964676-13d4-4f33-c2f6-f833b60b8857",
        "colab": {
          "base_uri": "https://localhost:8080/",
          "height": 1000
        }
      },
      "source": [
        "import time\n",
        "import collections\n",
        "import numpy as np\n",
        "warnings.filterwarnings('ignore')\n",
        "\n",
        "#init counters\n",
        "averageAccPubMed = []\n",
        "averageLossPubMed = []\n",
        "\n",
        "for t in range(n_of_training_cycles):\n",
        "  print(\"Starting new training\")\n",
        "  #get data from DGL\n",
        "  net = Net()\n",
        "  g, features, labels, mask = load_pubmed_data()\n",
        "  print(g)\n",
        "\n",
        "  #point to show on graph\n",
        "  pointsPubMed=dict()\n",
        "  pointsLossPubMed=dict()\n",
        "\n",
        "  #the number of masks to get when training per epoch\n",
        "  n_masks_to_try = 4\n",
        "  #initializing the optimizer (optimizer takes care of optimize the learining rate during training)\n",
        "  optimizer = th.optim.Adam(net.parameters(), lr=2e-3)\n",
        "  optimizer.state = collections.defaultdict(dict)\n",
        "\n",
        "  #dur is just an array to store the duration in order to show them later\n",
        "  dur = []\n",
        "\n",
        "  #this 'for' cycles on 200 epochs\n",
        "  for epoch in range(n_of_epochs):\n",
        "      t0 = time.time()\n",
        "\n",
        "      #getting only some masks (4)\n",
        "      masksToTry = random.sample(masks,n_masks_to_try)\n",
        "\n",
        "      for m in masksToTry:\n",
        "          #calling 'net(...)' it asks to the GCN to compute the forward    \n",
        "\n",
        "          logits = net(g, features)\n",
        "          logp = F.log_softmax(logits, 1)\n",
        "\n",
        "          #compute loss like the negative log likelihood loss\n",
        "          loss = F.nll_loss(logp[m], labels[m])\n",
        "          \n",
        "          #Since the backward() function accumulates gradients, and you \n",
        "          #don’t want to mix up gradients between minibatch, you have \n",
        "          #to zero them out at the start of a new minibatch. This is \n",
        "          #exactly like how a general (additive) accumulator variable is \n",
        "          #initialized to 0 in code.\n",
        "          optimizer.zero_grad()\n",
        "\n",
        "          #update network weights by loss\n",
        "          loss.backward()\n",
        "\n",
        "          #update optimizer's values after backward\n",
        "          optimizer.step()\n",
        "\n",
        "          #computing accuracy\n",
        "          i = 0\n",
        "          matched = 0\n",
        "          while i < 19717:\n",
        "            if m[i] == 0:\n",
        "              #getting index of the maximum\n",
        "              j = 0\n",
        "              max = None\n",
        "              jMax = 0\n",
        "              for a in logp[i]:\n",
        "                if max==None:\n",
        "                  max = a.item()\n",
        "                  jMax = j\n",
        "                elif max < a.item():\n",
        "                  max = a.item()\n",
        "                  jMax = j\n",
        "                j = j + 1\n",
        "              if jMax == labels[i]:\n",
        "                matched = matched + 1\n",
        "            i = i + 1\n",
        "          acc = matched/(19717-size_masks)*100\n",
        "\n",
        "          if epoch not in pointsPubMed:\n",
        "            pointsPubMed[epoch] = 0\n",
        "            pointsLossPubMed[epoch] = 0\n",
        "          pointsPubMed[epoch] = pointsPubMed[epoch] + acc\n",
        "          pointsLossPubMed[epoch] = pointsLossPubMed[epoch] + loss.item()\n",
        "          \n",
        "      dur.append(time.time() - t0)\n",
        "      \n",
        "      #computing the average of the accuracy and the loss\n",
        "      pointsPubMed[epoch] = pointsPubMed[epoch]/n_masks_to_try\n",
        "      pointsLossPubMed[epoch] = pointsLossPubMed[epoch]/n_masks_to_try\n",
        "\n",
        "      print(\"Epoch {:05d} | Loss {:.4f} | Time(s) {:.4f} | Accuracy: {:.6f} %\".format(\n",
        "              epoch, loss.item(), np.mean(dur), pointsPubMed[epoch]))\n",
        "  #storing results    \n",
        "  averageAccPubMed.append(pointsPubMed)\n",
        "  averageLossPubMed.append(pointsLossPubMed)\n",
        "  print(\"Results stored.\")"
      ],
      "execution_count": 0,
      "outputs": [
        {
          "output_type": "stream",
          "text": [
            "Starting new training\n",
            "Finished data loading and preprocessing.\n",
            "  NumNodes: 19717\n",
            "  NumEdges: 88651\n",
            "  NumFeats: 500\n",
            "  NumClasses: 3\n",
            "  NumTrainingSamples: 60\n",
            "  NumValidationSamples: 500\n",
            "  NumTestSamples: 1000\n",
            "\n",
            "DGLGraph(num_nodes=19717, num_edges=108365,\n",
            "         ndata_schemes={}\n",
            "         edata_schemes={})\n",
            "Epoch 00000 | Loss 1.0122 | Time(s) 5.4713 | Accuracy: 44.661518 %\n",
            "Epoch 00001 | Loss 0.9039 | Time(s) 5.4781 | Accuracy: 50.350461 %\n",
            "Epoch 00002 | Loss 0.8905 | Time(s) 5.4659 | Accuracy: 56.586124 %\n",
            "Epoch 00003 | Loss 0.7999 | Time(s) 5.4654 | Accuracy: 61.882551 %\n",
            "Epoch 00004 | Loss 0.7733 | Time(s) 5.4543 | Accuracy: 65.589795 %\n",
            "Epoch 00005 | Loss 0.7454 | Time(s) 5.4639 | Accuracy: 67.989499 %\n",
            "Epoch 00006 | Loss 0.7854 | Time(s) 5.4647 | Accuracy: 69.048529 %\n",
            "Epoch 00007 | Loss 0.6895 | Time(s) 5.4849 | Accuracy: 71.945252 %\n",
            "Epoch 00008 | Loss 0.7206 | Time(s) 5.4777 | Accuracy: 75.039507 %\n",
            "Epoch 00009 | Loss 0.6326 | Time(s) 5.4781 | Accuracy: 73.919305 %\n",
            "Epoch 00010 | Loss 0.6149 | Time(s) 5.4836 | Accuracy: 74.186930 %\n",
            "Epoch 00011 | Loss 0.5931 | Time(s) 5.4840 | Accuracy: 75.999133 %\n",
            "Epoch 00012 | Loss 0.5958 | Time(s) 5.4863 | Accuracy: 78.225519 %\n",
            "Epoch 00013 | Loss 0.5553 | Time(s) 5.4893 | Accuracy: 78.953204 %\n",
            "Epoch 00014 | Loss 0.5636 | Time(s) 5.4857 | Accuracy: 78.131213 %\n",
            "Epoch 00015 | Loss 0.5424 | Time(s) 5.4879 | Accuracy: 77.207269 %\n",
            "Epoch 00016 | Loss 0.5216 | Time(s) 5.5054 | Accuracy: 77.589591 %\n",
            "Epoch 00017 | Loss 0.5075 | Time(s) 5.5053 | Accuracy: 78.258653 %\n",
            "Epoch 00018 | Loss 0.5290 | Time(s) 5.5103 | Accuracy: 79.071724 %\n",
            "Epoch 00019 | Loss 0.4692 | Time(s) 5.5107 | Accuracy: 79.032217 %\n",
            "Epoch 00020 | Loss 0.5534 | Time(s) 5.5063 | Accuracy: 78.156701 %\n",
            "Epoch 00021 | Loss 0.5001 | Time(s) 5.5065 | Accuracy: 78.964673 %\n",
            "Epoch 00022 | Loss 0.4946 | Time(s) 5.5081 | Accuracy: 80.003313 %\n",
            "Epoch 00023 | Loss 0.5075 | Time(s) 5.5151 | Accuracy: 80.509252 %\n",
            "Epoch 00024 | Loss 0.4562 | Time(s) 5.5156 | Accuracy: 80.362696 %\n",
            "Epoch 00025 | Loss 0.4756 | Time(s) 5.5188 | Accuracy: 80.631595 %\n",
            "Epoch 00026 | Loss 0.4364 | Time(s) 5.5257 | Accuracy: 80.775603 %\n",
            "Epoch 00027 | Loss 0.4557 | Time(s) 5.5278 | Accuracy: 79.609522 %\n",
            "Epoch 00028 | Loss 0.4396 | Time(s) 5.5315 | Accuracy: 78.345313 %\n",
            "Epoch 00029 | Loss 0.5052 | Time(s) 5.5388 | Accuracy: 78.876740 %\n",
            "Epoch 00030 | Loss 0.4390 | Time(s) 5.5369 | Accuracy: 80.825305 %\n",
            "Epoch 00031 | Loss 0.5065 | Time(s) 5.5352 | Accuracy: 81.335067 %\n",
            "Epoch 00032 | Loss 0.4717 | Time(s) 5.5373 | Accuracy: 80.644339 %\n",
            "Epoch 00033 | Loss 0.4205 | Time(s) 5.5393 | Accuracy: 79.491003 %\n",
            "Epoch 00034 | Loss 0.4266 | Time(s) 5.5414 | Accuracy: 79.903910 %\n",
            "Epoch 00035 | Loss 0.4063 | Time(s) 5.5418 | Accuracy: 81.123515 %\n",
            "Epoch 00036 | Loss 0.4386 | Time(s) 5.5416 | Accuracy: 81.578478 %\n",
            "Epoch 00037 | Loss 0.4500 | Time(s) 5.5427 | Accuracy: 81.879237 %\n",
            "Epoch 00038 | Loss 0.4228 | Time(s) 5.5472 | Accuracy: 82.011776 %\n",
            "Epoch 00039 | Loss 0.6064 | Time(s) 5.5498 | Accuracy: 81.583575 %\n",
            "Epoch 00040 | Loss 0.4281 | Time(s) 5.5494 | Accuracy: 80.556405 %\n",
            "Epoch 00041 | Loss 0.4534 | Time(s) 5.5531 | Accuracy: 80.720803 %\n",
            "Epoch 00042 | Loss 0.4111 | Time(s) 5.5558 | Accuracy: 81.136259 %\n",
            "Epoch 00043 | Loss 0.4989 | Time(s) 5.5582 | Accuracy: 81.805322 %\n",
            "Epoch 00044 | Loss 0.4182 | Time(s) 5.5593 | Accuracy: 82.187643 %\n",
            "Epoch 00045 | Loss 0.4242 | Time(s) 5.5604 | Accuracy: 81.712290 %\n",
            "Epoch 00046 | Loss 0.3811 | Time(s) 5.5596 | Accuracy: 80.979508 %\n",
            "Epoch 00047 | Loss 0.4031 | Time(s) 5.5598 | Accuracy: 80.956568 %\n",
            "Epoch 00048 | Loss 0.5275 | Time(s) 5.5614 | Accuracy: 81.727583 %\n",
            "Epoch 00049 | Loss 0.3435 | Time(s) 5.5604 | Accuracy: 81.851200 %\n",
            "Epoch 00050 | Loss 0.4068 | Time(s) 5.5627 | Accuracy: 81.765815 %\n",
            "Epoch 00051 | Loss 0.4757 | Time(s) 5.5634 | Accuracy: 81.828261 %\n",
            "Epoch 00052 | Loss 0.3639 | Time(s) 5.5645 | Accuracy: 81.856298 %\n",
            "Epoch 00053 | Loss 0.3622 | Time(s) 5.5647 | Accuracy: 81.858847 %\n",
            "Epoch 00054 | Loss 0.3638 | Time(s) 5.5658 | Accuracy: 81.714839 %\n",
            "Epoch 00055 | Loss 0.3775 | Time(s) 5.5662 | Accuracy: 81.806596 %\n",
            "Epoch 00056 | Loss 0.4083 | Time(s) 5.5671 | Accuracy: 81.574655 %\n",
            "Epoch 00057 | Loss 0.4160 | Time(s) 5.5673 | Accuracy: 81.323597 %\n",
            "Epoch 00058 | Loss 0.5429 | Time(s) 5.5673 | Accuracy: 79.986746 %\n",
            "Epoch 00059 | Loss 0.3428 | Time(s) 5.5687 | Accuracy: 81.185961 %\n",
            "Epoch 00060 | Loss 0.3544 | Time(s) 5.5680 | Accuracy: 81.526227 %\n",
            "Epoch 00061 | Loss 0.3542 | Time(s) 5.5706 | Accuracy: 81.616710 %\n",
            "Epoch 00062 | Loss 0.3772 | Time(s) 5.5720 | Accuracy: 81.505837 %\n",
            "Epoch 00063 | Loss 0.3503 | Time(s) 5.5730 | Accuracy: 81.425549 %\n",
            "Epoch 00064 | Loss 0.3988 | Time(s) 5.5730 | Accuracy: 81.459958 %\n",
            "Results stored.\n",
            "Starting new training\n",
            "Finished data loading and preprocessing.\n",
            "  NumNodes: 19717\n",
            "  NumEdges: 88651\n",
            "  NumFeats: 500\n",
            "  NumClasses: 3\n",
            "  NumTrainingSamples: 60\n",
            "  NumValidationSamples: 500\n",
            "  NumTestSamples: 1000\n",
            "\n",
            "DGLGraph(num_nodes=19717, num_edges=108365,\n",
            "         ndata_schemes={}\n",
            "         edata_schemes={})\n",
            "Epoch 00000 | Loss 1.0925 | Time(s) 5.5592 | Accuracy: 38.280573 %\n",
            "Epoch 00001 | Loss 1.0566 | Time(s) 5.5880 | Accuracy: 51.047561 %\n",
            "Epoch 00002 | Loss 0.9707 | Time(s) 5.5707 | Accuracy: 51.146964 %\n",
            "Epoch 00003 | Loss 1.0112 | Time(s) 5.5735 | Accuracy: 47.471581 %\n",
            "Epoch 00004 | Loss 0.9680 | Time(s) 5.5912 | Accuracy: 50.449865 %\n",
            "Epoch 00005 | Loss 1.0799 | Time(s) 5.6014 | Accuracy: 53.141408 %\n",
            "Epoch 00006 | Loss 1.0712 | Time(s) 5.5899 | Accuracy: 54.251415 %\n",
            "Epoch 00007 | Loss 0.9279 | Time(s) 5.5966 | Accuracy: 54.576388 %\n",
            "Epoch 00008 | Loss 1.0548 | Time(s) 5.5815 | Accuracy: 54.018199 %\n",
            "Epoch 00009 | Loss 0.8977 | Time(s) 5.5911 | Accuracy: 53.132487 %\n",
            "Epoch 00010 | Loss 0.8654 | Time(s) 5.5916 | Accuracy: 52.055615 %\n",
            "Epoch 00011 | Loss 1.0409 | Time(s) 5.5893 | Accuracy: 51.747209 %\n",
            "Epoch 00012 | Loss 0.9187 | Time(s) 5.5887 | Accuracy: 51.909058 %\n",
            "Epoch 00013 | Loss 0.8810 | Time(s) 5.5874 | Accuracy: 52.169037 %\n",
            "Epoch 00014 | Loss 0.8465 | Time(s) 5.5872 | Accuracy: 52.481266 %\n",
            "Epoch 00015 | Loss 0.8650 | Time(s) 5.5964 | Accuracy: 52.330886 %\n",
            "Epoch 00016 | Loss 0.8540 | Time(s) 5.6074 | Accuracy: 52.324514 %\n",
            "Epoch 00017 | Loss 0.8927 | Time(s) 5.6059 | Accuracy: 52.454504 %\n",
            "Epoch 00018 | Loss 0.8495 | Time(s) 5.6053 | Accuracy: 53.073865 %\n",
            "Epoch 00019 | Loss 0.8204 | Time(s) 5.6030 | Accuracy: 53.110822 %\n",
            "Epoch 00020 | Loss 0.8272 | Time(s) 5.6082 | Accuracy: 51.967681 %\n",
            "Epoch 00021 | Loss 0.8333 | Time(s) 5.6062 | Accuracy: 51.911607 %\n",
            "Epoch 00022 | Loss 0.8378 | Time(s) 5.6071 | Accuracy: 53.345313 %\n",
            "Epoch 00023 | Loss 0.8871 | Time(s) 5.6095 | Accuracy: 53.630779 %\n",
            "Epoch 00024 | Loss 0.8814 | Time(s) 5.6057 | Accuracy: 53.194933 %\n",
            "Epoch 00025 | Loss 0.8174 | Time(s) 5.6083 | Accuracy: 51.719172 %\n",
            "Epoch 00026 | Loss 0.8681 | Time(s) 5.6049 | Accuracy: 51.759953 %\n",
            "Epoch 00027 | Loss 0.8649 | Time(s) 5.6057 | Accuracy: 52.924759 %\n",
            "Epoch 00028 | Loss 0.9893 | Time(s) 5.6071 | Accuracy: 52.991028 %\n",
            "Epoch 00029 | Loss 0.7728 | Time(s) 5.6096 | Accuracy: 52.915838 %\n",
            "Epoch 00030 | Loss 0.7985 | Time(s) 5.6106 | Accuracy: 52.890350 %\n",
            "Epoch 00031 | Loss 0.7796 | Time(s) 5.6149 | Accuracy: 52.671153 %\n",
            "Epoch 00032 | Loss 0.7738 | Time(s) 5.6179 | Accuracy: 52.427741 %\n",
            "Epoch 00033 | Loss 0.8693 | Time(s) 5.6176 | Accuracy: 52.343631 %\n",
            "Epoch 00034 | Loss 0.8825 | Time(s) 5.6171 | Accuracy: 52.938778 %\n",
            "Epoch 00035 | Loss 0.7785 | Time(s) 5.6150 | Accuracy: 53.301983 %\n",
            "Epoch 00036 | Loss 0.8074 | Time(s) 5.6140 | Accuracy: 53.075139 %\n",
            "Epoch 00037 | Loss 0.7827 | Time(s) 5.6137 | Accuracy: 52.807514 %\n",
            "Epoch 00038 | Loss 0.9961 | Time(s) 5.6128 | Accuracy: 52.787123 %\n",
            "Epoch 00039 | Loss 0.8707 | Time(s) 5.6134 | Accuracy: 53.160524 %\n",
            "Epoch 00040 | Loss 0.7858 | Time(s) 5.6122 | Accuracy: 53.314727 %\n",
            "Epoch 00041 | Loss 0.8560 | Time(s) 5.6115 | Accuracy: 53.029260 %\n",
            "Epoch 00042 | Loss 0.7662 | Time(s) 5.6117 | Accuracy: 52.918387 %\n",
            "Epoch 00043 | Loss 0.8297 | Time(s) 5.6148 | Accuracy: 52.655860 %\n",
            "Epoch 00044 | Loss 0.7952 | Time(s) 5.6123 | Accuracy: 52.621451 %\n",
            "Epoch 00045 | Loss 0.9452 | Time(s) 5.6111 | Accuracy: 53.020340 %\n",
            "Epoch 00046 | Loss 0.8304 | Time(s) 5.6133 | Accuracy: 53.298160 %\n",
            "Epoch 00047 | Loss 0.7430 | Time(s) 5.6125 | Accuracy: 53.355508 %\n",
            "Epoch 00048 | Loss 0.7850 | Time(s) 5.6111 | Accuracy: 53.012693 %\n",
            "Epoch 00049 | Loss 0.7825 | Time(s) 5.6119 | Accuracy: 52.529694 %\n",
            "Epoch 00050 | Loss 0.8421 | Time(s) 5.6097 | Accuracy: 52.739970 %\n",
            "Epoch 00051 | Loss 0.7712 | Time(s) 5.6104 | Accuracy: 52.468522 %\n",
            "Epoch 00052 | Loss 0.7758 | Time(s) 5.6119 | Accuracy: 52.465973 %\n",
            "Epoch 00053 | Loss 0.7729 | Time(s) 5.6122 | Accuracy: 52.320691 %\n",
            "Epoch 00054 | Loss 0.8540 | Time(s) 5.6107 | Accuracy: 52.120610 %\n",
            "Epoch 00055 | Loss 0.8315 | Time(s) 5.6097 | Accuracy: 52.220013 %\n",
            "Epoch 00056 | Loss 0.7692 | Time(s) 5.6065 | Accuracy: 52.297752 %\n",
            "Epoch 00057 | Loss 0.8342 | Time(s) 5.6084 | Accuracy: 52.265892 %\n",
            "Epoch 00058 | Loss 0.7256 | Time(s) 5.6079 | Accuracy: 52.264617 %\n",
            "Epoch 00059 | Loss 0.8436 | Time(s) 5.6084 | Accuracy: 52.327063 %\n",
            "Epoch 00060 | Loss 0.8072 | Time(s) 5.6097 | Accuracy: 52.285008 %\n",
            "Epoch 00061 | Loss 0.7599 | Time(s) 5.6084 | Accuracy: 52.346179 %\n",
            "Epoch 00062 | Loss 0.8012 | Time(s) 5.6088 | Accuracy: 52.431564 %\n",
            "Epoch 00063 | Loss 0.7594 | Time(s) 5.6072 | Accuracy: 52.650762 %\n",
            "Epoch 00064 | Loss 0.7964 | Time(s) 5.6071 | Accuracy: 52.659683 %\n",
            "Results stored.\n",
            "Starting new training\n",
            "Finished data loading and preprocessing.\n",
            "  NumNodes: 19717\n",
            "  NumEdges: 88651\n",
            "  NumFeats: 500\n",
            "  NumClasses: 3\n",
            "  NumTrainingSamples: 60\n",
            "  NumValidationSamples: 500\n",
            "  NumTestSamples: 1000\n",
            "\n",
            "DGLGraph(num_nodes=19717, num_edges=108365,\n",
            "         ndata_schemes={}\n",
            "         edata_schemes={})\n",
            "Epoch 00000 | Loss 1.0708 | Time(s) 5.4454 | Accuracy: 23.415915 %\n",
            "Epoch 00001 | Loss 1.0214 | Time(s) 5.4830 | Accuracy: 31.807871 %\n",
            "Epoch 00002 | Loss 0.9819 | Time(s) 5.4659 | Accuracy: 42.500127 %\n",
            "Epoch 00003 | Loss 0.9193 | Time(s) 5.4691 | Accuracy: 57.000306 %\n",
            "Epoch 00004 | Loss 0.8735 | Time(s) 5.5055 | Accuracy: 69.158128 %\n",
            "Epoch 00005 | Loss 0.8305 | Time(s) 5.5292 | Accuracy: 74.782077 %\n",
            "Epoch 00006 | Loss 0.7638 | Time(s) 5.5525 | Accuracy: 75.916297 %\n",
            "Epoch 00007 | Loss 0.7869 | Time(s) 5.5406 | Accuracy: 75.484274 %\n",
            "Epoch 00008 | Loss 0.7360 | Time(s) 5.5454 | Accuracy: 75.940511 %\n",
            "Epoch 00009 | Loss 0.6733 | Time(s) 5.5438 | Accuracy: 79.405618 %\n",
            "Epoch 00010 | Loss 0.6703 | Time(s) 5.5560 | Accuracy: 79.083193 %\n",
            "Epoch 00011 | Loss 0.6359 | Time(s) 5.5528 | Accuracy: 80.485038 %\n",
            "Epoch 00012 | Loss 0.6086 | Time(s) 5.5540 | Accuracy: 80.915787 %\n",
            "Epoch 00013 | Loss 0.5984 | Time(s) 5.5552 | Accuracy: 80.262018 %\n",
            "Epoch 00014 | Loss 0.5858 | Time(s) 5.5622 | Accuracy: 81.066167 %\n",
            "Epoch 00015 | Loss 0.5795 | Time(s) 5.5657 | Accuracy: 80.933629 %\n",
            "Epoch 00016 | Loss 0.6290 | Time(s) 5.5683 | Accuracy: 81.484172 %\n",
            "Epoch 00017 | Loss 0.5295 | Time(s) 5.5627 | Accuracy: 81.629454 %\n",
            "Epoch 00018 | Loss 0.5510 | Time(s) 5.5623 | Accuracy: 80.403477 %\n",
            "Epoch 00019 | Loss 0.5006 | Time(s) 5.5640 | Accuracy: 81.137534 %\n",
            "Epoch 00020 | Loss 0.5097 | Time(s) 5.5628 | Accuracy: 81.945506 %\n",
            "Epoch 00021 | Loss 0.5350 | Time(s) 5.5672 | Accuracy: 81.876689 %\n",
            "Epoch 00022 | Loss 0.5089 | Time(s) 5.5654 | Accuracy: 81.779834 %\n",
            "Epoch 00023 | Loss 0.6776 | Time(s) 5.5686 | Accuracy: 80.978233 %\n",
            "Epoch 00024 | Loss 0.4830 | Time(s) 5.5716 | Accuracy: 81.406433 %\n",
            "Epoch 00025 | Loss 0.5552 | Time(s) 5.5711 | Accuracy: 81.559362 %\n",
            "Epoch 00026 | Loss 0.4655 | Time(s) 5.5746 | Accuracy: 81.633277 %\n",
            "Epoch 00027 | Loss 0.4984 | Time(s) 5.5806 | Accuracy: 81.569557 %\n",
            "Epoch 00028 | Loss 0.5562 | Time(s) 5.5831 | Accuracy: 81.452312 %\n",
            "Epoch 00029 | Loss 0.4974 | Time(s) 5.5844 | Accuracy: 81.556813 %\n",
            "Epoch 00030 | Loss 0.4542 | Time(s) 5.5869 | Accuracy: 81.861396 %\n",
            "Epoch 00031 | Loss 0.5081 | Time(s) 5.5902 | Accuracy: 81.798950 %\n",
            "Epoch 00032 | Loss 0.4979 | Time(s) 5.5899 | Accuracy: 81.653668 %\n",
            "Epoch 00033 | Loss 0.4623 | Time(s) 5.5909 | Accuracy: 81.711016 %\n",
            "Epoch 00034 | Loss 0.4309 | Time(s) 5.5909 | Accuracy: 81.726309 %\n",
            "Epoch 00035 | Loss 0.4143 | Time(s) 5.5923 | Accuracy: 81.856298 %\n",
            "Epoch 00036 | Loss 0.4339 | Time(s) 5.5908 | Accuracy: 81.690625 %\n",
            "Epoch 00037 | Loss 0.4508 | Time(s) 5.5889 | Accuracy: 81.233114 %\n",
            "Epoch 00038 | Loss 0.4960 | Time(s) 5.5924 | Accuracy: 81.537697 %\n",
            "Epoch 00039 | Loss 0.3939 | Time(s) 5.5917 | Accuracy: 81.851200 %\n",
            "Epoch 00040 | Loss 0.3824 | Time(s) 5.5939 | Accuracy: 82.032166 %\n",
            "Epoch 00041 | Loss 0.4697 | Time(s) 5.5948 | Accuracy: 81.652393 %\n",
            "Epoch 00042 | Loss 0.4570 | Time(s) 5.5973 | Accuracy: 81.834633 %\n",
            "Epoch 00043 | Loss 0.4099 | Time(s) 5.5981 | Accuracy: 81.653668 %\n",
            "Epoch 00044 | Loss 0.4699 | Time(s) 5.5968 | Accuracy: 81.335067 %\n",
            "Epoch 00045 | Loss 0.3912 | Time(s) 5.5975 | Accuracy: 81.654942 %\n",
            "Epoch 00046 | Loss 0.3996 | Time(s) 5.5976 | Accuracy: 81.495642 %\n",
            "Epoch 00047 | Loss 0.4227 | Time(s) 5.5977 | Accuracy: 81.394964 %\n",
            "Epoch 00048 | Loss 0.3700 | Time(s) 5.5992 | Accuracy: 81.528776 %\n",
            "Epoch 00049 | Loss 0.3915 | Time(s) 5.5984 | Accuracy: 80.933629 %\n",
            "Epoch 00050 | Loss 0.4065 | Time(s) 5.5969 | Accuracy: 81.568283 %\n",
            "Epoch 00051 | Loss 0.4025 | Time(s) 5.5987 | Accuracy: 81.895805 %\n",
            "Epoch 00052 | Loss 0.4066 | Time(s) 5.5981 | Accuracy: 81.927665 %\n",
            "Epoch 00053 | Loss 0.3825 | Time(s) 5.5981 | Accuracy: 81.855024 %\n",
            "Epoch 00054 | Loss 0.4126 | Time(s) 5.5978 | Accuracy: 81.930214 %\n",
            "Epoch 00055 | Loss 0.3981 | Time(s) 5.5970 | Accuracy: 81.949330 %\n",
            "Epoch 00056 | Loss 0.3924 | Time(s) 5.5966 | Accuracy: 81.884335 %\n",
            "Epoch 00057 | Loss 0.4087 | Time(s) 5.5964 | Accuracy: 81.833359 %\n",
            "Epoch 00058 | Loss 0.3983 | Time(s) 5.5957 | Accuracy: 81.598868 %\n",
            "Epoch 00059 | Loss 0.3437 | Time(s) 5.5978 | Accuracy: 81.828261 %\n",
            "Epoch 00060 | Loss 0.3831 | Time(s) 5.5995 | Accuracy: 81.875414 %\n",
            "Epoch 00061 | Loss 0.4119 | Time(s) 5.5979 | Accuracy: 81.907274 %\n",
            "Epoch 00062 | Loss 0.3773 | Time(s) 5.5978 | Accuracy: 81.705918 %\n",
            "Epoch 00063 | Loss 0.3700 | Time(s) 5.5969 | Accuracy: 81.749248 %\n",
            "Epoch 00064 | Loss 0.3448 | Time(s) 5.5964 | Accuracy: 81.856298 %\n",
            "Results stored.\n",
            "Starting new training\n",
            "Finished data loading and preprocessing.\n",
            "  NumNodes: 19717\n",
            "  NumEdges: 88651\n",
            "  NumFeats: 500\n",
            "  NumClasses: 3\n",
            "  NumTrainingSamples: 60\n",
            "  NumValidationSamples: 500\n",
            "  NumTestSamples: 1000\n",
            "\n",
            "DGLGraph(num_nodes=19717, num_edges=108365,\n",
            "         ndata_schemes={}\n",
            "         edata_schemes={})\n",
            "Epoch 00000 | Loss 1.0587 | Time(s) 5.4782 | Accuracy: 36.102615 %\n",
            "Epoch 00001 | Loss 0.9639 | Time(s) 5.5133 | Accuracy: 56.747974 %\n",
            "Epoch 00002 | Loss 0.9187 | Time(s) 5.5505 | Accuracy: 64.975531 %\n",
            "Epoch 00003 | Loss 0.8478 | Time(s) 5.6140 | Accuracy: 71.443136 %\n",
            "Epoch 00004 | Loss 0.8705 | Time(s) 5.6421 | Accuracy: 76.011877 %\n",
            "Epoch 00005 | Loss 0.7642 | Time(s) 5.6284 | Accuracy: 76.515267 %\n",
            "Epoch 00006 | Loss 0.7323 | Time(s) 5.6281 | Accuracy: 76.924351 %\n",
            "Epoch 00007 | Loss 0.7063 | Time(s) 5.6194 | Accuracy: 77.745068 %\n",
            "Epoch 00008 | Loss 0.6864 | Time(s) 5.6177 | Accuracy: 78.897130 %\n",
            "Epoch 00009 | Loss 0.6763 | Time(s) 5.6076 | Accuracy: 79.733140 %\n",
            "Epoch 00010 | Loss 0.6346 | Time(s) 5.6046 | Accuracy: 80.790896 %\n",
            "Epoch 00011 | Loss 0.6106 | Time(s) 5.6048 | Accuracy: 80.580619 %\n",
            "Epoch 00012 | Loss 0.6360 | Time(s) 5.6008 | Accuracy: 80.465922 %\n",
            "Epoch 00013 | Loss 0.5922 | Time(s) 5.6024 | Accuracy: 79.906459 %\n",
            "Epoch 00014 | Loss 0.6068 | Time(s) 5.6097 | Accuracy: 80.163888 %\n",
            "Epoch 00015 | Loss 0.5885 | Time(s) 5.6074 | Accuracy: 80.901769 %\n",
            "Epoch 00016 | Loss 0.5981 | Time(s) 5.6056 | Accuracy: 80.683846 %\n",
            "Epoch 00017 | Loss 0.5195 | Time(s) 5.6045 | Accuracy: 80.657083 %\n",
            "Epoch 00018 | Loss 0.5253 | Time(s) 5.6057 | Accuracy: 80.524545 %\n",
            "Epoch 00019 | Loss 0.5432 | Time(s) 5.6008 | Accuracy: 80.583168 %\n",
            "Epoch 00020 | Loss 0.5468 | Time(s) 5.5979 | Accuracy: 80.872458 %\n",
            "Epoch 00021 | Loss 0.5084 | Time(s) 5.5949 | Accuracy: 81.245858 %\n",
            "Epoch 00022 | Loss 0.5080 | Time(s) 5.5965 | Accuracy: 81.732681 %\n",
            "Epoch 00023 | Loss 0.5504 | Time(s) 5.6020 | Accuracy: 82.028343 %\n",
            "Epoch 00024 | Loss 0.5129 | Time(s) 5.5956 | Accuracy: 81.974818 %\n",
            "Epoch 00025 | Loss 0.4833 | Time(s) 5.5927 | Accuracy: 81.985013 %\n",
            "Epoch 00026 | Loss 0.5157 | Time(s) 5.5932 | Accuracy: 80.933629 %\n",
            "Epoch 00027 | Loss 0.4942 | Time(s) 5.5896 | Accuracy: 80.343580 %\n",
            "Epoch 00028 | Loss 0.4624 | Time(s) 5.5909 | Accuracy: 81.414080 %\n",
            "Epoch 00029 | Loss 0.4734 | Time(s) 5.5913 | Accuracy: 81.725034 %\n",
            "Epoch 00030 | Loss 0.4191 | Time(s) 5.5878 | Accuracy: 81.744150 %\n",
            "Epoch 00031 | Loss 0.4541 | Time(s) 5.5849 | Accuracy: 81.691900 %\n",
            "Epoch 00032 | Loss 0.5916 | Time(s) 5.5789 | Accuracy: 81.681705 %\n",
            "Epoch 00033 | Loss 0.4758 | Time(s) 5.5767 | Accuracy: 82.115002 %\n",
            "Epoch 00034 | Loss 0.4575 | Time(s) 5.5777 | Accuracy: 82.062752 %\n",
            "Epoch 00035 | Loss 0.4325 | Time(s) 5.5759 | Accuracy: 81.953153 %\n",
            "Epoch 00036 | Loss 0.4614 | Time(s) 5.5739 | Accuracy: 81.307030 %\n",
            "Epoch 00037 | Loss 0.4487 | Time(s) 5.5731 | Accuracy: 81.535148 %\n",
            "Epoch 00038 | Loss 0.4440 | Time(s) 5.5694 | Accuracy: 81.923842 %\n",
            "Epoch 00039 | Loss 0.4404 | Time(s) 5.5688 | Accuracy: 81.973543 %\n",
            "Epoch 00040 | Loss 0.4239 | Time(s) 5.5679 | Accuracy: 81.625631 %\n",
            "Epoch 00041 | Loss 0.4030 | Time(s) 5.5667 | Accuracy: 81.417903 %\n",
            "Epoch 00042 | Loss 0.3987 | Time(s) 5.5625 | Accuracy: 82.051282 %\n",
            "Epoch 00043 | Loss 0.4563 | Time(s) 5.5581 | Accuracy: 82.304889 %\n",
            "Epoch 00044 | Loss 0.3775 | Time(s) 5.5554 | Accuracy: 82.267931 %\n",
            "Epoch 00045 | Loss 0.4147 | Time(s) 5.5566 | Accuracy: 81.538971 %\n",
            "Epoch 00046 | Loss 0.4058 | Time(s) 5.5553 | Accuracy: 81.115869 %\n",
            "Epoch 00047 | Loss 0.3824 | Time(s) 5.5540 | Accuracy: 82.115002 %\n",
            "Epoch 00048 | Loss 0.4221 | Time(s) 5.5560 | Accuracy: 82.281949 %\n",
            "Epoch 00049 | Loss 0.3814 | Time(s) 5.5561 | Accuracy: 82.173625 %\n",
            "Epoch 00050 | Loss 0.3609 | Time(s) 5.5536 | Accuracy: 82.204211 %\n",
            "Epoch 00051 | Loss 0.4253 | Time(s) 5.5522 | Accuracy: 82.007952 %\n",
            "Epoch 00052 | Loss 0.3632 | Time(s) 5.5499 | Accuracy: 81.750523 %\n",
            "Epoch 00053 | Loss 0.3956 | Time(s) 5.5486 | Accuracy: 81.555539 %\n",
            "Epoch 00054 | Loss 0.3587 | Time(s) 5.5474 | Accuracy: 81.945506 %\n",
            "Epoch 00055 | Loss 0.4079 | Time(s) 5.5458 | Accuracy: 82.267931 %\n",
            "Epoch 00056 | Loss 0.4027 | Time(s) 5.5447 | Accuracy: 82.325279 %\n",
            "Epoch 00057 | Loss 0.3994 | Time(s) 5.5419 | Accuracy: 81.946781 %\n",
            "Epoch 00058 | Loss 0.4095 | Time(s) 5.5421 | Accuracy: 82.088240 %\n",
            "Epoch 00059 | Loss 0.3598 | Time(s) 5.5443 | Accuracy: 81.940409 %\n",
            "Epoch 00060 | Loss 0.3551 | Time(s) 5.5439 | Accuracy: 81.661314 %\n",
            "Epoch 00061 | Loss 0.3538 | Time(s) 5.5438 | Accuracy: 81.581027 %\n",
            "Epoch 00062 | Loss 0.3571 | Time(s) 5.5435 | Accuracy: 81.527502 %\n",
            "Epoch 00063 | Loss 0.4009 | Time(s) 5.5414 | Accuracy: 81.675333 %\n",
            "Epoch 00064 | Loss 0.3402 | Time(s) 5.5390 | Accuracy: 81.531325 %\n",
            "Results stored.\n",
            "Starting new training\n",
            "Finished data loading and preprocessing.\n",
            "  NumNodes: 19717\n",
            "  NumEdges: 88651\n",
            "  NumFeats: 500\n",
            "  NumClasses: 3\n",
            "  NumTrainingSamples: 60\n",
            "  NumValidationSamples: 500\n",
            "  NumTestSamples: 1000\n",
            "\n",
            "DGLGraph(num_nodes=19717, num_edges=108365,\n",
            "         ndata_schemes={}\n",
            "         edata_schemes={})\n",
            "Epoch 00000 | Loss 1.0567 | Time(s) 5.3598 | Accuracy: 24.793546 %\n",
            "Epoch 00001 | Loss 1.0201 | Time(s) 5.3563 | Accuracy: 33.130703 %\n",
            "Epoch 00002 | Loss 0.9634 | Time(s) 5.4009 | Accuracy: 36.924606 %\n",
            "Epoch 00003 | Loss 1.0318 | Time(s) 5.4053 | Accuracy: 39.760157 %\n",
            "Epoch 00004 | Loss 0.9272 | Time(s) 5.4029 | Accuracy: 42.168782 %\n",
            "Epoch 00005 | Loss 0.9297 | Time(s) 5.3915 | Accuracy: 45.563797 %\n",
            "Epoch 00006 | Loss 0.9008 | Time(s) 5.3938 | Accuracy: 48.045063 %\n",
            "Epoch 00007 | Loss 0.8442 | Time(s) 5.4073 | Accuracy: 54.619718 %\n",
            "Epoch 00008 | Loss 0.8166 | Time(s) 5.4054 | Accuracy: 65.361676 %\n",
            "Epoch 00009 | Loss 0.7623 | Time(s) 5.4145 | Accuracy: 73.053984 %\n",
            "Epoch 00010 | Loss 0.7014 | Time(s) 5.4060 | Accuracy: 77.262069 %\n",
            "Epoch 00011 | Loss 0.6703 | Time(s) 5.4043 | Accuracy: 78.573431 %\n",
            "Epoch 00012 | Loss 0.6468 | Time(s) 5.4091 | Accuracy: 79.154560 %\n",
            "Epoch 00013 | Loss 0.6124 | Time(s) 5.4145 | Accuracy: 80.061936 %\n",
            "Epoch 00014 | Loss 0.5671 | Time(s) 5.4125 | Accuracy: 80.755212 %\n",
            "Epoch 00015 | Loss 0.6749 | Time(s) 5.4281 | Accuracy: 80.894122 %\n",
            "Epoch 00016 | Loss 0.5241 | Time(s) 5.4261 | Accuracy: 81.008819 %\n",
            "Epoch 00017 | Loss 0.5571 | Time(s) 5.4242 | Accuracy: 80.965489 %\n",
            "Epoch 00018 | Loss 0.5502 | Time(s) 5.4303 | Accuracy: 81.155375 %\n",
            "Epoch 00019 | Loss 0.5389 | Time(s) 5.4264 | Accuracy: 81.199980 %\n",
            "Epoch 00020 | Loss 0.5218 | Time(s) 5.4248 | Accuracy: 81.884335 %\n",
            "Epoch 00021 | Loss 0.5891 | Time(s) 5.4233 | Accuracy: 81.993934 %\n",
            "Epoch 00022 | Loss 0.5303 | Time(s) 5.4240 | Accuracy: 81.942958 %\n",
            "Epoch 00023 | Loss 0.4720 | Time(s) 5.4255 | Accuracy: 81.609064 %\n",
            "Epoch 00024 | Loss 0.4621 | Time(s) 5.4305 | Accuracy: 81.837182 %\n",
            "Epoch 00025 | Loss 0.6076 | Time(s) 5.4306 | Accuracy: 81.903451 %\n",
            "Epoch 00026 | Loss 0.5005 | Time(s) 5.4381 | Accuracy: 82.016873 %\n",
            "Epoch 00027 | Loss 0.4524 | Time(s) 5.4371 | Accuracy: 82.094612 %\n",
            "Epoch 00028 | Loss 0.4528 | Time(s) 5.4389 | Accuracy: 81.861396 %\n",
            "Epoch 00029 | Loss 0.4685 | Time(s) 5.4442 | Accuracy: 81.745425 %\n",
            "Epoch 00030 | Loss 0.4284 | Time(s) 5.4477 | Accuracy: 82.115002 %\n",
            "Epoch 00031 | Loss 0.4686 | Time(s) 5.4479 | Accuracy: 82.174899 %\n",
            "Epoch 00032 | Loss 0.4311 | Time(s) 5.4488 | Accuracy: 82.158332 %\n",
            "Epoch 00033 | Loss 0.6286 | Time(s) 5.4468 | Accuracy: 81.498190 %\n",
            "Epoch 00034 | Loss 0.4186 | Time(s) 5.4474 | Accuracy: 81.866493 %\n",
            "Epoch 00035 | Loss 0.4491 | Time(s) 5.4469 | Accuracy: 82.227150 %\n",
            "Epoch 00036 | Loss 0.4486 | Time(s) 5.4486 | Accuracy: 82.125198 %\n",
            "Epoch 00037 | Loss 0.3968 | Time(s) 5.4508 | Accuracy: 82.108630 %\n",
            "Epoch 00038 | Loss 0.4266 | Time(s) 5.4510 | Accuracy: 82.075496 %\n",
            "Epoch 00039 | Loss 0.4429 | Time(s) 5.4519 | Accuracy: 81.790029 %\n",
            "Epoch 00040 | Loss 0.4222 | Time(s) 5.4553 | Accuracy: 81.855024 %\n",
            "Epoch 00041 | Loss 0.4095 | Time(s) 5.4554 | Accuracy: 82.092063 %\n",
            "Epoch 00042 | Loss 0.4416 | Time(s) 5.4586 | Accuracy: 82.035989 %\n",
            "Epoch 00043 | Loss 0.4657 | Time(s) 5.4568 | Accuracy: 82.046184 %\n",
            "Epoch 00044 | Loss 0.3998 | Time(s) 5.4563 | Accuracy: 82.163430 %\n",
            "Epoch 00045 | Loss 0.4300 | Time(s) 5.4566 | Accuracy: 82.041087 %\n",
            "Epoch 00046 | Loss 0.4191 | Time(s) 5.4585 | Accuracy: 81.891981 %\n",
            "Epoch 00047 | Loss 0.4073 | Time(s) 5.4585 | Accuracy: 81.983739 %\n",
            "Epoch 00048 | Loss 0.3734 | Time(s) 5.4598 | Accuracy: 82.174899 %\n",
            "Epoch 00049 | Loss 0.4128 | Time(s) 5.4593 | Accuracy: 82.285773 %\n",
            "Epoch 00050 | Loss 0.3623 | Time(s) 5.4607 | Accuracy: 82.420859 %\n",
            "Epoch 00051 | Loss 0.3924 | Time(s) 5.4613 | Accuracy: 82.219503 %\n",
            "Epoch 00052 | Loss 0.3527 | Time(s) 5.4618 | Accuracy: 82.164704 %\n",
            "Epoch 00053 | Loss 0.3854 | Time(s) 5.4624 | Accuracy: 82.084417 %\n",
            "Epoch 00054 | Loss 0.3758 | Time(s) 5.4629 | Accuracy: 81.718662 %\n",
            "Epoch 00055 | Loss 0.3849 | Time(s) 5.4631 | Accuracy: 80.989703 %\n",
            "Epoch 00056 | Loss 0.3552 | Time(s) 5.4650 | Accuracy: 81.349085 %\n",
            "Epoch 00057 | Loss 0.4052 | Time(s) 5.4650 | Accuracy: 82.004129 %\n",
            "Epoch 00058 | Loss 0.3347 | Time(s) 5.4639 | Accuracy: 82.016873 %\n",
            "Epoch 00059 | Loss 0.3318 | Time(s) 5.4668 | Accuracy: 82.010501 %\n",
            "Epoch 00060 | Loss 0.3681 | Time(s) 5.4665 | Accuracy: 81.995208 %\n",
            "Epoch 00061 | Loss 0.3238 | Time(s) 5.4676 | Accuracy: 82.019422 %\n",
            "Epoch 00062 | Loss 0.3479 | Time(s) 5.4672 | Accuracy: 81.935311 %\n",
            "Epoch 00063 | Loss 0.3573 | Time(s) 5.4677 | Accuracy: 82.121374 %\n",
            "Epoch 00064 | Loss 0.3549 | Time(s) 5.4680 | Accuracy: 81.969720 %\n",
            "Results stored.\n",
            "Starting new training\n",
            "Finished data loading and preprocessing.\n",
            "  NumNodes: 19717\n",
            "  NumEdges: 88651\n",
            "  NumFeats: 500\n",
            "  NumClasses: 3\n",
            "  NumTrainingSamples: 60\n",
            "  NumValidationSamples: 500\n",
            "  NumTestSamples: 1000\n",
            "\n",
            "DGLGraph(num_nodes=19717, num_edges=108365,\n",
            "         ndata_schemes={}\n",
            "         edata_schemes={})\n",
            "Epoch 00000 | Loss 1.0451 | Time(s) 5.4387 | Accuracy: 40.624203 %\n",
            "Epoch 00001 | Loss 1.0025 | Time(s) 5.4539 | Accuracy: 48.282102 %\n",
            "Epoch 00002 | Loss 0.9429 | Time(s) 5.4934 | Accuracy: 59.800173 %\n",
            "Epoch 00003 | Loss 0.8531 | Time(s) 5.5350 | Accuracy: 64.525667 %\n",
            "Epoch 00004 | Loss 0.8328 | Time(s) 5.5562 | Accuracy: 67.830198 %\n",
            "Epoch 00005 | Loss 0.7747 | Time(s) 5.5716 | Accuracy: 70.436356 %\n",
            "Epoch 00006 | Loss 0.7588 | Time(s) 5.5898 | Accuracy: 72.423153 %\n",
            "Epoch 00007 | Loss 0.7433 | Time(s) 5.6049 | Accuracy: 74.074782 %\n",
            "Epoch 00008 | Loss 0.7008 | Time(s) 5.6097 | Accuracy: 74.766784 %\n",
            "Epoch 00009 | Loss 0.8055 | Time(s) 5.6227 | Accuracy: 75.997859 %\n",
            "Epoch 00010 | Loss 0.6737 | Time(s) 5.6334 | Accuracy: 77.431564 %\n",
            "Epoch 00011 | Loss 0.7575 | Time(s) 5.6373 | Accuracy: 77.937503 %\n",
            "Epoch 00012 | Loss 0.7321 | Time(s) 5.6461 | Accuracy: 78.129938 %\n",
            "Epoch 00013 | Loss 0.5934 | Time(s) 5.6506 | Accuracy: 78.800275 %\n",
            "Epoch 00014 | Loss 0.5940 | Time(s) 5.6526 | Accuracy: 79.752256 %\n",
            "Epoch 00015 | Loss 0.5514 | Time(s) 5.6628 | Accuracy: 80.493959 %\n",
            "Epoch 00016 | Loss 0.5361 | Time(s) 5.6640 | Accuracy: 80.729724 %\n",
            "Epoch 00017 | Loss 0.5237 | Time(s) 5.6699 | Accuracy: 80.900494 %\n",
            "Epoch 00018 | Loss 0.5151 | Time(s) 5.6809 | Accuracy: 81.254779 %\n",
            "Epoch 00019 | Loss 0.6905 | Time(s) 5.6828 | Accuracy: 81.468879 %\n",
            "Epoch 00020 | Loss 0.5668 | Time(s) 5.6870 | Accuracy: 81.638375 %\n",
            "Epoch 00021 | Loss 0.5388 | Time(s) 5.6937 | Accuracy: 81.335067 %\n",
            "Epoch 00022 | Loss 0.4800 | Time(s) 5.6988 | Accuracy: 81.031758 %\n",
            "Epoch 00023 | Loss 0.5933 | Time(s) 5.7045 | Accuracy: 81.612887 %\n",
            "Epoch 00024 | Loss 0.4921 | Time(s) 5.7090 | Accuracy: 81.709742 %\n",
            "Epoch 00025 | Loss 0.5526 | Time(s) 5.7091 | Accuracy: 81.272621 %\n",
            "Epoch 00026 | Loss 0.4989 | Time(s) 5.7129 | Accuracy: 81.337615 %\n",
            "Epoch 00027 | Loss 0.4790 | Time(s) 5.7136 | Accuracy: 81.668961 %\n",
            "Epoch 00028 | Loss 0.4543 | Time(s) 5.7204 | Accuracy: 81.632003 %\n",
            "Epoch 00029 | Loss 0.5952 | Time(s) 5.7240 | Accuracy: 81.876689 %\n",
            "Epoch 00030 | Loss 0.4906 | Time(s) 5.7258 | Accuracy: 81.712290 %\n",
            "Epoch 00031 | Loss 0.4569 | Time(s) 5.7254 | Accuracy: 81.914921 %\n",
            "Epoch 00032 | Loss 0.4328 | Time(s) 5.7261 | Accuracy: 81.988836 %\n",
            "Epoch 00033 | Loss 0.5234 | Time(s) 5.7275 | Accuracy: 81.871591 %\n",
            "Epoch 00034 | Loss 0.4641 | Time(s) 5.7274 | Accuracy: 81.795127 %\n",
            "Epoch 00035 | Loss 0.4459 | Time(s) 5.7272 | Accuracy: 82.066575 %\n",
            "Epoch 00036 | Loss 0.4249 | Time(s) 5.7271 | Accuracy: 81.828261 %\n",
            "Epoch 00037 | Loss 0.4191 | Time(s) 5.7272 | Accuracy: 81.923842 %\n",
            "Epoch 00038 | Loss 0.4162 | Time(s) 5.7300 | Accuracy: 81.774736 %\n",
            "Epoch 00039 | Loss 0.4727 | Time(s) 5.7323 | Accuracy: 81.912372 %\n",
            "Epoch 00040 | Loss 0.4650 | Time(s) 5.7362 | Accuracy: 81.956976 %\n",
            "Epoch 00041 | Loss 0.4024 | Time(s) 5.7377 | Accuracy: 81.602692 %\n",
            "Epoch 00042 | Loss 0.3811 | Time(s) 5.7381 | Accuracy: 81.466330 %\n",
            "Epoch 00043 | Loss 0.3887 | Time(s) 5.7383 | Accuracy: 81.704644 %\n",
            "Epoch 00044 | Loss 0.4126 | Time(s) 5.7398 | Accuracy: 81.581027 %\n",
            "Epoch 00045 | Loss 0.3851 | Time(s) 5.7429 | Accuracy: 81.686802 %\n",
            "Epoch 00046 | Loss 0.3932 | Time(s) 5.7442 | Accuracy: 81.653668 %\n",
            "Epoch 00047 | Loss 0.3948 | Time(s) 5.7445 | Accuracy: 81.732681 %\n",
            "Epoch 00048 | Loss 0.3668 | Time(s) 5.7440 | Accuracy: 81.842280 %\n",
            "Epoch 00049 | Loss 0.4092 | Time(s) 5.7477 | Accuracy: 81.863945 %\n",
            "Epoch 00050 | Loss 0.4139 | Time(s) 5.7478 | Accuracy: 81.821889 %\n",
            "Epoch 00051 | Loss 0.3652 | Time(s) 5.7476 | Accuracy: 81.770913 %\n",
            "Epoch 00052 | Loss 0.4051 | Time(s) 5.7471 | Accuracy: 81.742876 %\n",
            "Epoch 00053 | Loss 0.3608 | Time(s) 5.7486 | Accuracy: 81.810420 %\n",
            "Epoch 00054 | Loss 0.4050 | Time(s) 5.7504 | Accuracy: 81.843554 %\n",
            "Epoch 00055 | Loss 0.3756 | Time(s) 5.7526 | Accuracy: 81.877963 %\n",
            "Epoch 00056 | Loss 0.4137 | Time(s) 5.7525 | Accuracy: 81.753071 %\n",
            "Epoch 00057 | Loss 0.3643 | Time(s) 5.7538 | Accuracy: 81.649845 %\n",
            "Epoch 00058 | Loss 0.3962 | Time(s) 5.7545 | Accuracy: 81.704644 %\n",
            "Epoch 00059 | Loss 0.3311 | Time(s) 5.7561 | Accuracy: 81.765815 %\n",
            "Epoch 00060 | Loss 0.3878 | Time(s) 5.7577 | Accuracy: 81.751797 %\n",
            "Epoch 00061 | Loss 0.3475 | Time(s) 5.7591 | Accuracy: 81.816792 %\n",
            "Epoch 00062 | Loss 0.3850 | Time(s) 5.7596 | Accuracy: 81.852475 %\n",
            "Epoch 00063 | Loss 0.3355 | Time(s) 5.7614 | Accuracy: 81.814243 %\n",
            "Epoch 00064 | Loss 0.3253 | Time(s) 5.7633 | Accuracy: 81.870317 %\n",
            "Results stored.\n",
            "Starting new training\n",
            "Finished data loading and preprocessing.\n",
            "  NumNodes: 19717\n",
            "  NumEdges: 88651\n",
            "  NumFeats: 500\n",
            "  NumClasses: 3\n",
            "  NumTrainingSamples: 60\n",
            "  NumValidationSamples: 500\n",
            "  NumTestSamples: 1000\n",
            "\n",
            "DGLGraph(num_nodes=19717, num_edges=108365,\n",
            "         ndata_schemes={}\n",
            "         edata_schemes={})\n",
            "Epoch 00000 | Loss 1.0252 | Time(s) 5.8590 | Accuracy: 40.752918 %\n",
            "Epoch 00001 | Loss 1.0219 | Time(s) 5.8547 | Accuracy: 42.609726 %\n",
            "Epoch 00002 | Loss 1.0194 | Time(s) 5.8415 | Accuracy: 44.446144 %\n",
            "Epoch 00003 | Loss 0.9833 | Time(s) 5.8511 | Accuracy: 46.343732 %\n",
            "Epoch 00004 | Loss 0.9079 | Time(s) 5.8804 | Accuracy: 54.998216 %\n",
            "Epoch 00005 | Loss 0.9621 | Time(s) 5.8864 | Accuracy: 59.160422 %\n",
            "Epoch 00006 | Loss 0.7978 | Time(s) 5.9020 | Accuracy: 63.392721 %\n",
            "Epoch 00007 | Loss 0.8861 | Time(s) 5.8935 | Accuracy: 69.286843 %\n",
            "Epoch 00008 | Loss 0.8705 | Time(s) 5.8973 | Accuracy: 71.092675 %\n",
            "Epoch 00009 | Loss 0.7735 | Time(s) 5.8897 | Accuracy: 71.203548 %\n",
            "Epoch 00010 | Loss 0.6800 | Time(s) 5.8944 | Accuracy: 72.729011 %\n",
            "Epoch 00011 | Loss 0.6910 | Time(s) 5.8981 | Accuracy: 72.771066 %\n",
            "Epoch 00012 | Loss 0.7768 | Time(s) 5.8863 | Accuracy: 74.942652 %\n",
            "Epoch 00013 | Loss 0.7594 | Time(s) 5.8834 | Accuracy: 77.128256 %\n",
            "Epoch 00014 | Loss 0.8380 | Time(s) 5.8814 | Accuracy: 77.739970 %\n",
            "Epoch 00015 | Loss 0.7188 | Time(s) 5.8824 | Accuracy: 77.309222 %\n",
            "Epoch 00016 | Loss 0.6306 | Time(s) 5.8804 | Accuracy: 77.128256 %\n",
            "Epoch 00017 | Loss 0.6217 | Time(s) 5.8831 | Accuracy: 76.847887 %\n",
            "Epoch 00018 | Loss 0.7198 | Time(s) 5.8838 | Accuracy: 76.384004 %\n",
            "Epoch 00019 | Loss 0.6089 | Time(s) 5.8813 | Accuracy: 76.526737 %\n",
            "Epoch 00020 | Loss 0.6577 | Time(s) 5.8807 | Accuracy: 77.523322 %\n",
            "Epoch 00021 | Loss 0.6221 | Time(s) 5.8804 | Accuracy: 77.917113 %\n",
            "Epoch 00022 | Loss 0.6740 | Time(s) 5.8789 | Accuracy: 78.291788 %\n",
            "Epoch 00023 | Loss 0.7505 | Time(s) 5.8770 | Accuracy: 78.488046 %\n",
            "Epoch 00024 | Loss 0.6309 | Time(s) 5.8765 | Accuracy: 78.225519 %\n",
            "Epoch 00025 | Loss 0.6774 | Time(s) 5.8754 | Accuracy: 77.414997 %\n",
            "Epoch 00026 | Loss 0.5715 | Time(s) 5.8763 | Accuracy: 76.371260 %\n",
            "Epoch 00027 | Loss 0.6352 | Time(s) 5.8748 | Accuracy: 76.066677 %\n",
            "Epoch 00028 | Loss 0.5706 | Time(s) 5.8726 | Accuracy: 77.697915 %\n",
            "Epoch 00029 | Loss 0.5956 | Time(s) 5.8729 | Accuracy: 78.838507 %\n",
            "Epoch 00030 | Loss 0.6087 | Time(s) 5.8704 | Accuracy: 78.906051 %\n",
            "Epoch 00031 | Loss 0.5833 | Time(s) 5.8697 | Accuracy: 77.940052 %\n",
            "Epoch 00032 | Loss 0.6091 | Time(s) 5.8678 | Accuracy: 77.771831 %\n",
            "Epoch 00033 | Loss 0.6081 | Time(s) 5.8669 | Accuracy: 78.171994 %\n",
            "Epoch 00034 | Loss 0.5696 | Time(s) 5.8682 | Accuracy: 78.468930 %\n",
            "Epoch 00035 | Loss 0.5450 | Time(s) 5.8687 | Accuracy: 78.878014 %\n",
            "Epoch 00036 | Loss 0.5758 | Time(s) 5.8702 | Accuracy: 79.132895 %\n",
            "Epoch 00037 | Loss 0.5419 | Time(s) 5.8705 | Accuracy: 79.202987 %\n",
            "Epoch 00038 | Loss 0.5742 | Time(s) 5.8723 | Accuracy: 78.732732 %\n",
            "Epoch 00039 | Loss 0.5683 | Time(s) 5.8702 | Accuracy: 78.981241 %\n",
            "Epoch 00040 | Loss 0.5688 | Time(s) 5.8707 | Accuracy: 78.886935 %\n",
            "Epoch 00041 | Loss 0.5260 | Time(s) 5.8713 | Accuracy: 78.835959 %\n",
            "Epoch 00042 | Loss 0.7025 | Time(s) 5.8703 | Accuracy: 78.811745 %\n",
            "Epoch 00043 | Loss 0.5460 | Time(s) 5.8708 | Accuracy: 78.935362 %\n",
            "Epoch 00044 | Loss 0.5618 | Time(s) 5.8684 | Accuracy: 79.200438 %\n",
            "Epoch 00045 | Loss 0.5172 | Time(s) 5.8708 | Accuracy: 78.920069 %\n",
            "Epoch 00046 | Loss 0.5392 | Time(s) 5.8702 | Accuracy: 78.921344 %\n",
            "Epoch 00047 | Loss 0.5473 | Time(s) 5.8706 | Accuracy: 78.827038 %\n",
            "Epoch 00048 | Loss 0.4923 | Time(s) 5.8691 | Accuracy: 78.665188 %\n",
            "Epoch 00049 | Loss 0.5127 | Time(s) 5.8675 | Accuracy: 78.508437 %\n",
            "Epoch 00050 | Loss 0.5067 | Time(s) 5.8678 | Accuracy: 78.398838 %\n",
            "Epoch 00051 | Loss 0.5352 | Time(s) 5.8668 | Accuracy: 78.731457 %\n",
            "Epoch 00052 | Loss 0.5369 | Time(s) 5.8678 | Accuracy: 78.976143 %\n",
            "Epoch 00053 | Loss 0.5794 | Time(s) 5.8671 | Accuracy: 78.551766 %\n",
            "Epoch 00054 | Loss 0.5939 | Time(s) 5.8671 | Accuracy: 78.907325 %\n",
            "Epoch 00055 | Loss 0.5356 | Time(s) 5.8679 | Accuracy: 78.709793 %\n",
            "Epoch 00056 | Loss 0.5371 | Time(s) 5.8681 | Accuracy: 78.774787 %\n",
            "Epoch 00057 | Loss 0.5582 | Time(s) 5.8674 | Accuracy: 78.781159 %\n",
            "Epoch 00058 | Loss 0.5295 | Time(s) 5.8662 | Accuracy: 78.582352 %\n",
            "Epoch 00059 | Loss 0.5227 | Time(s) 5.8649 | Accuracy: 78.774787 %\n",
            "Epoch 00060 | Loss 0.5338 | Time(s) 5.8638 | Accuracy: 78.828312 %\n",
            "Epoch 00061 | Loss 0.4839 | Time(s) 5.8634 | Accuracy: 78.528827 %\n",
            "Epoch 00062 | Loss 0.5214 | Time(s) 5.8635 | Accuracy: 78.401387 %\n",
            "Epoch 00063 | Loss 0.5559 | Time(s) 5.8645 | Accuracy: 78.689402 %\n",
            "Epoch 00064 | Loss 0.5503 | Time(s) 5.8641 | Accuracy: 78.912423 %\n",
            "Results stored.\n",
            "Starting new training\n",
            "Finished data loading and preprocessing.\n",
            "  NumNodes: 19717\n",
            "  NumEdges: 88651\n",
            "  NumFeats: 500\n",
            "  NumClasses: 3\n",
            "  NumTrainingSamples: 60\n",
            "  NumValidationSamples: 500\n",
            "  NumTestSamples: 1000\n",
            "\n",
            "DGLGraph(num_nodes=19717, num_edges=108365,\n",
            "         ndata_schemes={}\n",
            "         edata_schemes={})\n",
            "Epoch 00000 | Loss 1.0768 | Time(s) 5.8376 | Accuracy: 38.632309 %\n",
            "Epoch 00001 | Loss 1.0166 | Time(s) 5.8654 | Accuracy: 44.434674 %\n",
            "Epoch 00002 | Loss 0.9640 | Time(s) 5.8821 | Accuracy: 51.254014 %\n",
            "Epoch 00003 | Loss 0.8987 | Time(s) 5.8654 | Accuracy: 56.923842 %\n",
            "Epoch 00004 | Loss 0.8416 | Time(s) 5.8415 | Accuracy: 67.635214 %\n",
            "Epoch 00005 | Loss 0.7665 | Time(s) 5.8401 | Accuracy: 73.898914 %\n",
            "Epoch 00006 | Loss 0.8004 | Time(s) 5.8380 | Accuracy: 75.124892 %\n",
            "Epoch 00007 | Loss 0.7845 | Time(s) 5.8376 | Accuracy: 76.498700 %\n",
            "Epoch 00008 | Loss 0.6688 | Time(s) 5.8332 | Accuracy: 77.256971 %\n",
            "Epoch 00009 | Loss 0.6432 | Time(s) 5.8218 | Accuracy: 78.101901 %\n",
            "Epoch 00010 | Loss 0.6800 | Time(s) 5.8257 | Accuracy: 79.343172 %\n",
            "Epoch 00011 | Loss 0.6344 | Time(s) 5.8284 | Accuracy: 79.115053 %\n",
            "Epoch 00012 | Loss 0.5471 | Time(s) 5.8245 | Accuracy: 78.030535 %\n",
            "Epoch 00013 | Loss 0.5678 | Time(s) 5.8230 | Accuracy: 79.248866 %\n",
            "Epoch 00014 | Loss 0.5584 | Time(s) 5.8196 | Accuracy: 80.863537 %\n",
            "Epoch 00015 | Loss 0.5418 | Time(s) 5.8252 | Accuracy: 81.006270 %\n",
            "Epoch 00016 | Loss 0.5501 | Time(s) 5.8265 | Accuracy: 80.139675 %\n",
            "Epoch 00017 | Loss 0.4759 | Time(s) 5.8234 | Accuracy: 79.832543 %\n",
            "Epoch 00018 | Loss 0.5437 | Time(s) 5.8239 | Accuracy: 79.512668 %\n",
            "Epoch 00019 | Loss 0.5411 | Time(s) 5.8266 | Accuracy: 79.982923 %\n",
            "Epoch 00020 | Loss 0.6173 | Time(s) 5.8229 | Accuracy: 81.605240 %\n",
            "Epoch 00021 | Loss 0.4762 | Time(s) 5.8310 | Accuracy: 82.009227 %\n",
            "Epoch 00022 | Loss 0.5230 | Time(s) 5.8271 | Accuracy: 81.731406 %\n",
            "Epoch 00023 | Loss 0.4780 | Time(s) 5.8279 | Accuracy: 80.051741 %\n",
            "Epoch 00024 | Loss 0.4947 | Time(s) 5.8265 | Accuracy: 79.442575 %\n",
            "Epoch 00025 | Loss 0.5347 | Time(s) 5.8281 | Accuracy: 81.672784 %\n",
            "Epoch 00026 | Loss 0.5294 | Time(s) 5.8292 | Accuracy: 81.930214 %\n",
            "Epoch 00027 | Loss 0.5361 | Time(s) 5.8270 | Accuracy: 82.028343 %\n",
            "Epoch 00028 | Loss 0.4393 | Time(s) 5.8264 | Accuracy: 81.807871 %\n",
            "Epoch 00029 | Loss 0.4531 | Time(s) 5.8276 | Accuracy: 81.423000 %\n",
            "Epoch 00030 | Loss 0.4576 | Time(s) 5.8268 | Accuracy: 81.272621 %\n",
            "Epoch 00031 | Loss 0.4232 | Time(s) 5.8296 | Accuracy: 81.351634 %\n",
            "Epoch 00032 | Loss 0.4295 | Time(s) 5.8298 | Accuracy: 81.524953 %\n",
            "Epoch 00033 | Loss 0.4562 | Time(s) 5.8331 | Accuracy: 81.301932 %\n",
            "Epoch 00034 | Loss 0.4160 | Time(s) 5.8304 | Accuracy: 81.584850 %\n",
            "Epoch 00035 | Loss 0.4240 | Time(s) 5.8263 | Accuracy: 81.663863 %\n",
            "Epoch 00036 | Loss 0.3997 | Time(s) 5.8256 | Accuracy: 81.482897 %\n",
            "Epoch 00037 | Loss 0.4257 | Time(s) 5.8238 | Accuracy: 81.753071 %\n",
            "Epoch 00038 | Loss 0.4004 | Time(s) 5.8232 | Accuracy: 81.796401 %\n",
            "Epoch 00039 | Loss 0.4209 | Time(s) 5.8244 | Accuracy: 81.735230 %\n",
            "Epoch 00040 | Loss 0.4020 | Time(s) 5.8228 | Accuracy: 81.783657 %\n",
            "Epoch 00041 | Loss 0.4683 | Time(s) 5.8219 | Accuracy: 81.750523 %\n",
            "Epoch 00042 | Loss 0.4193 | Time(s) 5.8234 | Accuracy: 81.484172 %\n",
            "Epoch 00043 | Loss 0.4155 | Time(s) 5.8231 | Accuracy: 81.444665 %\n",
            "Epoch 00044 | Loss 0.4035 | Time(s) 5.8231 | Accuracy: 81.577203 %\n",
            "Epoch 00045 | Loss 0.3647 | Time(s) 5.8231 | Accuracy: 81.522404 %\n",
            "Epoch 00046 | Loss 0.4048 | Time(s) 5.8222 | Accuracy: 81.193608 %\n",
            "Epoch 00047 | Loss 0.4097 | Time(s) 5.8213 | Accuracy: 81.147729 %\n",
            "Epoch 00048 | Loss 0.4286 | Time(s) 5.8212 | Accuracy: 81.465056 %\n",
            "Epoch 00049 | Loss 0.3691 | Time(s) 5.8216 | Accuracy: 81.648570 %\n",
            "Epoch 00050 | Loss 0.3698 | Time(s) 5.8200 | Accuracy: 81.740327 %\n",
            "Epoch 00051 | Loss 0.3614 | Time(s) 5.8208 | Accuracy: 81.643472 %\n",
            "Epoch 00052 | Loss 0.3631 | Time(s) 5.8211 | Accuracy: 81.750523 %\n",
            "Epoch 00053 | Loss 0.3424 | Time(s) 5.8213 | Accuracy: 81.876689 %\n",
            "Epoch 00054 | Loss 0.3667 | Time(s) 5.8194 | Accuracy: 81.954427 %\n",
            "Epoch 00055 | Loss 0.3949 | Time(s) 5.8184 | Accuracy: 81.897079 %\n",
            "Epoch 00056 | Loss 0.3321 | Time(s) 5.8178 | Accuracy: 81.776011 %\n",
            "Epoch 00057 | Loss 0.3460 | Time(s) 5.8164 | Accuracy: 81.638375 %\n",
            "Epoch 00058 | Loss 0.3461 | Time(s) 5.8170 | Accuracy: 81.609064 %\n",
            "Epoch 00059 | Loss 0.4151 | Time(s) 5.8171 | Accuracy: 81.719937 %\n",
            "Epoch 00060 | Loss 0.3898 | Time(s) 5.8186 | Accuracy: 81.614161 %\n",
            "Epoch 00061 | Loss 0.3781 | Time(s) 5.8178 | Accuracy: 81.696998 %\n",
            "Epoch 00062 | Loss 0.3309 | Time(s) 5.8206 | Accuracy: 81.959525 %\n",
            "Epoch 00063 | Loss 0.3182 | Time(s) 5.8204 | Accuracy: 82.127746 %\n",
            "Epoch 00064 | Loss 0.3291 | Time(s) 5.8209 | Accuracy: 82.072947 %\n",
            "Results stored.\n",
            "Starting new training\n",
            "Finished data loading and preprocessing.\n",
            "  NumNodes: 19717\n",
            "  NumEdges: 88651\n",
            "  NumFeats: 500\n",
            "  NumClasses: 3\n",
            "  NumTrainingSamples: 60\n",
            "  NumValidationSamples: 500\n",
            "  NumTestSamples: 1000\n",
            "\n",
            "DGLGraph(num_nodes=19717, num_edges=108365,\n",
            "         ndata_schemes={}\n",
            "         edata_schemes={})\n",
            "Epoch 00000 | Loss 1.0509 | Time(s) 5.8732 | Accuracy: 42.602080 %\n",
            "Epoch 00001 | Loss 1.0479 | Time(s) 5.8101 | Accuracy: 48.519142 %\n",
            "Epoch 00002 | Loss 1.0210 | Time(s) 5.8140 | Accuracy: 48.610899 %\n",
            "Epoch 00003 | Loss 0.9223 | Time(s) 5.8215 | Accuracy: 51.234898 %\n",
            "Epoch 00004 | Loss 0.8995 | Time(s) 5.8074 | Accuracy: 52.421369 %\n",
            "Epoch 00005 | Loss 0.9145 | Time(s) 5.7946 | Accuracy: 53.183463 %\n",
            "Epoch 00006 | Loss 0.8881 | Time(s) 5.7964 | Accuracy: 53.312178 %\n",
            "Epoch 00007 | Loss 0.9371 | Time(s) 5.7940 | Accuracy: 53.112097 %\n",
            "Epoch 00008 | Loss 0.8350 | Time(s) 5.8073 | Accuracy: 53.245909 %\n",
            "Epoch 00009 | Loss 0.8339 | Time(s) 5.8067 | Accuracy: 53.282867 %\n",
            "Epoch 00010 | Loss 0.9012 | Time(s) 5.8024 | Accuracy: 53.291788 %\n",
            "Epoch 00011 | Loss 0.8176 | Time(s) 5.8003 | Accuracy: 53.011419 %\n",
            "Epoch 00012 | Loss 0.8864 | Time(s) 5.8017 | Accuracy: 53.129938 %\n",
            "Epoch 00013 | Loss 0.8514 | Time(s) 5.8037 | Accuracy: 53.361880 %\n",
            "Epoch 00014 | Loss 0.8436 | Time(s) 5.8033 | Accuracy: 52.965540 %\n",
            "Epoch 00015 | Loss 0.8794 | Time(s) 5.8060 | Accuracy: 52.270989 %\n",
            "Epoch 00016 | Loss 0.8417 | Time(s) 5.7998 | Accuracy: 52.810063 %\n",
            "Epoch 00017 | Loss 0.9105 | Time(s) 5.7988 | Accuracy: 53.048376 %\n",
            "Epoch 00018 | Loss 0.8404 | Time(s) 5.7950 | Accuracy: 53.011419 %\n",
            "Epoch 00019 | Loss 0.7656 | Time(s) 5.7901 | Accuracy: 52.050517 %\n",
            "Epoch 00020 | Loss 0.8499 | Time(s) 5.7893 | Accuracy: 51.665647 %\n",
            "Epoch 00021 | Loss 0.8259 | Time(s) 5.7831 | Accuracy: 52.290106 %\n",
            "Epoch 00022 | Loss 0.8147 | Time(s) 5.7817 | Accuracy: 52.732324 %\n",
            "Epoch 00023 | Loss 0.8055 | Time(s) 5.7804 | Accuracy: 52.962991 %\n",
            "Epoch 00024 | Loss 0.8068 | Time(s) 5.7828 | Accuracy: 52.966814 %\n",
            "Epoch 00025 | Loss 0.7408 | Time(s) 5.7822 | Accuracy: 52.830453 %\n",
            "Epoch 00026 | Loss 0.8116 | Time(s) 5.7818 | Accuracy: 52.854667 %\n",
            "Epoch 00027 | Loss 0.8029 | Time(s) 5.7806 | Accuracy: 52.718306 %\n",
            "Epoch 00028 | Loss 0.7987 | Time(s) 5.7810 | Accuracy: 52.731050 %\n",
            "Epoch 00029 | Loss 0.7968 | Time(s) 5.7813 | Accuracy: 52.878881 %\n",
            "Epoch 00030 | Loss 0.7245 | Time(s) 5.7795 | Accuracy: 52.994851 %\n",
            "Epoch 00031 | Loss 0.7232 | Time(s) 5.7772 | Accuracy: 53.042004 %\n",
            "Epoch 00032 | Loss 0.7269 | Time(s) 5.7761 | Accuracy: 52.886527 %\n",
            "Epoch 00033 | Loss 0.7230 | Time(s) 5.7768 | Accuracy: 52.539889 %\n",
            "Epoch 00034 | Loss 0.7829 | Time(s) 5.7757 | Accuracy: 52.616353 %\n",
            "Epoch 00035 | Loss 0.7018 | Time(s) 5.7764 | Accuracy: 52.639292 %\n",
            "Epoch 00036 | Loss 0.8016 | Time(s) 5.7775 | Accuracy: 52.697915 %\n",
            "Epoch 00037 | Loss 0.7620 | Time(s) 5.7765 | Accuracy: 52.708110 %\n",
            "Epoch 00038 | Loss 0.6868 | Time(s) 5.7787 | Accuracy: 52.732324 %\n",
            "Epoch 00039 | Loss 0.7811 | Time(s) 5.7774 | Accuracy: 52.477443 %\n",
            "Epoch 00040 | Loss 0.7422 | Time(s) 5.7771 | Accuracy: 52.514401 %\n",
            "Epoch 00041 | Loss 0.6818 | Time(s) 5.7777 | Accuracy: 52.778203 %\n",
            "Epoch 00042 | Loss 0.7620 | Time(s) 5.7769 | Accuracy: 52.797319 %\n",
            "Epoch 00043 | Loss 0.6646 | Time(s) 5.7764 | Accuracy: 52.394607 %\n",
            "Epoch 00044 | Loss 0.7699 | Time(s) 5.7772 | Accuracy: 52.441760 %\n",
            "Epoch 00045 | Loss 0.7741 | Time(s) 5.7770 | Accuracy: 52.734873 %\n",
            "Epoch 00046 | Loss 0.6618 | Time(s) 5.7764 | Accuracy: 52.848295 %\n",
            "Epoch 00047 | Loss 0.6652 | Time(s) 5.7755 | Accuracy: 52.660957 %\n",
            "Epoch 00048 | Loss 0.7686 | Time(s) 5.7731 | Accuracy: 52.309222 %\n",
            "Epoch 00049 | Loss 0.6981 | Time(s) 5.7737 | Accuracy: 52.315594 %\n",
            "Epoch 00050 | Loss 0.7483 | Time(s) 5.7740 | Accuracy: 52.532242 %\n",
            "Epoch 00051 | Loss 0.7425 | Time(s) 5.7745 | Accuracy: 52.501657 %\n",
            "Epoch 00052 | Loss 0.6485 | Time(s) 5.7738 | Accuracy: 52.427741 %\n",
            "Epoch 00053 | Loss 0.7277 | Time(s) 5.7756 | Accuracy: 52.403528 %\n",
            "Epoch 00054 | Loss 0.7252 | Time(s) 5.7760 | Accuracy: 52.569200 %\n",
            "Epoch 00055 | Loss 0.7315 | Time(s) 5.7762 | Accuracy: 52.346179 %\n",
            "Epoch 00056 | Loss 0.7023 | Time(s) 5.7764 | Accuracy: 52.125707 %\n",
            "Epoch 00057 | Loss 0.6760 | Time(s) 5.7763 | Accuracy: 52.263343 %\n",
            "Epoch 00058 | Loss 0.6445 | Time(s) 5.7783 | Accuracy: 52.367844 %\n",
            "Epoch 00059 | Loss 0.7212 | Time(s) 5.7771 | Accuracy: 52.311770 %\n",
            "Epoch 00060 | Loss 0.7540 | Time(s) 5.7775 | Accuracy: 52.310496 %\n",
            "Epoch 00061 | Loss 0.7213 | Time(s) 5.7792 | Accuracy: 52.465973 %\n",
            "Epoch 00062 | Loss 0.6217 | Time(s) 5.7801 | Accuracy: 52.557731 %\n",
            "Epoch 00063 | Loss 0.6940 | Time(s) 5.7824 | Accuracy: 52.262069 %\n",
            "Epoch 00064 | Loss 0.7186 | Time(s) 5.7825 | Accuracy: 52.017383 %\n",
            "Results stored.\n",
            "Starting new training\n",
            "Finished data loading and preprocessing.\n",
            "  NumNodes: 19717\n",
            "  NumEdges: 88651\n",
            "  NumFeats: 500\n",
            "  NumClasses: 3\n",
            "  NumTrainingSamples: 60\n",
            "  NumValidationSamples: 500\n",
            "  NumTestSamples: 1000\n",
            "\n",
            "DGLGraph(num_nodes=19717, num_edges=108365,\n",
            "         ndata_schemes={}\n",
            "         edata_schemes={})\n",
            "Epoch 00000 | Loss 1.0555 | Time(s) 5.7880 | Accuracy: 31.386043 %\n",
            "Epoch 00001 | Loss 1.0256 | Time(s) 5.8111 | Accuracy: 45.394301 %\n",
            "Epoch 00002 | Loss 0.9902 | Time(s) 5.8165 | Accuracy: 51.640159 %\n",
            "Epoch 00003 | Loss 0.9269 | Time(s) 5.7842 | Accuracy: 53.900953 %\n",
            "Epoch 00004 | Loss 1.0293 | Time(s) 5.7944 | Accuracy: 54.752256 %\n",
            "Epoch 00005 | Loss 0.9683 | Time(s) 5.8029 | Accuracy: 54.845287 %\n",
            "Epoch 00006 | Loss 0.9454 | Time(s) 5.8121 | Accuracy: 56.319774 %\n",
            "Epoch 00007 | Loss 0.8757 | Time(s) 5.8069 | Accuracy: 73.089667 %\n",
            "Epoch 00008 | Loss 0.7679 | Time(s) 5.8153 | Accuracy: 79.590406 %\n",
            "Epoch 00009 | Loss 0.7678 | Time(s) 5.8176 | Accuracy: 79.529235 %\n",
            "Epoch 00010 | Loss 0.6947 | Time(s) 5.8141 | Accuracy: 79.326604 %\n",
            "Epoch 00011 | Loss 0.6800 | Time(s) 5.8154 | Accuracy: 78.425600 %\n",
            "Epoch 00012 | Loss 0.6389 | Time(s) 5.8161 | Accuracy: 79.517765 %\n",
            "Epoch 00013 | Loss 0.6239 | Time(s) 5.8132 | Accuracy: 80.100168 %\n",
            "Epoch 00014 | Loss 0.6082 | Time(s) 5.8171 | Accuracy: 79.974002 %\n",
            "Epoch 00015 | Loss 0.6442 | Time(s) 5.8149 | Accuracy: 80.948922 %\n",
            "Epoch 00016 | Loss 0.5770 | Time(s) 5.8201 | Accuracy: 81.364378 %\n",
            "Epoch 00017 | Loss 0.6402 | Time(s) 5.8172 | Accuracy: 81.231840 %\n",
            "Epoch 00018 | Loss 0.5225 | Time(s) 5.8167 | Accuracy: 81.384768 %\n",
            "Epoch 00019 | Loss 0.5400 | Time(s) 5.8154 | Accuracy: 81.182138 %\n",
            "Epoch 00020 | Loss 0.5365 | Time(s) 5.8208 | Accuracy: 80.704236 %\n",
            "Epoch 00021 | Loss 0.5285 | Time(s) 5.8219 | Accuracy: 80.320640 %\n",
            "Epoch 00022 | Loss 0.4992 | Time(s) 5.8218 | Accuracy: 81.286639 %\n",
            "Epoch 00023 | Loss 0.5117 | Time(s) 5.8235 | Accuracy: 81.818066 %\n",
            "Epoch 00024 | Loss 0.6080 | Time(s) 5.8214 | Accuracy: 81.708467 %\n",
            "Epoch 00025 | Loss 0.5031 | Time(s) 5.8221 | Accuracy: 81.420452 %\n",
            "Epoch 00026 | Loss 0.5450 | Time(s) 5.8222 | Accuracy: 81.410256 %\n",
            "Epoch 00027 | Loss 0.4546 | Time(s) 5.8229 | Accuracy: 81.524953 %\n",
            "Epoch 00028 | Loss 0.4471 | Time(s) 5.8241 | Accuracy: 81.592496 %\n",
            "Epoch 00029 | Loss 0.4744 | Time(s) 5.8228 | Accuracy: 81.765815 %\n",
            "Epoch 00030 | Loss 0.4265 | Time(s) 5.8245 | Accuracy: 81.444665 %\n",
            "Epoch 00031 | Loss 0.4125 | Time(s) 5.8240 | Accuracy: 81.221644 %\n",
            "Epoch 00032 | Loss 0.3945 | Time(s) 5.8234 | Accuracy: 80.700413 %\n",
            "Epoch 00033 | Loss 0.4954 | Time(s) 5.8233 | Accuracy: 80.583168 %\n",
            "Epoch 00034 | Loss 0.4495 | Time(s) 5.8256 | Accuracy: 81.723760 %\n",
            "Epoch 00035 | Loss 0.4819 | Time(s) 5.8257 | Accuracy: 81.955702 %\n",
            "Epoch 00036 | Loss 0.4059 | Time(s) 5.8262 | Accuracy: 82.053831 %\n",
            "Epoch 00037 | Loss 0.4841 | Time(s) 5.8250 | Accuracy: 82.007952 %\n",
            "Epoch 00038 | Loss 0.4731 | Time(s) 5.8254 | Accuracy: 81.946781 %\n",
            "Epoch 00039 | Loss 0.4160 | Time(s) 5.8251 | Accuracy: 81.909823 %\n",
            "Epoch 00040 | Loss 0.3931 | Time(s) 5.8270 | Accuracy: 81.806596 %\n",
            "Epoch 00041 | Loss 0.4455 | Time(s) 5.8267 | Accuracy: 81.758169 %\n",
            "Epoch 00042 | Loss 0.3885 | Time(s) 5.8266 | Accuracy: 81.690625 %\n",
            "Epoch 00043 | Loss 0.4083 | Time(s) 5.8276 | Accuracy: 81.626905 %\n",
            "Epoch 00044 | Loss 0.3760 | Time(s) 5.8264 | Accuracy: 81.688077 %\n",
            "Epoch 00045 | Loss 0.4339 | Time(s) 5.8278 | Accuracy: 81.865219 %\n",
            "Epoch 00046 | Loss 0.3714 | Time(s) 5.8262 | Accuracy: 81.852475 %\n",
            "Epoch 00047 | Loss 0.3404 | Time(s) 5.8242 | Accuracy: 81.383494 %\n",
            "Epoch 00048 | Loss 0.3352 | Time(s) 5.8202 | Accuracy: 81.055972 %\n",
            "Epoch 00049 | Loss 0.3695 | Time(s) 5.8152 | Accuracy: 81.500739 %\n",
            "Epoch 00050 | Loss 0.3746 | Time(s) 5.8101 | Accuracy: 82.081868 %\n",
            "Epoch 00051 | Loss 0.4058 | Time(s) 5.8073 | Accuracy: 82.060203 %\n",
            "Epoch 00052 | Loss 0.3723 | Time(s) 5.8050 | Accuracy: 81.671509 %\n",
            "Epoch 00053 | Loss 0.4665 | Time(s) 5.8017 | Accuracy: 81.587399 %\n",
            "Epoch 00054 | Loss 0.3950 | Time(s) 5.7996 | Accuracy: 82.070398 %\n",
            "Epoch 00055 | Loss 0.4020 | Time(s) 5.7981 | Accuracy: 81.874140 %\n",
            "Epoch 00056 | Loss 0.4175 | Time(s) 5.7951 | Accuracy: 81.886884 %\n",
            "Epoch 00057 | Loss 0.4004 | Time(s) 5.7927 | Accuracy: 81.779834 %\n",
            "Epoch 00058 | Loss 0.3391 | Time(s) 5.7893 | Accuracy: 81.628180 %\n",
            "Epoch 00059 | Loss 0.3442 | Time(s) 5.7866 | Accuracy: 81.616710 %\n",
            "Epoch 00060 | Loss 0.3534 | Time(s) 5.7831 | Accuracy: 81.600143 %\n",
            "Epoch 00061 | Loss 0.4021 | Time(s) 5.7812 | Accuracy: 81.508386 %\n",
            "Epoch 00062 | Loss 0.4143 | Time(s) 5.7791 | Accuracy: 81.238212 %\n",
            "Epoch 00063 | Loss 0.3721 | Time(s) 5.7778 | Accuracy: 81.480349 %\n",
            "Epoch 00064 | Loss 0.3439 | Time(s) 5.7756 | Accuracy: 81.758169 %\n",
            "Results stored.\n"
          ],
          "name": "stdout"
        }
      ]
    },
    {
      "cell_type": "markdown",
      "metadata": {
        "id": "X-ipAEZcN5LT",
        "colab_type": "text"
      },
      "source": [
        "#On graphic"
      ]
    },
    {
      "cell_type": "code",
      "metadata": {
        "id": "lUjMKV_LXIu_",
        "colab_type": "code",
        "colab": {}
      },
      "source": [
        "accPointsPubMed = [0]*n_of_epochs\n",
        "lossPointsPubMed = [0]*n_of_epochs\n",
        "\n",
        "for d in range(n_of_training_cycles):\n",
        "  for i in range(n_of_epochs):\n",
        "    accPointsPubMed[i] = accPointsPubMed[i] + averageAccPubMed[d][i]\n",
        "    lossPointsPubMed[i] = lossPointsPubMed[i] + averageLossPubMed[d][i]\n",
        "\n",
        "for i in range(n_of_epochs):\n",
        "  accPointsPubMed[i] = accPointsPubMed[i]/n_of_training_cycles\n",
        "  lossPointsPubMed[i] = lossPointsPubMed[i]/n_of_training_cycles"
      ],
      "execution_count": 0,
      "outputs": []
    },
    {
      "cell_type": "code",
      "metadata": {
        "id": "80Erkh6MqGjl",
        "colab_type": "code",
        "outputId": "25969ecc-2210-4d1b-d054-4bf13dc973bb",
        "colab": {
          "base_uri": "https://localhost:8080/",
          "height": 34
        }
      },
      "source": [
        "maxAccPubMed = np.argmax(accPointsPubMed)\n",
        "maxAccPubMed"
      ],
      "execution_count": 0,
      "outputs": [
        {
          "output_type": "execute_result",
          "data": {
            "text/plain": [
              "35"
            ]
          },
          "metadata": {
            "tags": []
          },
          "execution_count": 27
        }
      ]
    },
    {
      "cell_type": "code",
      "metadata": {
        "id": "w1TBb1GlN7rC",
        "colab_type": "code",
        "outputId": "0b667eea-b252-4ab9-d8ee-105d99af7426",
        "colab": {
          "base_uri": "https://localhost:8080/",
          "height": 265
        }
      },
      "source": [
        "axisX = range(n_of_epochs)\n",
        "\n",
        "plt.plot(axisX, accPointsPubMed, color='orange', label='PubMed')\n",
        "#plt.plot(axisX, pointsPubMed, color='blue', label='PubMed')\n",
        "plt.plot([maxAccPubMed], accPointsPubMed[maxAccPubMed], marker='o', color='red')\n",
        "#plt.plot([maxAccPubMed], pointsPubMed[maxAccPubMed], marker='o', color='blue')\n",
        "plt.legend()\n",
        "plt.show()"
      ],
      "execution_count": 0,
      "outputs": [
        {
          "output_type": "display_data",
          "data": {
            "image/png": "[encoded data removed]",
            "text/plain": [
              "<Figure size 432x288 with 1 Axes>"
            ]
          },
          "metadata": {
            "tags": []
          }
        }
      ]
    },
    {
      "cell_type": "code",
      "metadata": {
        "id": "t5mBRqr82F5e",
        "colab_type": "code",
        "outputId": "4bcb4ed2-04fd-4564-87b0-c1739b41de08",
        "colab": {
          "base_uri": "https://localhost:8080/",
          "height": 34
        }
      },
      "source": [
        "print(\"Max accuracy PubMed at {:03d} epochs with value {:05f}\"\n",
        "  .format(maxAccPubMed, pointsPubMed[maxAccPubMed]))\n",
        "#print(\"Max accuracy PubMed at {:03d} epochs with value {:05f}\"\n",
        "#  .format(maxAccPubMed, pointsPubMed[maxAccPubMed]))"
      ],
      "execution_count": 0,
      "outputs": [
        {
          "output_type": "stream",
          "text": [
            "Max accuracy Cora at 035 epochs with value 81.955702\n"
          ],
          "name": "stdout"
        }
      ]
    },
    {
      "cell_type": "code",
      "metadata": {
        "id": "EdTRUep-4FFJ",
        "colab_type": "code",
        "outputId": "4a308258-4a36-4867-e90d-f6ea6704be3f",
        "colab": {
          "base_uri": "https://localhost:8080/",
          "height": 266
        }
      },
      "source": [
        "plt.plot(axisX, lossPointsPubMed, color='orange', label='PubMed')\n",
        "#plt.plot(axisX, pointsLossPubMed, color='blue', label='PubMed')\n",
        "plt.plot([maxAccPubMed], lossPointsPubMed[maxAccPubMed], marker='o', color='red')\n",
        "#plt.plot([maxAccPubMed], pointsLossPubMed[maxAccPubMed].item(), marker='o',color='blue')\n",
        "plt.legend()\n",
        "plt.show()"
      ],
      "execution_count": 0,
      "outputs": [
        {
          "output_type": "display_data",
          "data": {
            "image/png": "[encoded data removed]",
            "text/plain": [
              "<Figure size 432x288 with 1 Axes>"
            ]
          },
          "metadata": {
            "tags": []
          }
        }
      ]
    },
    {
      "cell_type": "code",
      "metadata": {
        "id": "7KUKoacJ2t6h",
        "colab_type": "code",
        "outputId": "3f41a176-2651-4c3c-9943-423aa50b9d4c",
        "colab": {
          "base_uri": "https://localhost:8080/",
          "height": 34
        }
      },
      "source": [
        "print(\"For PubMed, at epoch {:03d}, loss was {:05f}\"\n",
        "  .format(maxAccPubMed, lossPointsPubMed[maxAccPubMed]))\n",
        "#print(\"For PubMed, at epoch {:03d}, loss was {:05f}\"\n",
        "#  .format(maxAccPubMed, pointsLossPubMed[maxAccPubMed]))"
      ],
      "execution_count": 0,
      "outputs": [
        {
          "output_type": "stream",
          "text": [
            "For Cora, at epoch 035, loss was 0.529607\n"
          ],
          "name": "stdout"
        }
      ]
    },
    {
      "cell_type": "markdown",
      "metadata": {
        "id": "O5EwZ8SD9nSW",
        "colab_type": "text"
      },
      "source": [
        "#Our algorithm"
      ]
    },
    {
      "cell_type": "markdown",
      "metadata": {
        "id": "eizH41lSch10",
        "colab_type": "text"
      },
      "source": [
        "For our algorithm we need to store somewhere some information. In particular for each training cycle we will update the historical activation in order to bring an efficent approximation. Also, we need to store the last recent h_0 and h_1, for computational purpose."
      ]
    },
    {
      "cell_type": "code",
      "metadata": {
        "id": "eMnnSp8_LU8m",
        "colab_type": "code",
        "colab": {}
      },
      "source": [
        "class HMatrices():\n",
        "  def __init__(self):\n",
        "    self.historical_activation_1 = th.Tensor(np.zeros((19717,500)))\n",
        "    self.historical_activation_2 = th.Tensor(np.zeros((19717,16)))\n",
        "    self.h_0 = th.Tensor([])\n",
        "    self.h_1 = th.Tensor([])\n",
        "\n",
        "  def updateHMatrix(self,features,x):\n",
        "    self.h_0 = features\n",
        "    self.h_1 = x\n",
        "  \n",
        "  def updateActivation(self, row, level, a):\n",
        "    if level == 0:\n",
        "      self.historical_activation_1[row] = a\n",
        "    elif level == 1:\n",
        "      self.historical_activation_2[row] = a"
      ],
      "execution_count": 0,
      "outputs": []
    },
    {
      "cell_type": "code",
      "metadata": {
        "colab_type": "code",
        "id": "0rSVV_I1S-03",
        "colab": {}
      },
      "source": [
        "class SimpleNodeApplyModule(nn.Module):\n",
        "    def __init__(self, in_feats, out_feats, activation):\n",
        "        super(SimpleNodeApplyModule, self).__init__()\n",
        "        self.linear = nn.Linear(in_feats, out_feats)\n",
        "        self.activation = activation\n",
        "\n",
        "    def forward(self, node):\n",
        "        #type of node: dgl.udf.NodeBatch\n",
        "        #type of node.data['h']: torch.Tensor\n",
        "        z = self.linear(node.data['h'])\n",
        "        h = self.activation(z)\n",
        "        return {'h' : h}"
      ],
      "execution_count": 0,
      "outputs": []
    },
    {
      "cell_type": "code",
      "metadata": {
        "colab_type": "code",
        "id": "fXAYnjwgTCfR",
        "colab": {}
      },
      "source": [
        "class SimpleGCN(nn.Module):\n",
        "    def __init__(self, in_feats, out_feats, activation):\n",
        "        super(SimpleGCN, self).__init__()\n",
        "        self.apply_mod = SimpleNodeApplyModule(in_feats, out_feats, activation)\n",
        "\n",
        "    def forward(self, g, feature):\n",
        "        g.ndata['h'] = feature\n",
        "        g.update_all(gcn_msg, gcn_reduce)\n",
        "        g.apply_nodes(func=self.apply_mod)\n",
        "        return g.ndata.pop('h')"
      ],
      "execution_count": 0,
      "outputs": []
    },
    {
      "cell_type": "code",
      "metadata": {
        "colab_type": "code",
        "id": "oBqQpHvLTHUD",
        "outputId": "3e2d3169-6e92-44b2-d98a-f455be374ab3",
        "colab": {
          "base_uri": "https://localhost:8080/",
          "height": 221
        }
      },
      "source": [
        "class SimpleNet(nn.Module):\n",
        "    def __init__(self):\n",
        "        super(SimpleNet, self).__init__()\n",
        "        self.gcn1 = SimpleGCN(500, 16, F.relu)\n",
        "        self.gcn2 = SimpleGCN(16, 3, F.relu)\n",
        "\n",
        "    def forward(self, g, features, propMatrix, historicalActivation, hContainer):\n",
        "        #type of 'g': dgl.graph.DGLGraph\n",
        "        x = self.gcn1(g, features)\n",
        "        hContainer.updateHMatrix(features, x)\n",
        "        # CV = (P'_l*(H_l-H'_l)+P*H'_l)\n",
        "        x = th.mm(propMatrix,x.sub(historicalActivation)).add(th.mm(P,historicalActivation))\n",
        "        x = self.gcn2(g, x)\n",
        "        return x\n",
        "\n",
        "simpleNet = SimpleNet()\n",
        "print(simpleNet)"
      ],
      "execution_count": 0,
      "outputs": [
        {
          "output_type": "stream",
          "text": [
            "SimpleNet(\n",
            "  (gcn1): SimpleGCN(\n",
            "    (apply_mod): SimpleNodeApplyModule(\n",
            "      (linear): Linear(in_features=500, out_features=16, bias=True)\n",
            "    )\n",
            "  )\n",
            "  (gcn2): SimpleGCN(\n",
            "    (apply_mod): SimpleNodeApplyModule(\n",
            "      (linear): Linear(in_features=16, out_features=3, bias=True)\n",
            "    )\n",
            "  )\n",
            ")\n"
          ],
          "name": "stdout"
        }
      ]
    },
    {
      "cell_type": "code",
      "metadata": {
        "colab_type": "code",
        "id": "omo3JIZQT8Br",
        "outputId": "5bfc971c-94e0-416c-83e0-878b24c0f731",
        "colab": {
          "base_uri": "https://localhost:8080/",
          "height": 1000
        }
      },
      "source": [
        "import time\n",
        "import collections\n",
        "import numpy as np\n",
        "warnings.filterwarnings('ignore')\n",
        "\n",
        "#init counters\n",
        "averageAccPubMed_our = []\n",
        "averageLossPubMed_our = []\n",
        "#\n",
        "n_of_training_cycles = 1\n",
        "#\n",
        "for t in range(n_of_training_cycles):\n",
        "  print(\"Starting new training cycle\")\n",
        "\n",
        "  simpleNet = SimpleNet()\n",
        "  #point to show on graph\n",
        "  pointsOurPubMed=dict()\n",
        "  pointsOurLossPubMed=dict()\n",
        "\n",
        "  with th.no_grad():\n",
        "    #get data\n",
        "    g, features, labels, mask = load_pubmed_data()\n",
        "\n",
        "    print(g)\n",
        "    n_masks_to_try = 4\n",
        "    ourOptimizer = th.optim.Adam(simpleNet.parameters(), lr=2e-3)\n",
        "    ourOptimizer.state = collections.defaultdict(dict)\n",
        "    dur = []\n",
        "\n",
        "    #running algOne for each mask\n",
        "    t0 = time.time()\n",
        "    print(\"Computing algorithm 1 for each mask...\")\n",
        "    resForMasks = dict()\n",
        "    for m in masks:\n",
        "      resForMasks[m] = algOne(m)\n",
        "    print(\"{:03f} seconds\".format(time.time()-t0))\n",
        "\n",
        "  #this is an object storing some constant data\n",
        "  hs = HMatrices()\n",
        "\n",
        "  for epoch in range(n_of_epochs):\n",
        "        \n",
        "      t0 = time.time()\n",
        "      #getting only some masks (4)\n",
        "      masksToTry = random.sample(masks,n_masks_to_try)\n",
        "      for m in masksToTry:\n",
        "          #calling 'net(...)' it asks to the GCN to compute the forward\n",
        "\n",
        "          #M=(P'_l*(H_l-H'_l)+P*H'_l)\n",
        "          #H_l = feature\n",
        "          #P': progationMatrix\n",
        "          #H': get from initialized matrix\n",
        "          #P: computed before\n",
        "          CV = th.mm(resForMasks[m][1][0].to_dense(),features.sub(hs.historical_activation_1.detach())).add(th.mm(P,hs.historical_activation_1.detach()))\n",
        "          logits = simpleNet(g, CV, resForMasks[m][1][1].to_dense(), hs.historical_activation_2.detach(), hs)\n",
        "          logp = F.log_softmax(logits, 1)\n",
        "\n",
        "          #compute loss like the negative log likelihood loss\n",
        "          ourLoss = F.nll_loss(logp[m], labels[m])\n",
        "\n",
        "          #Since the backward() function accumulates gradients, and you \n",
        "          #don’t want to mix up gradients between minibatch, you have \n",
        "          #to zero them out at the start of a new minibatch. This is \n",
        "          #exactly like how a general (additive) accumulator variable is \n",
        "          #initialized to 0 in code.\n",
        "          ourOptimizer.zero_grad()\n",
        "\n",
        "          #update network weights by loss\n",
        "          #ourLoss.backward(retain_graph=True)\n",
        "          ourLoss.backward()\n",
        "\n",
        "          #update optimizer's values after backward\n",
        "          ourOptimizer.step()\n",
        "\n",
        "          #computing accuracy\n",
        "          i = 0\n",
        "          matched = 0\n",
        "          while i < 19717:\n",
        "            if m[i] == 0:\n",
        "              #getting index of the maximum\n",
        "              j = 0\n",
        "              max = None\n",
        "              jMax = 0\n",
        "              for a in logp[i]:\n",
        "                if max==None:\n",
        "                  max = a.item()\n",
        "                  jMax = j\n",
        "                elif max < a.item():\n",
        "                  max = a.item()\n",
        "                  jMax = j\n",
        "                j = j + 1\n",
        "              if jMax == labels[i]:\n",
        "                matched = matched + 1\n",
        "            i = i + 1\n",
        "          acc = matched/(19717-size_masks)*100\n",
        "\n",
        "          if epoch not in pointsOurPubMed:\n",
        "            pointsOurPubMed[epoch] = 0\n",
        "            pointsOurLossPubMed[epoch] = 0\n",
        "          pointsOurPubMed[epoch] = pointsOurPubMed[epoch] + acc\n",
        "          pointsOurLossPubMed[epoch] = pointsOurLossPubMed[epoch] + ourLoss.item()\n",
        "          \n",
        "          #update historical activation\n",
        "          for i in range(2):\n",
        "            recField = resForMasks[m][0][i]\n",
        "            k = 0\n",
        "            if i == 0:\n",
        "              for n in recField:\n",
        "                if n == 1:\n",
        "                  hs.updateActivation(k,i,hs.h_0[k])\n",
        "                k = k + 1\n",
        "            elif i == 1:\n",
        "              for n in recField:\n",
        "                if n == 1:\n",
        "                  hs.updateActivation(k,i,hs.h_1[k])\n",
        "                k = k + 1\n",
        "\n",
        "      dur.append(time.time() - t0)\n",
        "      \n",
        "      pointsOurPubMed[epoch] = pointsOurPubMed[epoch]/n_masks_to_try\n",
        "      pointsOurLossPubMed[epoch] = pointsOurLossPubMed[epoch]/n_masks_to_try\n",
        "\n",
        "      print(\"Epoch {:05d} | Loss {:.4f} | Time(s) {:.4f} | Accuracy: {:.6f}\".format(\n",
        "              epoch, ourLoss.item(), np.mean(dur), pointsOurPubMed[epoch]))\n",
        "  \n",
        "  averageAccPubMed_our.append(pointsOurPubMed)\n",
        "  averageLossPubMed_our.append(pointsOurLossPubMed)\n",
        "  print(\"Results stored\")"
      ],
      "execution_count": 0,
      "outputs": [
        {
          "output_type": "stream",
          "text": [
            "Starting new training cycle\n",
            "Finished data loading and preprocessing.\n",
            "  NumNodes: 19717\n",
            "  NumEdges: 88651\n",
            "  NumFeats: 500\n",
            "  NumClasses: 3\n",
            "  NumTrainingSamples: 60\n",
            "  NumValidationSamples: 500\n",
            "  NumTestSamples: 1000\n",
            "\n",
            "DGLGraph(num_nodes=19717, num_edges=108365,\n",
            "         ndata_schemes={}\n",
            "         edata_schemes={})\n",
            "Computing algorithm 1 for each mask...\n",
            "23.862541 seconds\n",
            "Epoch 00000 | Loss 1.1034 | Time(s) 39.9669 | Accuracy: 20.807208\n",
            "Epoch 00001 | Loss 1.0968 | Time(s) 39.7660 | Accuracy: 21.003466\n",
            "Epoch 00002 | Loss 1.0937 | Time(s) 39.7898 | Accuracy: 21.924861\n",
            "Epoch 00003 | Loss 1.0804 | Time(s) 39.7343 | Accuracy: 23.731967\n",
            "Epoch 00004 | Loss 1.0723 | Time(s) 39.6922 | Accuracy: 27.588316\n",
            "Epoch 00005 | Loss 1.0602 | Time(s) 39.6738 | Accuracy: 33.832900\n",
            "Epoch 00006 | Loss 1.0180 | Time(s) 39.6227 | Accuracy: 39.084722\n",
            "Epoch 00007 | Loss 0.9964 | Time(s) 39.6646 | Accuracy: 44.082938\n",
            "Epoch 00008 | Loss 1.0361 | Time(s) 39.6958 | Accuracy: 49.049294\n",
            "Epoch 00009 | Loss 0.9179 | Time(s) 39.7637 | Accuracy: 53.852526\n",
            "Epoch 00010 | Loss 0.9357 | Time(s) 39.8202 | Accuracy: 58.158740\n",
            "Epoch 00011 | Loss 0.9411 | Time(s) 40.0672 | Accuracy: 61.167610\n",
            "Epoch 00012 | Loss 0.8780 | Time(s) 39.9921 | Accuracy: 63.469185\n",
            "Epoch 00013 | Loss 0.8521 | Time(s) 39.9214 | Accuracy: 64.987001\n",
            "Epoch 00014 | Loss 0.8181 | Time(s) 39.8980 | Accuracy: 66.265229\n",
            "Epoch 00015 | Loss 0.7968 | Time(s) 39.8960 | Accuracy: 67.029872\n",
            "Epoch 00016 | Loss 0.7445 | Time(s) 39.8420 | Accuracy: 67.978029\n",
            "Epoch 00017 | Loss 0.7701 | Time(s) 39.8040 | Accuracy: 68.927461\n",
            "Epoch 00018 | Loss 0.7543 | Time(s) 39.7615 | Accuracy: 70.004333\n",
            "Epoch 00019 | Loss 0.6997 | Time(s) 39.7623 | Accuracy: 71.885355\n",
            "Epoch 00020 | Loss 0.6964 | Time(s) 39.7287 | Accuracy: 72.706071\n",
            "Epoch 00021 | Loss 0.7407 | Time(s) 39.7383 | Accuracy: 73.303767\n",
            "Epoch 00022 | Loss 0.6851 | Time(s) 39.7418 | Accuracy: 73.967732\n",
            "Epoch 00023 | Loss 0.7184 | Time(s) 39.7715 | Accuracy: 73.942244\n",
            "Epoch 00024 | Loss 0.7145 | Time(s) 39.7775 | Accuracy: 74.265943\n",
            "Epoch 00025 | Loss 0.6972 | Time(s) 39.7797 | Accuracy: 74.522098\n",
            "Epoch 00026 | Loss 0.6936 | Time(s) 39.7946 | Accuracy: 73.974104\n",
            "Epoch 00027 | Loss 0.5877 | Time(s) 39.8288 | Accuracy: 74.406127\n",
            "Epoch 00028 | Loss 0.7201 | Time(s) 39.8129 | Accuracy: 75.112148\n",
            "Epoch 00029 | Loss 0.6238 | Time(s) 39.8181 | Accuracy: 75.173319\n",
            "Epoch 00030 | Loss 0.5384 | Time(s) 39.8165 | Accuracy: 75.273997\n",
            "Epoch 00031 | Loss 0.6168 | Time(s) 39.8445 | Accuracy: 75.160575\n",
            "Epoch 00032 | Loss 0.5045 | Time(s) 39.8568 | Accuracy: 75.314778\n",
            "Epoch 00033 | Loss 0.6417 | Time(s) 39.8849 | Accuracy: 75.177142\n",
            "Epoch 00034 | Loss 0.6087 | Time(s) 39.9074 | Accuracy: 75.030586\n",
            "Epoch 00035 | Loss 0.6114 | Time(s) 39.9452 | Accuracy: 75.100678\n",
            "Epoch 00036 | Loss 0.5790 | Time(s) 39.9625 | Accuracy: 74.821583\n",
            "Epoch 00037 | Loss 0.6175 | Time(s) 39.9898 | Accuracy: 74.295254\n",
            "Epoch 00038 | Loss 0.6020 | Time(s) 40.0089 | Accuracy: 73.785492\n",
            "Epoch 00039 | Loss 0.6251 | Time(s) 40.0055 | Accuracy: 74.415048\n",
            "Epoch 00040 | Loss 0.5547 | Time(s) 39.9901 | Accuracy: 74.571800\n",
            "Epoch 00041 | Loss 0.4580 | Time(s) 39.9883 | Accuracy: 74.236631\n",
            "Epoch 00042 | Loss 0.5898 | Time(s) 40.0067 | Accuracy: 74.402304\n",
            "Epoch 00043 | Loss 0.5546 | Time(s) 40.0024 | Accuracy: 73.526788\n",
            "Epoch 00044 | Loss 0.5912 | Time(s) 40.0039 | Accuracy: 72.865372\n",
            "Epoch 00045 | Loss 0.5549 | Time(s) 40.0128 | Accuracy: 72.609216\n",
            "Epoch 00046 | Loss 0.7022 | Time(s) 40.0063 | Accuracy: 73.839017\n",
            "Epoch 00047 | Loss 0.5135 | Time(s) 39.9981 | Accuracy: 73.635112\n",
            "Epoch 00048 | Loss 0.9271 | Time(s) 39.9819 | Accuracy: 73.751083\n",
            "Epoch 00049 | Loss 0.5430 | Time(s) 39.9763 | Accuracy: 73.547178\n",
            "Epoch 00050 | Loss 0.6750 | Time(s) 39.9631 | Accuracy: 73.293572\n",
            "Epoch 00051 | Loss 0.6063 | Time(s) 39.9464 | Accuracy: 73.172503\n",
            "Epoch 00052 | Loss 0.4997 | Time(s) 39.9325 | Accuracy: 73.138095\n",
            "Epoch 00053 | Loss 0.7441 | Time(s) 39.9172 | Accuracy: 72.907427\n",
            "Epoch 00054 | Loss 0.4026 | Time(s) 39.8926 | Accuracy: 72.717541\n",
            "Epoch 00055 | Loss 0.6397 | Time(s) 39.8796 | Accuracy: 72.384921\n",
            "Epoch 00056 | Loss 0.5077 | Time(s) 39.8652 | Accuracy: 71.880257\n",
            "Epoch 00057 | Loss 1.2664 | Time(s) 39.8518 | Accuracy: 73.076923\n",
            "Epoch 00058 | Loss 0.4221 | Time(s) 39.8390 | Accuracy: 72.856451\n",
            "Epoch 00059 | Loss 0.6561 | Time(s) 39.8204 | Accuracy: 71.755365\n",
            "Epoch 00060 | Loss 0.4873 | Time(s) 39.8038 | Accuracy: 70.682316\n",
            "Epoch 00061 | Loss 0.5686 | Time(s) 39.7951 | Accuracy: 71.802518\n",
            "Epoch 00062 | Loss 0.4827 | Time(s) 39.7848 | Accuracy: 71.160218\n",
            "Epoch 00063 | Loss 0.7836 | Time(s) 39.7724 | Accuracy: 69.471632\n",
            "Epoch 00064 | Loss 0.5695 | Time(s) 39.7729 | Accuracy: 67.840394\n",
            "Results stored\n"
          ],
          "name": "stdout"
        }
      ]
    },
    {
      "cell_type": "markdown",
      "metadata": {
        "id": "DjvSIfKTdIgA",
        "colab_type": "text"
      },
      "source": [
        "#On graphic (our algorithm)"
      ]
    },
    {
      "cell_type": "code",
      "metadata": {
        "colab_type": "code",
        "id": "HJAqZbH4Makd",
        "colab": {}
      },
      "source": [
        "accPointsPubMed_our = [0]*n_of_epochs\n",
        "lossPointsPubMed_our = [0]*n_of_epochs\n",
        "\n",
        "for d in range(n_of_training_cycles):\n",
        "  for i in range(n_of_epochs):\n",
        "    accPointsPubMed_our[i] = accPointsPubMed_our[i] + averageAccPubMed_our[d][i]\n",
        "    lossPointsPubMed_our[i] = lossPointsPubMed_our[i] + averageLossPubMed_our[d][i]\n",
        "\n",
        "for i in range(n_of_epochs):\n",
        "  accPointsPubMed_our[i] = accPointsPubMed_our[i]/n_of_training_cycles\n",
        "  lossPointsPubMed_our[i] = lossPointsPubMed_our[i]/n_of_training_cycles"
      ],
      "execution_count": 0,
      "outputs": []
    },
    {
      "cell_type": "code",
      "metadata": {
        "id": "4wkuOEgTMrDI",
        "colab_type": "code",
        "outputId": "9474a904-75c4-44cc-f75a-2283ca0cb855",
        "colab": {
          "base_uri": "https://localhost:8080/",
          "height": 34
        }
      },
      "source": [
        "maxAccPubMed_our = np.argmax(accPointsPubMed_our)\n",
        "maxAccPubMed_our"
      ],
      "execution_count": 0,
      "outputs": [
        {
          "output_type": "execute_result",
          "data": {
            "text/plain": [
              "32"
            ]
          },
          "metadata": {
            "tags": []
          },
          "execution_count": 50
        }
      ]
    },
    {
      "cell_type": "markdown",
      "metadata": {
        "id": "JLpUCy3YdMdo",
        "colab_type": "text"
      },
      "source": [
        "Accuracy of our algorithm"
      ]
    },
    {
      "cell_type": "code",
      "metadata": {
        "id": "-v9sNpqyQboC",
        "colab_type": "code",
        "colab": {}
      },
      "source": [
        "axisX = range(n_of_epochs)\n",
        "\n",
        "plt.plot(axisX, accPointsPubMed_our, color='orange', label='PubMed')\n",
        "#plt.plot(axisX, pointsPubMed, color='blue', label='PubMed')\n",
        "plt.plot([maxAccPubMed_our], accPointsPubMed_our[maxAccPubMed_our], marker='o', color='red')\n",
        "#plt.plot([maxAccPubMed], pointsPubMed[maxAccPubMed], marker='o', color='blue')\n",
        "plt.legend()\n",
        "plt.show()"
      ],
      "execution_count": 0,
      "outputs": []
    },
    {
      "cell_type": "code",
      "metadata": {
        "colab_type": "code",
        "id": "WaxZKGbNQpGw",
        "outputId": "38002bb7-49f9-41b9-fa87-714d7a3def00",
        "colab": {
          "base_uri": "https://localhost:8080/",
          "height": 34
        }
      },
      "source": [
        "print(\"Max accuracy PubMed at {:03d} epochs with value {:05f}\"\n",
        "  .format(maxAccPubMed_our, accPointsPubMed_our[maxAccPubMed_our]))\n",
        "#print(\"Max accuracy PubMed at {:03d} epochs with value {:05f}\"\n",
        "#  .format(maxAccPubMed, pointsPubMed[maxAccPubMed]))"
      ],
      "execution_count": 0,
      "outputs": [
        {
          "output_type": "stream",
          "text": [
            "Max accuracy Cora at 032 epochs with value 75.314778\n"
          ],
          "name": "stdout"
        }
      ]
    },
    {
      "cell_type": "markdown",
      "metadata": {
        "id": "LdFEyVh0dQow",
        "colab_type": "text"
      },
      "source": [
        "Loss values of our algorithm"
      ]
    },
    {
      "cell_type": "code",
      "metadata": {
        "colab_type": "code",
        "id": "wCO9VsNgQ8bC",
        "colab": {}
      },
      "source": [
        "plt.plot(axisX, lossPointsPubMed_our, color='orange', label='PubMed')\n",
        "#plt.plot(axisX, pointsLossPubMed, color='blue', label='PubMed')\n",
        "plt.plot([maxAccPubMed_our], lossPointsPubMed_our[maxAccPubMed_our], marker='o', color='red')\n",
        "#plt.plot([maxAccPubMed], pointsLossPubMed[maxAccPubMed].item(), marker='o',color='blue')\n",
        "plt.legend()\n",
        "plt.show()"
      ],
      "execution_count": 0,
      "outputs": []
    },
    {
      "cell_type": "code",
      "metadata": {
        "colab_type": "code",
        "id": "wi2Qzd5YRGdg",
        "outputId": "acd105f6-b41c-4055-a7b8-45cefadb75b4",
        "colab": {
          "base_uri": "https://localhost:8080/",
          "height": 34
        }
      },
      "source": [
        "print(\"For PubMed, at epoch {:03d}, loss was {:05f}\"\n",
        "  .format(maxAccPubMed_our, lossPointsPubMed_our[maxAccPubMed_our]))\n",
        "#print(\"For PubMed, at epoch {:03d}, loss was {:05f}\"\n",
        "#  .format(maxAccPubMed, pointsLossPubMed[maxAccPubMed]))"
      ],
      "execution_count": 0,
      "outputs": [
        {
          "output_type": "stream",
          "text": [
            "For Cora, at epoch 032, loss was 0.569470\n"
          ],
          "name": "stdout"
        }
      ]
    },
    {
      "cell_type": "markdown",
      "metadata": {
        "id": "ZdOKWGe-SB94",
        "colab_type": "text"
      },
      "source": [
        "#Comparison"
      ]
    },
    {
      "cell_type": "markdown",
      "metadata": {
        "id": "4jej5As7dUUs",
        "colab_type": "text"
      },
      "source": [
        "Comparison between accuracy of both algorithms. The red dots show the maximum values reached."
      ]
    },
    {
      "cell_type": "code",
      "metadata": {
        "id": "t4jkhpiISEL5",
        "colab_type": "code",
        "colab": {}
      },
      "source": [
        "plt.plot(axisX, accPointsPubMed, color='orange', label='PubMed')\n",
        "plt.plot(axisX, accPointsPubMed_our, color='blue', label='Our PubMed')\n",
        "plt.plot([maxAccPubMed], accPointsPubMed[maxAccPubMed], marker='o', color ='red')\n",
        "plt.plot([maxAccPubMed_our], accPointsPubMed_our[maxAccPubMed_our], marker='o', color='red')\n",
        "\n",
        "plt.legend()\n",
        "plt.show()"
      ],
      "execution_count": 0,
      "outputs": []
    },
    {
      "cell_type": "markdown",
      "metadata": {
        "id": "cX2zNuYpdfHI",
        "colab_type": "text"
      },
      "source": [
        "Comparison between the loss values of both algorithm. The red dots shows the loss values when the accuracy is at its maximum."
      ]
    },
    {
      "cell_type": "code",
      "metadata": {
        "id": "4WAxIo0lSv28",
        "colab_type": "code",
        "colab": {}
      },
      "source": [
        "plt.plot(axisX, lossPointsPubMed, color='orange', label='PubMed')\n",
        "plt.plot(axisX, lossPointsPubMed_our, color='blue', label='Our PubMed')\n",
        "plt.plot([maxAccPubMed], lossPointsPubMed[maxAccPubMed], marker='o', color ='red')\n",
        "plt.plot([maxAccPubMed_our], lossPointsPubMed_our[maxAccPubMed_our], marker='o', color='red')\n",
        "\n",
        "plt.legend()\n",
        "plt.show()"
      ],
      "execution_count": 0,
      "outputs": []
    }
  ]
}