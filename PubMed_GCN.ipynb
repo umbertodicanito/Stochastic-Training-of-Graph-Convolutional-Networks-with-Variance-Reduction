{
  "nbformat": 4,
  "nbformat_minor": 0,
  "metadata": {
    "kernelspec": {
      "name": "python3",
      "display_name": "Python 3"
    },
    "language_info": {
      "codemirror_mode": {
        "name": "ipython",
        "version": 3
      },
      "file_extension": ".py",
      "mimetype": "text/x-python",
      "name": "python",
      "nbconvert_exporter": "python",
      "pygments_lexer": "ipython3",
      "version": "3.7.3"
    },
    "colab": {
      "name": "PubMed_GCN.ipynb",
      "provenance": [],
      "collapsed_sections": [],
      "include_colab_link": true
    },
    "accelerator": "GPU"
  },
  "cells": [
    {
      "cell_type": "markdown",
      "metadata": {
        "id": "view-in-github",
        "colab_type": "text"
      },
      "source": [
        "<a href=\"https://colab.research.google.com/github/umbertodicanito/Stochastic-Training-of-Graph-Convolutional-Networks-with-Variance-Reduction/blob/master/PubMed_GCN.ipynb\" target=\"_parent\"><img src=\"https://colab.research.google.com/assets/colab-badge.svg\" alt=\"Open In Colab\"/></a>"
      ]
    },
    {
      "cell_type": "code",
      "metadata": {
        "id": "inaEyeyeN3mP",
        "colab_type": "code",
        "colab": {}
      },
      "source": [
        "%matplotlib inline"
      ],
      "execution_count": 0,
      "outputs": []
    },
    {
      "cell_type": "markdown",
      "metadata": {
        "id": "h_H7tdbpN3mV",
        "colab_type": "text"
      },
      "source": [
        "\n",
        "\n",
        "Graph Convolutional Network\n",
        "====================================\n",
        "\n",
        "**Author:** `Qi Huang <https://github.com/HQ01>`_, `Minjie Wang  <https://jermainewang.github.io/>`_,\n",
        "Yu Gai, Quan Gan, Zheng Zhang\n",
        "\n",
        "This is a gentle introduction of using DGL to implement Graph Convolutional\n",
        "Networks (Kipf & Welling et al., `Semi-Supervised Classification with Graph\n",
        "Convolutional Networks <https://arxiv.org/pdf/1609.02907.pdf>`_). We build upon\n",
        "the :doc:`earlier tutorial <../../basics/3_pagerank>` on DGLGraph and demonstrate\n",
        "how DGL combines graph with deep neural network and learn structural representations.\n"
      ]
    },
    {
      "cell_type": "markdown",
      "metadata": {
        "id": "D1GVRCyIN3mW",
        "colab_type": "text"
      },
      "source": [
        "Model Overview\n",
        "------------------------------------------\n",
        "GCN from the perspective of message passing\n",
        "```````````````````````````````````````````````\n",
        "We describe a layer of graph convolutional neural network from a message\n",
        "passing perspective; the math can be found `here <math_>`_.\n",
        "It boils down to the following step, for each node $u$:\n",
        "\n",
        "1) Aggregate neighbors' representations $h_{v}$ to produce an\n",
        "intermediate representation $\\hat{h}_u$.  2) Transform the aggregated\n",
        "representation $\\hat{h}_{u}$ with a linear projection followed by a\n",
        "non-linearity: $h_{u} = f(W_{u} \\hat{h}_u)$.\n",
        "\n",
        "We will implement step 1 with DGL message passing, and step 2 with the\n",
        "``apply_nodes`` method, whose node UDF will be a PyTorch ``nn.Module``.\n",
        "\n",
        "GCN implementation with DGL\n",
        "``````````````````````````````````````````\n",
        "We first define the message and reduce function as usual.  Since the\n",
        "aggregation on a node $u$ only involves summing over the neighbors'\n",
        "representations $h_v$, we can simply use builtin functions:\n",
        "\n"
      ]
    },
    {
      "cell_type": "code",
      "metadata": {
        "id": "xh4yOJOUN5kV",
        "colab_type": "code",
        "outputId": "3c39cd10-63e7-47fe-f972-904940a7c747",
        "colab": {
          "base_uri": "https://localhost:8080/",
          "height": 104
        }
      },
      "source": [
        "!pip install dgl"
      ],
      "execution_count": 0,
      "outputs": [
        {
          "output_type": "stream",
          "text": [
            "Requirement already satisfied: dgl in /usr/local/lib/python3.6/dist-packages (0.4.1)\n",
            "Requirement already satisfied: numpy>=1.14.0 in /usr/local/lib/python3.6/dist-packages (from dgl) (1.17.4)\n",
            "Requirement already satisfied: networkx>=2.1 in /usr/local/lib/python3.6/dist-packages (from dgl) (2.4)\n",
            "Requirement already satisfied: scipy>=1.1.0 in /usr/local/lib/python3.6/dist-packages (from dgl) (1.3.2)\n",
            "Requirement already satisfied: decorator>=4.3.0 in /usr/local/lib/python3.6/dist-packages (from networkx>=2.1->dgl) (4.4.1)\n"
          ],
          "name": "stdout"
        }
      ]
    },
    {
      "cell_type": "code",
      "metadata": {
        "id": "oVHZxjokN3mX",
        "colab_type": "code",
        "colab": {}
      },
      "source": [
        "import dgl\n",
        "import dgl.function as fn\n",
        "import torch as th\n",
        "import torch.nn as nn\n",
        "import torch.nn.functional as F\n",
        "from dgl import DGLGraph\n",
        "from google.colab import files\n",
        "import warnings\n",
        "import matplotlib.pyplot as plt\n",
        "\n",
        "gcn_msg = fn.copy_src(src='h', out='m')\n",
        "gcn_reduce = fn.sum(msg='m', out='h')"
      ],
      "execution_count": 0,
      "outputs": []
    },
    {
      "cell_type": "markdown",
      "metadata": {
        "id": "IgeKlv_CN3ma",
        "colab_type": "text"
      },
      "source": [
        "We then define the node UDF for ``apply_nodes``, which is a fully-connected layer:\n",
        "\n"
      ]
    },
    {
      "cell_type": "code",
      "metadata": {
        "id": "xcTM-w1gN3mb",
        "colab_type": "code",
        "colab": {}
      },
      "source": [
        "class NodeApplyModule(nn.Module):\n",
        "    def __init__(self, in_feats, out_feats, activation):\n",
        "        super(NodeApplyModule, self).__init__()\n",
        "        self.linear = nn.Linear(in_feats, out_feats)\n",
        "        self.activation = activation\n",
        "\n",
        "    def forward(self, node):\n",
        "        #M=(P'_l*(H_l-H'_l)+P*H'_l)\n",
        "        #H_l = node.data['h']\n",
        "        #P' dato da alg. 1\n",
        "        #H' dato da alg. 1\n",
        "        #P ricavata inizialmente da noi\n",
        "        #z = self.linear(M)\n",
        "        z = self.linear(node.data['h'])\n",
        "        h = self.activation(z)\n",
        "        return {'h' : h}"
      ],
      "execution_count": 0,
      "outputs": []
    },
    {
      "cell_type": "markdown",
      "metadata": {
        "id": "lD1DNkN8N3md",
        "colab_type": "text"
      },
      "source": [
        "We then proceed to define the GCN module. A GCN layer essentially performs\n",
        "message passing on all the nodes then applies the `NodeApplyModule`. Note\n",
        "that we omitted the dropout in the paper for simplicity.\n",
        "\n"
      ]
    },
    {
      "cell_type": "code",
      "metadata": {
        "id": "dQy_eUuWN3me",
        "colab_type": "code",
        "colab": {}
      },
      "source": [
        "class GCN(nn.Module):\n",
        "    def __init__(self, in_feats, out_feats, activation):\n",
        "        super(GCN, self).__init__()\n",
        "        self.apply_mod = NodeApplyModule(in_feats, out_feats, activation)\n",
        "\n",
        "    def forward(self, g, feature):\n",
        "        g.ndata['h'] = feature\n",
        "        g.update_all(gcn_msg, gcn_reduce)\n",
        "        g.apply_nodes(func=self.apply_mod)\n",
        "        return g.ndata.pop('h')"
      ],
      "execution_count": 0,
      "outputs": []
    },
    {
      "cell_type": "markdown",
      "metadata": {
        "id": "QEMMI4CXN3mh",
        "colab_type": "text"
      },
      "source": [
        "The forward function is essentially the same as any other commonly seen NNs\n",
        "model in PyTorch.  We can initialize GCN like any ``nn.Module``. For example,\n",
        "let's define a simple neural network consisting of two GCN layers. Suppose we\n",
        "are training the classifier for the cora dataset (the input feature size is\n",
        "1433 and the number of classes is 7).\n",
        "\n"
      ]
    },
    {
      "cell_type": "markdown",
      "metadata": {
        "id": "6V5DJfryN3mk",
        "colab_type": "text"
      },
      "source": [
        "We load the cora dataset using DGL's built-in data module.\n",
        "\n"
      ]
    },
    {
      "cell_type": "markdown",
      "metadata": {
        "id": "tFzGHVDwN3mn",
        "colab_type": "text"
      },
      "source": [
        "We then train the network as follows:\n",
        "\n"
      ]
    },
    {
      "cell_type": "markdown",
      "metadata": {
        "id": "EjpktR49N3mq",
        "colab_type": "text"
      },
      "source": [
        "\n",
        "GCN in one formula\n",
        "------------------\n",
        "Mathematically, the GCN model follows this formula:\n",
        "\n",
        "$H^{(l+1)} = \\sigma(\\tilde{D}^{-\\frac{1}{2}}\\tilde{A}\\tilde{D}^{-\\frac{1}{2}}H^{(l)}W^{(l)})$\n",
        "\n",
        "Here, $H^{(l)}$ denotes the $l^{th}$ layer in the network,\n",
        "$\\sigma$ is the non-linearity, and $W$ is the weight matrix for\n",
        "this layer. $D$ and $A$, as commonly seen, represent degree\n",
        "matrix and adjacency matrix, respectively. The ~ is a renormalization trick\n",
        "in which we add a self-connection to each node of the graph, and build the\n",
        "corresponding degree and adjacency matrix.  The shape of the input\n",
        "$H^{(0)}$ is $N \\times D$, where $N$ is the number of nodes\n",
        "and $D$ is the number of input features. We can chain up multiple\n",
        "layers as such to produce a node-level representation output with shape\n",
        "$(N \\times F)$, where $F$ is the dimension of the output node\n",
        "feature vector.\n",
        "\n",
        "The equation can be efficiently implemented using sparse matrix\n",
        "multiplication kernels (such as Kipf's\n",
        "`pygcn <https://github.com/tkipf/pygcn>`_ code). The above DGL implementation\n",
        "in fact has already used this trick due to the use of builtin functions. To\n",
        "understand what is under the hood, please read our tutorial on :doc:`PageRank <../../basics/3_pagerank>`.\n",
        "\n"
      ]
    },
    {
      "cell_type": "markdown",
      "metadata": {
        "id": "XsBlftnSP1j9",
        "colab_type": "text"
      },
      "source": [
        "#What is been done?"
      ]
    },
    {
      "cell_type": "markdown",
      "metadata": {
        "id": "1HVrkRvcdsFk",
        "colab_type": "text"
      },
      "source": [
        "#Let's try it with PubMed"
      ]
    },
    {
      "cell_type": "code",
      "metadata": {
        "colab_type": "code",
        "id": "v0PuVb1dtPaC",
        "outputId": "ba787820-9bda-444b-8497-4a17dd9d3bc9",
        "colab": {
          "base_uri": "https://localhost:8080/",
          "height": 381
        }
      },
      "source": [
        "from dgl.data import citation_graph as citegrh\n",
        "import networkx as nx\n",
        "def load_pubmed_data():\n",
        "    data = citegrh.load_pubmed()\n",
        "    features = th.FloatTensor(data.features)\n",
        "    labels = th.LongTensor(data.labels)\n",
        "    mask = th.ByteTensor(data.train_mask)\n",
        "    g = data.graph\n",
        "    print(g)\n",
        "    # add self loop\n",
        "    g.remove_edges_from(nx.selfloop_edges(g))\n",
        "    g = DGLGraph(g)\n",
        "    g.add_edges(g.nodes(), g.nodes())\n",
        "    return g, features, labels, mask\n",
        "\n",
        "load_pubmed_data()"
      ],
      "execution_count": 0,
      "outputs": [
        {
          "output_type": "stream",
          "text": [
            "Finished data loading and preprocessing.\n",
            "  NumNodes: 19717\n",
            "  NumEdges: 88651\n",
            "  NumFeats: 500\n",
            "  NumClasses: 3\n",
            "  NumTrainingSamples: 60\n",
            "  NumValidationSamples: 500\n",
            "  NumTestSamples: 1000\n",
            "\n"
          ],
          "name": "stdout"
        },
        {
          "output_type": "execute_result",
          "data": {
            "text/plain": [
              "(DGLGraph(num_nodes=19717, num_edges=108365,\n",
              "          ndata_schemes={}\n",
              "          edata_schemes={}),\n",
              " tensor([[0.0000, 0.0000, 0.0000,  ..., 0.0000, 0.0000, 0.0000],\n",
              "         [0.0000, 0.0000, 0.0000,  ..., 0.0000, 0.0000, 0.0000],\n",
              "         [0.0554, 0.0000, 0.0000,  ..., 0.0000, 0.0000, 0.0000],\n",
              "         ...,\n",
              "         [0.0000, 0.0114, 0.0047,  ..., 0.0000, 0.0000, 0.0000],\n",
              "         [0.0531, 0.0000, 0.0000,  ..., 0.0000, 0.0000, 0.0000],\n",
              "         [0.0000, 0.0145, 0.0000,  ..., 0.0000, 0.0000, 0.0000]]),\n",
              " tensor([1, 1, 0,  ..., 2, 0, 2]),\n",
              " tensor([1, 1, 1,  ..., 0, 0, 0], dtype=torch.uint8))"
            ]
          },
          "metadata": {
            "tags": []
          },
          "execution_count": 6
        }
      ]
    },
    {
      "cell_type": "code",
      "metadata": {
        "colab_type": "code",
        "outputId": "57e2c5ac-bd71-4f47-c8d6-03486a001365",
        "id": "DT-2pX1Ku1Ac",
        "colab": {
          "base_uri": "https://localhost:8080/",
          "height": 225
        }
      },
      "source": [
        "class NetPubMed(nn.Module):\n",
        "    def __init__(self):\n",
        "        super(NetPubMed, self).__init__()\n",
        "        self.gcn1 = GCN(500, 30, F.relu)\n",
        "        self.gcn2 = GCN(30, 3, F.relu)\n",
        "    \n",
        "    def forward(self, g, features):\n",
        "        x = self.gcn1(g, features)\n",
        "        x = self.gcn2(g, x)\n",
        "        return x\n",
        "netpm = NetPubMed()\n",
        "print(netpm)"
      ],
      "execution_count": 0,
      "outputs": [
        {
          "output_type": "stream",
          "text": [
            "NetPubMed(\n",
            "  (gcn1): GCN(\n",
            "    (apply_mod): NodeApplyModule(\n",
            "      (linear): Linear(in_features=500, out_features=30, bias=True)\n",
            "    )\n",
            "  )\n",
            "  (gcn2): GCN(\n",
            "    (apply_mod): NodeApplyModule(\n",
            "      (linear): Linear(in_features=30, out_features=3, bias=True)\n",
            "    )\n",
            "  )\n",
            ")\n"
          ],
          "name": "stdout"
        }
      ]
    },
    {
      "cell_type": "code",
      "metadata": {
        "colab_type": "code",
        "id": "uKpWhMWxwOpn",
        "outputId": "66314284-34cd-4df0-ff54-5f6c215c9bdb",
        "colab": {
          "base_uri": "https://localhost:8080/",
          "height": 1000
        }
      },
      "source": [
        "import time\n",
        "import numpy as np\n",
        "warnings.filterwarnings('ignore')\n",
        "\n",
        "#points for graph\n",
        "pointsPubMed = []\n",
        "pointsLossPubMed = []\n",
        "\n",
        "#get data\n",
        "g, features, labels, mask = load_pubmed_data()\n",
        "print(g)\n",
        "\n",
        "#get how many 1 are in 'mask'\n",
        "maskLen = 0\n",
        "for m in mask:\n",
        "  if m.item() == 1:\n",
        "    maskLen = maskLen + 1\n",
        "\n",
        "#?\n",
        "optimizer = th.optim.Adam(netpm.parameters(), lr=2e-2)\n",
        "dur = []\n",
        "for epoch in range(200):\n",
        "    if epoch >=3:\n",
        "        t0 = time.time()\n",
        "\n",
        "    #calling 'net(...)' it asks to the GCN to compute the forward     \n",
        "    logits = netpm(g, features)\n",
        "    logp = F.log_softmax(logits, 1)\n",
        "\n",
        "    #compute loss like the negative log likelihood loss\n",
        "    loss = F.nll_loss(logp[mask], labels[mask])\n",
        "    \n",
        "    \n",
        "    #Since the backward() function accumulates gradients, and you \n",
        "    #don’t want to mix up gradients between minibatches, you have \n",
        "    #to zero them out at the start of a new minibatch. This is \n",
        "    #exactly like how a general (additive) accumulator variable is \n",
        "    #initialized to 0 in code.\n",
        "    optimizer.zero_grad()\n",
        "\n",
        "    #update network weights by loss\n",
        "    loss.backward()\n",
        "\n",
        "    #update optimizer's values after backward\n",
        "    optimizer.step()\n",
        "\n",
        "    #computing accuracy\n",
        "    i = 0\n",
        "    matched = 0\n",
        "    while i < 19717:\n",
        "      if mask[i] == 0:\n",
        "        #getting index of the maximum\n",
        "        j = 0\n",
        "        max = None\n",
        "        jMax = 0\n",
        "        for a in logp[i]:\n",
        "          if max==None:\n",
        "            max = a.item()\n",
        "            jMax = j\n",
        "          elif max < a.item():\n",
        "            max = a.item()\n",
        "            jMax = j\n",
        "          j = j + 1\n",
        "        if jMax == labels[i]:\n",
        "          matched = matched + 1\n",
        "      i = i + 1\n",
        "    acc = matched/(19717-maskLen)*100\n",
        "\n",
        "    pointsPubMed.append(acc)\n",
        "    pointsLossPubMed.append(loss)\n",
        "    if epoch >=3:\n",
        "        dur.append(time.time() - t0)\n",
        "    \n",
        "    print(\"Epoch {:05d} | Loss {:.4f} | Time(s) {:.4f} | Accuracy: {:.6f}\".format(\n",
        "            epoch, loss.item(), np.mean(dur), acc))"
      ],
      "execution_count": 0,
      "outputs": [
        {
          "output_type": "stream",
          "text": [
            "Finished data loading and preprocessing.\n",
            "  NumNodes: 19717\n",
            "  NumEdges: 88651\n",
            "  NumFeats: 500\n",
            "  NumClasses: 3\n",
            "  NumTrainingSamples: 60\n",
            "  NumValidationSamples: 500\n",
            "  NumTestSamples: 1000\n",
            "\n",
            "DGLGraph(num_nodes=19717, num_edges=108365,\n",
            "         ndata_schemes={}\n",
            "         edata_schemes={})\n",
            "Epoch 00000 | Loss 1.1014 | Time(s) nan | Accuracy: 35.498804\n",
            "Epoch 00001 | Loss 0.9555 | Time(s) nan | Accuracy: 50.358651\n",
            "Epoch 00002 | Loss 0.8423 | Time(s) nan | Accuracy: 53.970596\n",
            "Epoch 00003 | Loss 0.7822 | Time(s) 1.4832 | Accuracy: 54.077428\n",
            "Epoch 00004 | Loss 0.7094 | Time(s) 1.4761 | Accuracy: 52.627563\n",
            "Epoch 00005 | Loss 0.6610 | Time(s) 1.4853 | Accuracy: 52.332502\n",
            "Epoch 00006 | Loss 0.6080 | Time(s) 1.4840 | Accuracy: 55.919011\n",
            "Epoch 00007 | Loss 0.5429 | Time(s) 1.4856 | Accuracy: 58.228621\n",
            "Epoch 00008 | Loss 0.4838 | Time(s) 1.4877 | Accuracy: 62.827491\n",
            "Epoch 00009 | Loss 0.4106 | Time(s) 1.4936 | Accuracy: 70.203999\n",
            "Epoch 00010 | Loss 0.3376 | Time(s) 1.5025 | Accuracy: 75.998372\n",
            "Epoch 00011 | Loss 0.2801 | Time(s) 1.5086 | Accuracy: 76.491835\n",
            "Epoch 00012 | Loss 0.2397 | Time(s) 1.5107 | Accuracy: 75.016534\n",
            "Epoch 00013 | Loss 0.2062 | Time(s) 1.5084 | Accuracy: 74.451849\n",
            "Epoch 00014 | Loss 0.1750 | Time(s) 1.5067 | Accuracy: 74.584118\n",
            "Epoch 00015 | Loss 0.1407 | Time(s) 1.5067 | Accuracy: 75.265809\n",
            "Epoch 00016 | Loss 0.1210 | Time(s) 1.5048 | Accuracy: 76.288345\n",
            "Epoch 00017 | Loss 0.0850 | Time(s) 1.5038 | Accuracy: 76.273083\n",
            "Epoch 00018 | Loss 0.0740 | Time(s) 1.5032 | Accuracy: 76.349392\n",
            "Epoch 00019 | Loss 0.0651 | Time(s) 1.5030 | Accuracy: 76.374828\n",
            "Epoch 00020 | Loss 0.0561 | Time(s) 1.5025 | Accuracy: 76.359567\n",
            "Epoch 00021 | Loss 0.0481 | Time(s) 1.5019 | Accuracy: 76.456224\n",
            "Epoch 00022 | Loss 0.0421 | Time(s) 1.5038 | Accuracy: 76.522358\n",
            "Epoch 00023 | Loss 0.0373 | Time(s) 1.5041 | Accuracy: 76.583405\n",
            "Epoch 00024 | Loss 0.0335 | Time(s) 1.5061 | Accuracy: 76.573231\n",
            "Epoch 00025 | Loss 0.0305 | Time(s) 1.5078 | Accuracy: 76.512184\n",
            "Epoch 00026 | Loss 0.0421 | Time(s) 1.5078 | Accuracy: 76.527446\n",
            "Epoch 00027 | Loss 0.0280 | Time(s) 1.5081 | Accuracy: 76.395177\n",
            "Epoch 00028 | Loss 0.0176 | Time(s) 1.5081 | Accuracy: 75.983110\n",
            "Epoch 00029 | Loss 0.0136 | Time(s) 1.5091 | Accuracy: 74.294145\n",
            "Epoch 00030 | Loss 0.2569 | Time(s) 1.5095 | Accuracy: 72.732360\n",
            "Epoch 00031 | Loss 0.0308 | Time(s) 1.5097 | Accuracy: 73.958386\n",
            "Epoch 00032 | Loss 0.0221 | Time(s) 1.5094 | Accuracy: 74.289057\n",
            "Epoch 00033 | Loss 0.0279 | Time(s) 1.5109 | Accuracy: 74.807956\n",
            "Epoch 00034 | Loss 0.0431 | Time(s) 1.5108 | Accuracy: 74.919876\n",
            "Epoch 00035 | Loss 0.0243 | Time(s) 1.5109 | Accuracy: 75.652439\n",
            "Epoch 00036 | Loss 0.0237 | Time(s) 1.5120 | Accuracy: 75.540520\n",
            "Epoch 00037 | Loss 0.0237 | Time(s) 1.5134 | Accuracy: 74.217836\n",
            "Epoch 00038 | Loss 0.0245 | Time(s) 1.5134 | Accuracy: 72.574655\n",
            "Epoch 00039 | Loss 0.0273 | Time(s) 1.5145 | Accuracy: 70.819555\n",
            "Epoch 00040 | Loss 0.0285 | Time(s) 1.5157 | Accuracy: 70.295569\n",
            "Epoch 00041 | Loss 0.0241 | Time(s) 1.5164 | Accuracy: 71.684387\n",
            "Epoch 00042 | Loss 0.0232 | Time(s) 1.5162 | Accuracy: 72.849367\n",
            "Epoch 00043 | Loss 0.0229 | Time(s) 1.5161 | Accuracy: 73.988910\n",
            "Epoch 00044 | Loss 0.0226 | Time(s) 1.5160 | Accuracy: 74.599379\n",
            "Epoch 00045 | Loss 0.0228 | Time(s) 1.5155 | Accuracy: 74.930050\n",
            "Epoch 00046 | Loss 0.0220 | Time(s) 1.5158 | Accuracy: 75.611741\n",
            "Epoch 00047 | Loss 0.0218 | Time(s) 1.5158 | Accuracy: 75.774533\n",
            "Epoch 00048 | Loss 0.0223 | Time(s) 1.5156 | Accuracy: 75.810144\n",
            "Epoch 00049 | Loss 0.0270 | Time(s) 1.5163 | Accuracy: 75.682963\n",
            "Epoch 00050 | Loss 0.0216 | Time(s) 1.5161 | Accuracy: 75.596480\n",
            "Epoch 00051 | Loss 0.0216 | Time(s) 1.5162 | Accuracy: 75.392990\n",
            "Epoch 00052 | Loss 0.0216 | Time(s) 1.5159 | Accuracy: 74.919876\n",
            "Epoch 00053 | Loss 0.0216 | Time(s) 1.5171 | Accuracy: 74.538332\n",
            "Epoch 00054 | Loss 0.0215 | Time(s) 1.5167 | Accuracy: 74.248359\n",
            "Epoch 00055 | Loss 0.0214 | Time(s) 1.5166 | Accuracy: 73.938037\n",
            "Epoch 00056 | Loss 0.0214 | Time(s) 1.5167 | Accuracy: 73.541232\n",
            "Epoch 00057 | Loss 0.0213 | Time(s) 1.5177 | Accuracy: 73.185125\n",
            "Epoch 00058 | Loss 0.0213 | Time(s) 1.5177 | Accuracy: 72.884977\n",
            "Epoch 00059 | Loss 0.0213 | Time(s) 1.5174 | Accuracy: 72.630615\n",
            "Epoch 00060 | Loss 0.0212 | Time(s) 1.5180 | Accuracy: 72.396602\n",
            "Epoch 00061 | Loss 0.0212 | Time(s) 1.5183 | Accuracy: 72.218548\n",
            "Epoch 00062 | Loss 0.0212 | Time(s) 1.5177 | Accuracy: 72.030320\n",
            "Epoch 00063 | Loss 0.0211 | Time(s) 1.5173 | Accuracy: 71.877703\n",
            "Epoch 00064 | Loss 0.0211 | Time(s) 1.5164 | Accuracy: 71.791219\n",
            "Epoch 00065 | Loss 0.0210 | Time(s) 1.5161 | Accuracy: 71.730172\n",
            "Epoch 00066 | Loss 0.0209 | Time(s) 1.5162 | Accuracy: 71.730172\n",
            "Epoch 00067 | Loss 0.0208 | Time(s) 1.5155 | Accuracy: 71.781045\n",
            "Epoch 00068 | Loss 0.0208 | Time(s) 1.5158 | Accuracy: 71.867528\n",
            "Epoch 00069 | Loss 0.0207 | Time(s) 1.5155 | Accuracy: 71.959099\n",
            "Epoch 00070 | Loss 0.0206 | Time(s) 1.5151 | Accuracy: 72.126978\n",
            "Epoch 00071 | Loss 0.0205 | Time(s) 1.5149 | Accuracy: 72.233810\n",
            "Epoch 00072 | Loss 0.0204 | Time(s) 1.5150 | Accuracy: 72.391514\n",
            "Epoch 00073 | Loss 0.0203 | Time(s) 1.5155 | Accuracy: 72.437300\n",
            "Epoch 00074 | Loss 0.0202 | Time(s) 1.5154 | Accuracy: 72.569568\n",
            "Epoch 00075 | Loss 0.0201 | Time(s) 1.5154 | Accuracy: 72.742534\n",
            "Epoch 00076 | Loss 0.0200 | Time(s) 1.5150 | Accuracy: 72.890065\n",
            "Epoch 00077 | Loss 0.0200 | Time(s) 1.5153 | Accuracy: 73.017246\n",
            "Epoch 00078 | Loss 0.0199 | Time(s) 1.5150 | Accuracy: 73.149514\n",
            "Epoch 00079 | Loss 0.0198 | Time(s) 1.5149 | Accuracy: 73.210561\n",
            "Epoch 00080 | Loss 0.0198 | Time(s) 1.5152 | Accuracy: 73.373353\n",
            "Epoch 00081 | Loss 0.0197 | Time(s) 1.5151 | Accuracy: 73.490360\n",
            "Epoch 00082 | Loss 0.0197 | Time(s) 1.5154 | Accuracy: 73.510709\n",
            "Epoch 00083 | Loss 0.0196 | Time(s) 1.5150 | Accuracy: 73.551407\n",
            "Epoch 00084 | Loss 0.0196 | Time(s) 1.5144 | Accuracy: 73.587017\n",
            "Epoch 00085 | Loss 0.0195 | Time(s) 1.5139 | Accuracy: 73.688762\n",
            "Epoch 00086 | Loss 0.0195 | Time(s) 1.5143 | Accuracy: 73.749809\n",
            "Epoch 00087 | Loss 0.0194 | Time(s) 1.5143 | Accuracy: 73.815943\n",
            "Epoch 00088 | Loss 0.0194 | Time(s) 1.5144 | Accuracy: 73.922776\n",
            "Epoch 00089 | Loss 0.0194 | Time(s) 1.5139 | Accuracy: 73.993997\n",
            "Epoch 00090 | Loss 0.0193 | Time(s) 1.5136 | Accuracy: 74.080480\n",
            "Epoch 00091 | Loss 0.0193 | Time(s) 1.5132 | Accuracy: 74.136440\n",
            "Epoch 00092 | Loss 0.0193 | Time(s) 1.5128 | Accuracy: 74.187312\n",
            "Epoch 00093 | Loss 0.0192 | Time(s) 1.5127 | Accuracy: 74.233098\n",
            "Epoch 00094 | Loss 0.0192 | Time(s) 1.5130 | Accuracy: 74.228010\n",
            "Epoch 00095 | Loss 0.0192 | Time(s) 1.5128 | Accuracy: 74.283970\n",
            "Epoch 00096 | Loss 0.0192 | Time(s) 1.5131 | Accuracy: 74.278883\n",
            "Epoch 00097 | Loss 0.0191 | Time(s) 1.5131 | Accuracy: 74.329755\n",
            "Epoch 00098 | Loss 0.0191 | Time(s) 1.5133 | Accuracy: 74.339930\n",
            "Epoch 00099 | Loss 0.0191 | Time(s) 1.5128 | Accuracy: 74.390802\n",
            "Epoch 00100 | Loss 0.0191 | Time(s) 1.5132 | Accuracy: 74.406064\n",
            "Epoch 00101 | Loss 0.0191 | Time(s) 1.5133 | Accuracy: 74.446762\n",
            "Epoch 00102 | Loss 0.0190 | Time(s) 1.5131 | Accuracy: 74.467111\n",
            "Epoch 00103 | Loss 0.0190 | Time(s) 1.5132 | Accuracy: 74.538332\n",
            "Epoch 00104 | Loss 0.0190 | Time(s) 1.5129 | Accuracy: 74.533245\n",
            "Epoch 00105 | Loss 0.0190 | Time(s) 1.5131 | Accuracy: 74.553594\n",
            "Epoch 00106 | Loss 0.0190 | Time(s) 1.5131 | Accuracy: 74.563769\n",
            "Epoch 00107 | Loss 0.0190 | Time(s) 1.5134 | Accuracy: 74.589205\n",
            "Epoch 00108 | Loss 0.0190 | Time(s) 1.5131 | Accuracy: 74.594292\n",
            "Epoch 00109 | Loss 0.0189 | Time(s) 1.5130 | Accuracy: 74.604467\n",
            "Epoch 00110 | Loss 0.0189 | Time(s) 1.5128 | Accuracy: 74.594292\n",
            "Epoch 00111 | Loss 0.0189 | Time(s) 1.5130 | Accuracy: 74.604467\n",
            "Epoch 00112 | Loss 0.0189 | Time(s) 1.5128 | Accuracy: 74.619728\n",
            "Epoch 00113 | Loss 0.0189 | Time(s) 1.5129 | Accuracy: 74.624816\n",
            "Epoch 00114 | Loss 0.0189 | Time(s) 1.5132 | Accuracy: 74.634990\n",
            "Epoch 00115 | Loss 0.0189 | Time(s) 1.5134 | Accuracy: 74.655339\n",
            "Epoch 00116 | Loss 0.0189 | Time(s) 1.5132 | Accuracy: 74.660426\n",
            "Epoch 00117 | Loss 0.0189 | Time(s) 1.5131 | Accuracy: 74.690950\n",
            "Epoch 00118 | Loss 0.0188 | Time(s) 1.5132 | Accuracy: 74.685863\n",
            "Epoch 00119 | Loss 0.0188 | Time(s) 1.5132 | Accuracy: 74.706212\n",
            "Epoch 00120 | Loss 0.0188 | Time(s) 1.5129 | Accuracy: 74.716386\n",
            "Epoch 00121 | Loss 0.0188 | Time(s) 1.5128 | Accuracy: 74.706212\n",
            "Epoch 00122 | Loss 0.0188 | Time(s) 1.5131 | Accuracy: 74.736735\n",
            "Epoch 00123 | Loss 0.0188 | Time(s) 1.5131 | Accuracy: 74.751997\n",
            "Epoch 00124 | Loss 0.0188 | Time(s) 1.5132 | Accuracy: 74.757084\n",
            "Epoch 00125 | Loss 0.0188 | Time(s) 1.5130 | Accuracy: 74.757084\n",
            "Epoch 00126 | Loss 0.0188 | Time(s) 1.5129 | Accuracy: 74.757084\n",
            "Epoch 00127 | Loss 0.0188 | Time(s) 1.5129 | Accuracy: 74.751997\n",
            "Epoch 00128 | Loss 0.0188 | Time(s) 1.5127 | Accuracy: 74.751997\n",
            "Epoch 00129 | Loss 0.0188 | Time(s) 1.5128 | Accuracy: 74.751997\n",
            "Epoch 00130 | Loss 0.0188 | Time(s) 1.5134 | Accuracy: 74.777433\n",
            "Epoch 00131 | Loss 0.0187 | Time(s) 1.5131 | Accuracy: 74.787607\n",
            "Epoch 00132 | Loss 0.0187 | Time(s) 1.5130 | Accuracy: 74.787607\n",
            "Epoch 00133 | Loss 0.0187 | Time(s) 1.5126 | Accuracy: 74.772346\n",
            "Epoch 00134 | Loss 0.0187 | Time(s) 1.5125 | Accuracy: 74.772346\n",
            "Epoch 00135 | Loss 0.0187 | Time(s) 1.5121 | Accuracy: 74.787607\n",
            "Epoch 00136 | Loss 0.0187 | Time(s) 1.5124 | Accuracy: 74.813044\n",
            "Epoch 00137 | Loss 0.0187 | Time(s) 1.5124 | Accuracy: 74.823218\n",
            "Epoch 00138 | Loss 0.0187 | Time(s) 1.5121 | Accuracy: 74.853742\n",
            "Epoch 00139 | Loss 0.0187 | Time(s) 1.5120 | Accuracy: 74.858829\n",
            "Epoch 00140 | Loss 0.0187 | Time(s) 1.5118 | Accuracy: 74.869003\n",
            "Epoch 00141 | Loss 0.0187 | Time(s) 1.5118 | Accuracy: 74.874091\n",
            "Epoch 00142 | Loss 0.0187 | Time(s) 1.5115 | Accuracy: 74.899527\n",
            "Epoch 00143 | Loss 0.0187 | Time(s) 1.5115 | Accuracy: 74.909701\n",
            "Epoch 00144 | Loss 0.0187 | Time(s) 1.5115 | Accuracy: 74.919876\n",
            "Epoch 00145 | Loss 0.0187 | Time(s) 1.5117 | Accuracy: 74.899527\n",
            "Epoch 00146 | Loss 0.0187 | Time(s) 1.5115 | Accuracy: 74.909701\n",
            "Epoch 00147 | Loss 0.0187 | Time(s) 1.5113 | Accuracy: 74.919876\n",
            "Epoch 00148 | Loss 0.0187 | Time(s) 1.5112 | Accuracy: 74.919876\n",
            "Epoch 00149 | Loss 0.0187 | Time(s) 1.5113 | Accuracy: 74.904614\n",
            "Epoch 00150 | Loss 0.0187 | Time(s) 1.5112 | Accuracy: 74.919876\n",
            "Epoch 00151 | Loss 0.0187 | Time(s) 1.5110 | Accuracy: 74.924963\n",
            "Epoch 00152 | Loss 0.0186 | Time(s) 1.5107 | Accuracy: 74.930050\n",
            "Epoch 00153 | Loss 0.0186 | Time(s) 1.5105 | Accuracy: 74.914789\n",
            "Epoch 00154 | Loss 0.0186 | Time(s) 1.5103 | Accuracy: 74.919876\n",
            "Epoch 00155 | Loss 0.0186 | Time(s) 1.5100 | Accuracy: 74.914789\n",
            "Epoch 00156 | Loss 0.0186 | Time(s) 1.5100 | Accuracy: 74.924963\n",
            "Epoch 00157 | Loss 0.0186 | Time(s) 1.5097 | Accuracy: 74.919876\n",
            "Epoch 00158 | Loss 0.0186 | Time(s) 1.5095 | Accuracy: 74.935138\n",
            "Epoch 00159 | Loss 0.0186 | Time(s) 1.5091 | Accuracy: 74.940225\n",
            "Epoch 00160 | Loss 0.0186 | Time(s) 1.5090 | Accuracy: 74.945312\n",
            "Epoch 00161 | Loss 0.0186 | Time(s) 1.5091 | Accuracy: 74.930050\n",
            "Epoch 00162 | Loss 0.0186 | Time(s) 1.5092 | Accuracy: 74.935138\n",
            "Epoch 00163 | Loss 0.0186 | Time(s) 1.5089 | Accuracy: 74.930050\n",
            "Epoch 00164 | Loss 0.0186 | Time(s) 1.5092 | Accuracy: 74.955487\n",
            "Epoch 00165 | Loss 0.0186 | Time(s) 1.5089 | Accuracy: 74.955487\n",
            "Epoch 00166 | Loss 0.0186 | Time(s) 1.5089 | Accuracy: 74.955487\n",
            "Epoch 00167 | Loss 0.0186 | Time(s) 1.5090 | Accuracy: 74.945312\n",
            "Epoch 00168 | Loss 0.0186 | Time(s) 1.5093 | Accuracy: 74.945312\n",
            "Epoch 00169 | Loss 0.0186 | Time(s) 1.5094 | Accuracy: 74.965661\n",
            "Epoch 00170 | Loss 0.0186 | Time(s) 1.5096 | Accuracy: 74.975836\n",
            "Epoch 00171 | Loss 0.0186 | Time(s) 1.5094 | Accuracy: 74.975836\n",
            "Epoch 00172 | Loss 0.0186 | Time(s) 1.5092 | Accuracy: 74.980923\n",
            "Epoch 00173 | Loss 0.0186 | Time(s) 1.5089 | Accuracy: 74.991097\n",
            "Epoch 00174 | Loss 0.0186 | Time(s) 1.5087 | Accuracy: 74.986010\n",
            "Epoch 00175 | Loss 0.0186 | Time(s) 1.5084 | Accuracy: 74.996185\n",
            "Epoch 00176 | Loss 0.0186 | Time(s) 1.5084 | Accuracy: 75.006359\n",
            "Epoch 00177 | Loss 0.0186 | Time(s) 1.5082 | Accuracy: 75.021621\n",
            "Epoch 00178 | Loss 0.0186 | Time(s) 1.5080 | Accuracy: 75.031795\n",
            "Epoch 00179 | Loss 0.0186 | Time(s) 1.5077 | Accuracy: 75.057232\n",
            "Epoch 00180 | Loss 0.0186 | Time(s) 1.5077 | Accuracy: 75.082668\n",
            "Epoch 00181 | Loss 0.0186 | Time(s) 1.5081 | Accuracy: 75.092842\n",
            "Epoch 00182 | Loss 0.0186 | Time(s) 1.5080 | Accuracy: 75.092842\n",
            "Epoch 00183 | Loss 0.0186 | Time(s) 1.5081 | Accuracy: 75.103017\n",
            "Epoch 00184 | Loss 0.0186 | Time(s) 1.5079 | Accuracy: 75.108104\n",
            "Epoch 00185 | Loss 0.0186 | Time(s) 1.5077 | Accuracy: 75.103017\n",
            "Epoch 00186 | Loss 0.0186 | Time(s) 1.5077 | Accuracy: 75.123366\n",
            "Epoch 00187 | Loss 0.0185 | Time(s) 1.5076 | Accuracy: 75.108104\n",
            "Epoch 00188 | Loss 0.0185 | Time(s) 1.5075 | Accuracy: 75.113191\n",
            "Epoch 00189 | Loss 0.0185 | Time(s) 1.5074 | Accuracy: 75.118278\n",
            "Epoch 00190 | Loss 0.0185 | Time(s) 1.5073 | Accuracy: 75.108104\n",
            "Epoch 00191 | Loss 0.0185 | Time(s) 1.5072 | Accuracy: 75.108104\n",
            "Epoch 00192 | Loss 0.0185 | Time(s) 1.5071 | Accuracy: 75.108104\n",
            "Epoch 00193 | Loss 0.0185 | Time(s) 1.5067 | Accuracy: 75.108104\n",
            "Epoch 00194 | Loss 0.0185 | Time(s) 1.5065 | Accuracy: 75.113191\n",
            "Epoch 00195 | Loss 0.0185 | Time(s) 1.5067 | Accuracy: 75.123366\n",
            "Epoch 00196 | Loss 0.0185 | Time(s) 1.5065 | Accuracy: 75.113191\n",
            "Epoch 00197 | Loss 0.0185 | Time(s) 1.5066 | Accuracy: 75.118278\n",
            "Epoch 00198 | Loss 0.0185 | Time(s) 1.5063 | Accuracy: 75.118278\n",
            "Epoch 00199 | Loss 0.0185 | Time(s) 1.5062 | Accuracy: 75.133540\n"
          ],
          "name": "stdout"
        }
      ]
    },
    {
      "cell_type": "markdown",
      "metadata": {
        "id": "X-ipAEZcN5LT",
        "colab_type": "text"
      },
      "source": [
        "#On graphic"
      ]
    },
    {
      "cell_type": "code",
      "metadata": {
        "id": "V2D980jK1Pi6",
        "colab_type": "code",
        "colab": {}
      },
      "source": [
        "#maxAccCora = np.argmax(pointsCora)\n",
        "maxAccPubMed = np.argmax(pointsPubMed)"
      ],
      "execution_count": 0,
      "outputs": []
    },
    {
      "cell_type": "code",
      "metadata": {
        "id": "w1TBb1GlN7rC",
        "colab_type": "code",
        "outputId": "3691ffea-db4d-4c44-838a-d9888b846692",
        "colab": {
          "base_uri": "https://localhost:8080/",
          "height": 265
        }
      },
      "source": [
        "axisX = range(200)\n",
        "\n",
        "#plt.plot(axisX, pointsCora, color='orange', label='Cora')\n",
        "plt.plot(axisX, pointsPubMed, color='blue', label='PubMed')\n",
        "#plt.plot([maxAccCora], pointsCora[maxAccCora], marker='o', color='orange')\n",
        "plt.plot([maxAccPubMed], pointsPubMed[maxAccPubMed], marker='o', color='blue')\n",
        "plt.legend()\n",
        "plt.show()"
      ],
      "execution_count": 0,
      "outputs": [
        {
          "output_type": "display_data",
          "data": {
            "image/png": "[encoded data removed]",
            "text/plain": [
              "<Figure size 432x288 with 1 Axes>"
            ]
          },
          "metadata": {
            "tags": []
          }
        }
      ]
    },
    {
      "cell_type": "code",
      "metadata": {
        "id": "t5mBRqr82F5e",
        "colab_type": "code",
        "outputId": "770a87e4-1927-4456-ad08-971e4a7b8453",
        "colab": {
          "base_uri": "https://localhost:8080/",
          "height": 35
        }
      },
      "source": [
        "#print(\"Max accuracy Cora at {:03d} epochs with value {:05f}\"\n",
        "#  .format(maxAccCora, pointsCora[maxAccCora]))\n",
        "print(\"Max accuracy PubMed at {:03d} epochs with value {:05f}\"\n",
        "  .format(maxAccPubMed, pointsPubMed[maxAccPubMed]))"
      ],
      "execution_count": 0,
      "outputs": [
        {
          "output_type": "stream",
          "text": [
            "Max accuracy PubMed at 023 epochs with value 76.583405\n"
          ],
          "name": "stdout"
        }
      ]
    },
    {
      "cell_type": "code",
      "metadata": {
        "id": "EdTRUep-4FFJ",
        "colab_type": "code",
        "outputId": "bbc1ef3f-c5a9-4525-ab2f-abdaf9db5d28",
        "colab": {
          "base_uri": "https://localhost:8080/",
          "height": 265
        }
      },
      "source": [
        "#plt.plot(axisX, pointsLossCora, color='orange', label='Cora')\n",
        "plt.plot(axisX, pointsLossPubMed, color='blue', label='PubMed')\n",
        "#plt.plot([maxAccCora], pointsLossCora[maxAccCora].item(), marker='o', color='orange')\n",
        "plt.plot([maxAccPubMed], pointsLossPubMed[maxAccPubMed].item(), marker='o',color='blue')\n",
        "plt.legend()\n",
        "plt.show()"
      ],
      "execution_count": 0,
      "outputs": [
        {
          "output_type": "display_data",
          "data": {
            "image/png": "[encoded data removed]",
            "text/plain": [
              "<Figure size 432x288 with 1 Axes>"
            ]
          },
          "metadata": {
            "tags": []
          }
        }
      ]
    },
    {
      "cell_type": "code",
      "metadata": {
        "id": "7KUKoacJ2t6h",
        "colab_type": "code",
        "outputId": "af6b90cf-77b7-4cfd-bc15-cd359d9d20ff",
        "colab": {
          "base_uri": "https://localhost:8080/",
          "height": 35
        }
      },
      "source": [
        "#print(\"For Cora, at epoch {:03d}, loss was {:05f}\"\n",
        "#  .format(maxAccCora, pointsLossCora[maxAccCora]))\n",
        "print(\"For PubMed, at epoch {:03d}, loss was {:05f}\"\n",
        "  .format(maxAccPubMed, pointsLossPubMed[maxAccPubMed]))"
      ],
      "execution_count": 0,
      "outputs": [
        {
          "output_type": "stream",
          "text": [
            "For PubMed, at epoch 023, loss was 0.037344\n"
          ],
          "name": "stdout"
        }
      ]
    },
    {
      "cell_type": "markdown",
      "metadata": {
        "id": "3nJTtgo-w2MU",
        "colab_type": "text"
      },
      "source": [
        "#Implementing algorithm 1"
      ]
    },
    {
      "cell_type": "code",
      "metadata": {
        "id": "eBBKXtH5yj5x",
        "colab_type": "code",
        "colab": {}
      },
      "source": [
        "#TODO: rivedere algoritmo#\n",
        "\n",
        "#minibatch = np.array of nodes\n",
        "#level = integer representing the level until we want to compute\n",
        "#n = number of neighbors per node in the layer\n",
        "\n",
        "#returning: the receptive fields and the propagation matrices\n",
        "def algOne(minibatch, level, n):\n",
        "  rL = minibatch\n",
        "  l = level\n",
        "  #in the paper n = 2\n",
        "  n=2\n",
        "\n",
        "  receptiveField = dict()\n",
        "  propagationMatrix = dict()\n",
        "\n",
        "  receptiveField[l] = rL\n",
        "\n",
        "  #first for-loop\n",
        "  while l > 0:\n",
        "    field = []\n",
        "    matrixP = np.zeros((2708,2708))\n",
        "    #second for-loop\n",
        "    for node in receptiveField[l]:\n",
        "      if node not in field:\n",
        "        field.append(node)\n",
        "      matrixP[node][node] = matrixP[node][node] + P[node][node] * D[node][0] / n\n",
        "      #collecting n random neighbor\n",
        "      subset = []\n",
        "      if len(neighborForNode[node]) <= n:\n",
        "        subset = neighborForNode[node]\n",
        "      else:\n",
        "        subset = random.sample(neighborForNode[node], k=n)\n",
        "      #last for-loop\n",
        "      for neighbor in subset:\n",
        "        if neighbor not in field:\n",
        "          field.append(neighbor)\n",
        "        matrixP[node][neighbor] = matrixP[node][neighbor] + P[node][neighbor] * D[node][0] / n\n",
        "    \n",
        "    #updating level\n",
        "    l = l - 1\n",
        "    receptiveField[l] = field\n",
        "    propagationMatrix[l] = matrixP\n",
        "  \n",
        "  return [receptiveField, propagationMatrix]\n",
        "\n",
        "#Se sta cosa funziona voglio il Nobel."
      ],
      "execution_count": 0,
      "outputs": []
    }
  ]
}